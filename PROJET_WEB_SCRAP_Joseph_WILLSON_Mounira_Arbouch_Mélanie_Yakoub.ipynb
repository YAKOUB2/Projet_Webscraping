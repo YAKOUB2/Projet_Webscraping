{
  "cells": [
    {
      "cell_type": "markdown",
      "metadata": {
        "id": "h1RfhBeslt5U"
      },
      "source": [
        " <font color='blue'><h2>Pojet Web Scrapping : Meilleurs films en 2022</h2></font></center>\n",
        "\n",
        "\n",
        "\n",
        "\n",
        "\n",
        "\n",
        "\n"
      ]
    },
    {
      "cell_type": "markdown",
      "metadata": {
        "id": "6V1hmgZQjuev"
      },
      "source": [
        "##Sommaire\n",
        "\n",
        "- <font color='green'>Importation des librairies</font>\n",
        "- <font color='blue'>Web Scrapping</font>\n",
        "- <font color='red'>Feature Engineering</font>\n",
        "- <font color='purple'>Analyse Statistique</font>\n",
        "- <font color='orange'>Filtrage et Modèle NLP</font>\n"
      ]
    },
    {
      "cell_type": "markdown",
      "metadata": {
        "id": "mFm4RQ16oX6H"
      },
      "source": [
        "---\n",
        "\n",
        "# Importation des librairies\n",
        "\n",
        "---"
      ]
    },
    {
      "cell_type": "code",
      "execution_count": null,
      "metadata": {
        "colab": {
          "base_uri": "https://localhost:8080/"
        },
        "id": "96ol11ZqctfA",
        "outputId": "84a28c7e-ba5b-4bd4-a700-c1e6f65fe5ac"
      },
      "outputs": [
        {
          "name": "stdout",
          "output_type": "stream",
          "text": [
            "Drive already mounted at /content/drive; to attempt to forcibly remount, call drive.mount(\"/content/drive\", force_remount=True).\n"
          ]
        }
      ],
      "source": [
        "from google.colab import drive\n",
        "drive.mount('/content/drive')"
      ]
    },
    {
      "cell_type": "code",
      "execution_count": null,
      "metadata": {
        "colab": {
          "base_uri": "https://localhost:8080/"
        },
        "id": "Trr1iXbkdI1f",
        "outputId": "a0d3905f-13e5-4917-f1cf-6383fb2f155e"
      },
      "outputs": [
        {
          "name": "stdout",
          "output_type": "stream",
          "text": [
            "Collecting pyspark\n",
            "  Downloading pyspark-3.5.0.tar.gz (316.9 MB)\n",
            "\u001b[2K     \u001b[90m━━━━━━━━━━━━━━━━━━━━━━━━━━━━━━━━━━━━━━━━\u001b[0m \u001b[32m316.9/316.9 MB\u001b[0m \u001b[31m3.3 MB/s\u001b[0m eta \u001b[36m0:00:00\u001b[0m\n",
            "\u001b[?25h  Preparing metadata (setup.py) ... \u001b[?25l\u001b[?25hdone\n",
            "Requirement already satisfied: py4j==0.10.9.7 in /usr/local/lib/python3.10/dist-packages (from pyspark) (0.10.9.7)\n",
            "Building wheels for collected packages: pyspark\n",
            "  Building wheel for pyspark (setup.py) ... \u001b[?25l\u001b[?25hdone\n",
            "  Created wheel for pyspark: filename=pyspark-3.5.0-py2.py3-none-any.whl size=317425345 sha256=89bfece736e17b558f05fabc252bd3f14db07c468544389e3f2ca0e4b058865f\n",
            "  Stored in directory: /root/.cache/pip/wheels/41/4e/10/c2cf2467f71c678cfc8a6b9ac9241e5e44a01940da8fbb17fc\n",
            "Successfully built pyspark\n",
            "Installing collected packages: pyspark\n",
            "Successfully installed pyspark-3.5.0\n"
          ]
        }
      ],
      "source": [
        "!pip install pyspark"
      ]
    },
    {
      "cell_type": "code",
      "execution_count": null,
      "metadata": {
        "colab": {
          "base_uri": "https://localhost:8080/"
        },
        "id": "W3UbLAEZdJfK",
        "outputId": "3a2adb2c-aa4f-4d1a-8a1b-0261d8ff4c18"
      },
      "outputs": [
        {
          "name": "stdout",
          "output_type": "stream",
          "text": [
            "Collecting findspark\n",
            "  Downloading findspark-2.0.1-py2.py3-none-any.whl (4.4 kB)\n",
            "Installing collected packages: findspark\n",
            "Successfully installed findspark-2.0.1\n"
          ]
        }
      ],
      "source": [
        "!pip install findspark"
      ]
    },
    {
      "cell_type": "code",
      "execution_count": null,
      "metadata": {
        "id": "tvNtqDcSdNbQ"
      },
      "outputs": [],
      "source": [
        "import findspark\n",
        "findspark.init()"
      ]
    },
    {
      "cell_type": "code",
      "execution_count": null,
      "metadata": {
        "id": "mc3zYUOJdPVJ"
      },
      "outputs": [],
      "source": [
        "from pyspark import HiveContext ,SparkContext\n",
        "from pyspark.sql import SparkSession\n",
        "from pyspark.sql.functions import col, expr\n",
        "from pyspark.sql.functions import regexp_replace\n",
        "from pyspark.sql.functions import split, col\n",
        "from pyspark.sql.functions import col, explode, split\n",
        "from pyspark.sql.functions import concat_ws\n",
        "from pyspark.sql.functions import udf\n",
        "from pyspark.sql.types import ArrayType, IntegerType\n",
        "from pyspark.sql.functions import when\n",
        "from pyspark.sql.functions import col, round\n",
        "import requests\n",
        "from lxml import html\n",
        "from bs4 import BeautifulSoup\n",
        "import pandas as pd\n"
      ]
    },
    {
      "cell_type": "markdown",
      "metadata": {
        "id": "BWPNr2l5pIVm"
      },
      "source": [
        "---\n",
        "\n",
        "# Web Scrapping\n",
        "\n",
        "---"
      ]
    },
    {
      "cell_type": "markdown",
      "metadata": {
        "id": "4HxZhNWWc1l7"
      },
      "source": [
        "######<font color='orange'>Ici nous avons créé une boucle parcourt les pages (de 1 à 14) contenant les films en 2022 sur Allociné. Pour chaque page, le code extrait des informations telles que le titre, le réalisateur, les acteurs, les notes de la presse et des spectateurs, les genres, la durée, le résumé et le lien vers la bande-annonce.Ensuite les informations extraites sont stockées dans un dictionnaire pour chaque film, puis ces dictionnaires sont ajoutés à une liste films_data.Enfin, la liste de dictionnaires est convertie en un DataFrame pandas pour une analyse et une manipulation plus faciles des données.\n",
        "\n",
        "\n",
        "\n"
      ]
    },
    {
      "cell_type": "code",
      "execution_count": null,
      "metadata": {
        "id": "qZKNkgf0ddy7"
      },
      "outputs": [],
      "source": [
        "films_data = []\n",
        "\n",
        "# Boucle à travers les pages de 1 à 14\n",
        "for page_number in range(1, 15):\n",
        "    url = f\"https://www.allocine.fr/film/meilleurs/decennie-2020/annee-2022/?page={page_number}\"\n",
        "    page = requests.get(url)\n",
        "    tree = html.fromstring(page.content)\n",
        "\n",
        "    # Récupération des données spécifiques à chaque page\n",
        "    films = tree.xpath('//div[@class=\"meta  meta-affintiy-score\"]')\n",
        "\n",
        "    i = 0\n",
        "\n",
        "    for film in films:\n",
        "        # Web scraping pour obtenir le titre, le réalisateur ,le résumé du film\n",
        "\n",
        "        title = film.xpath('.//a[@class=\"meta-title-link\"]/text()')[0]\n",
        "        realisateur = film.xpath('.//a[@class=\"blue-link\"]/text()')\n",
        "        resume = film.xpath('//div[@class=\"content-txt \"]/text()')[i]\n",
        "        i+=1\n",
        "\n",
        "        # Web scraping pour obtenir tous les url des bande d'annonce  des films\n",
        "        trailer_url = \"https://www.allocine.fr\" + film.xpath('.//a[@class=\"meta-title-link\"]/@href')[0] if film.xpath('.//a[@class=\"meta-title-link\"]/@href') else ''\n",
        "        trailer_page = requests.get(trailer_url)\n",
        "        trailer_soup = BeautifulSoup(trailer_page.text, 'html.parser')\n",
        "        # Web scraping pour obtenir toutes les notes\n",
        "\n",
        "        note_spans = trailer_soup.find_all('span', class_='stareval-note')\n",
        "        notes = [note_span.text.strip() for note_span in note_spans]\n",
        "\n",
        "        # Récupération des types et des durées spécifiques à chaque film\n",
        "        types = film.xpath('.//span[contains(@class, \"ACrL2ZACrpbG1z\")]/text()')\n",
        "        durée = film.xpath('.//div[@class=\"meta-body-item meta-body-info\"]/text()')[0]\n",
        "\n",
        "        # Web scraping pour obtenir la liste des acteurs\n",
        "        actors_span = film.xpath('.//div[@class=\"meta-body-item meta-body-actor\"]')[0]\n",
        "        actors = actors_span.xpath('.//a/text()')\n",
        "\n",
        "        # Stockez les données dans un dictionnaire\n",
        "        film_data = {\n",
        "            'Titre': title,\n",
        "            'Réalisateur': ', '.join(realisateur),\n",
        "            'Acteurs': ', '.join(actors),\n",
        "            'Note Presse': notes[0] if len(notes) > 0 else '',\n",
        "            'Note Spectateurs': notes[1] if len(notes) > 1 else '',\n",
        "            'Types': ', '.join(types),\n",
        "            'Durée': durée,\n",
        "            'Résumé': resume,\n",
        "            'Lien de bande-annonce': trailer_url\n",
        "        }\n",
        "\n",
        "        films_data.append(film_data)\n",
        "\n",
        "df = pd.DataFrame(films_data)\n",
        "\n"
      ]
    },
    {
      "cell_type": "code",
      "execution_count": null,
      "metadata": {
        "id": "ByTlTV4ySoIf"
      },
      "outputs": [],
      "source": [
        "df.to_csv('scrapping.csv', index=True)\n"
      ]
    },
    {
      "cell_type": "markdown",
      "metadata": {
        "id": "IHyjKlmgpaki"
      },
      "source": [
        "---\n",
        "\n",
        "# Feature Engineering\n",
        "\n",
        "---"
      ]
    },
    {
      "cell_type": "markdown",
      "metadata": {
        "id": "T55uYeWtCMAl"
      },
      "source": [
        "### <font color='blue'>Importation de la dataframe\n",
        "\n",
        "\n",
        "\n"
      ]
    },
    {
      "cell_type": "code",
      "execution_count": null,
      "metadata": {
        "colab": {
          "base_uri": "https://localhost:8080/"
        },
        "id": "TwscP0f7gaHb",
        "outputId": "d9532bb4-2547-4ee3-88ee-336cb3b23319"
      },
      "outputs": [
        {
          "name": "stdout",
          "output_type": "stream",
          "text": [
            "+-----------------------------------+---------------------------------+-------------------------------------------------+-----------+----------------+--------------------------------------+------------+---------------------------------------------------------------------------------------------------------------------------------------------------------------------------------------------------------------------------------------------------------------------------------------------------------------------------------------------------------------------------------------------------------------------+-------------------------------------------------------------+\n",
            "|Titre                              |Réalisateur                      |Acteurs                                          |Note Presse|Note Spectateurs|Types                                 |Durée       |Résumé                                                                                                                                                                                                                                                                                                                                                                                                               |Lien de bande-annonce                                        |\n",
            "+-----------------------------------+---------------------------------+-------------------------------------------------+-----------+----------------+--------------------------------------+------------+---------------------------------------------------------------------------------------------------------------------------------------------------------------------------------------------------------------------------------------------------------------------------------------------------------------------------------------------------------------------------------------------------------------------+-------------------------------------------------------------+\n",
            "|Top Gun: Maverick                  |Joseph Kosinski                  |Tom Cruise, Miles Teller, Jennifer Connelly      |3,7        |4,3             |Action                                |\\n2h 11min\\n|\\nAprès avoir été l’un des meilleurs pilotes de chasse de la Marine américaine, Pete “Maverick\" Mitchell continue à repousser ses limites en tant que pilote d'essai. Il est chargé de former un détachement de jeunes diplômés de l’école Top Gun pour une mission spéciale qu’aucun pilote n'aurait jamais imaginée.\\n                                                                                             |https://www.allocine.fr/film/fichefilm_gen_cfilm=186636.html |\n",
            "|The Fabelmans                      |Steven Spielberg                 |Gabriel LaBelle, Michelle Williams, Paul Dano    |4,9        |4,3             |Biopic, Drame                         |\\n2h 31min\\n|\\nPortrait profondément intime d’une enfance américaine au XXème siècle, The Fabelmans de Steven Spielberg nous plonge dans l’histoire familiale du cinéaste qui a façonné sa vie personnelle et professionnelle.\\n                                                                                                                                                                                                  |https://www.allocine.fr/film/fichefilm_gen_cfilm=255726.html |\n",
            "|The First Slam Dunk                |Takehiko Inoue                   |Shugo Nakamura, Subaru Kimura, Kenta Miyake      |3,9        |4,2             |Animation, Comédie, Drame             |\\n2h 04min\\n|\\nLe meneur de jeu de Shohoku, Ryota Miyagi, joue toujours intelligemment et à la vitesse de l'éclair, contournant ses adversaires tout en gardant son sang-froid. Ryota fait partie de l'équipe de basket-ball du lycée Shohoku et participe au championnat national inter-lycées.\\n                                                                                                                                |https://www.allocine.fr/film/fichefilm_gen_cfilm=306133.html |\n",
            "|Le Bleu du Caftan                  |Maryam Touzani                   |Lubna Azabal, Saleh Bakri, Ayoub Missioui        |3,8        |4,2             |Drame, Romance                        |\\n2h 02min\\n|\\nHalim est marié depuis longtemps à Mina, avec qui il tient un magasin traditionnel de caftans dans la médina de Salé, au Maroc. Le couple vit depuis toujours avec le secret d’Halim, son homosexualité qu’il a appris à taire.\\n                                                                                                                                                                                  |https://www.allocine.fr/film/fichefilm_gen_cfilm=297895.html |\n",
            "|Avatar : la voie de l'eau          |James Cameron                    |Sam Worthington, Zoe Saldana, Sigourney Weaver   |4,1        |4,2             |Science Fiction, Aventure, Fantastique|\\n3h 12min\\n|\\nSe déroulant plus d’une décennie après les événements relatés dans le premier film, AVATAR : LA VOIE DE L’EAU raconte l'histoire des membres de la famille Sully (Jake, Neytiri et leurs enfants), les épreuves auxquelles ils sont confrontés, les chemins qu’ils doivent emprunter pour se protéger les uns les autres, les batailles qu’ils doivent mener pour rester en vie et les tragédies qu'ils endurent.\\n|https://www.allocine.fr/film/fichefilm_gen_cfilm=178014.html |\n",
            "|Suzume                             |Makoto Shinkai                   |Lévanah Solomon, Nanoka Hara, Benjamin Jungers   |3,8        |4,2             |Animation, Aventure, Drame            |\\n2h 02min\\n|\\nDans une petite ville paisible de Kyushu, une jeune fille de 17 ans, Suzume, rencontre un homme qui dit voyager à la recherche d’une porte. Décidant de le suivre dans les montagnes, elle découvre une porte délabrée trônant au milieu des ruines qu'elle décide d'ouvrir...\\n                                                                                                                                   |https://www.allocine.fr/film/fichefilm_gen_cfilm=299413.html |\n",
            "|Le Retour des hirondelles          |Li Ruijun                        |Wu Renlin,  Hai-Qing                             |4,1        |4,2             |Drame                                 |\\n2h 13min\\n|\\nC’est l’histoire d’un mariage arrangé, entre deux êtres méprisés par leurs familles. Entre eux, la timidité fait place à l’affection. Autour d’eux, la vie rurale se désagrège…\\n                                                                                                                                                                                                                                  |https://www.allocine.fr/film/fichefilm_gen_cfilm=300250.html |\n",
            "|Le Chat Potté 2 : la dernière quête|Januel P. Mercado, Joel Crawford |Boris Rehlinger, Antonio Banderas, Diane Dassigny|3,1        |4,2             |Animation, Comédie, Aventure          |\\n1h 42min\\n|\\nLe Chat Potté découvre que sa passion pour l'aventure et son mépris du danger ont fini par lui coûter cher : il a épuisé huit de ses neuf vies, et en a perdu le compte au passage. Afin de retomber sur ses pattes notre héros velu se lance littéralement dans la quête de sa vie.\\n                                                                                                                             |https://www.allocine.fr/film/fichefilm_gen_cfilm=228395.html |\n",
            "|Babylon                            |Damien Chazelle                  |Brad Pitt, Margot Robbie, Diego Calva            |4,0        |4,2             |Historique, Drame                     |\\n3h 09min\\n|\\nLos Angeles des années 1920. Récit d’une ambition démesurée et d’excès les plus fous, BABYLON retrace l’ascension et la chute de différents personnages lors de la création d’Hollywood, une ère de décadence et de dépravation sans limites.\\n                                                                                                                                                                    |https://www.allocine.fr/film/fichefilm_gen_cfilm=275675.html |\n",
            "|As bestas                          |Rodrigo Sorogoyen                |Denis Ménochet, Marina Foïs, Luis Zahera         |4,2        |4,1             |Thriller, Drame                       |\\n2h 17min\\n|\\nAntoine et Olga, un couple de Français, sont installés depuis longtemps dans un petit village de Galice. Ils ont une ferme et restaurent des maisons abandonnées pour faciliter le repeuplement. Tout devrait être idyllique mais un grave conflit avec leurs voisins fait monter la tension jusqu’à l’irréparable…\\n                                                                                              |https://www.allocine.fr/film/fichefilm_gen_cfilm=297016.html |\n",
            "|Elvis                              |Baz Luhrmann                     |Austin Butler, Tom Hanks, Olivia DeJonge         |3,8        |4,1             |Biopic, Musical                       |\\n2h 39min\\n|\\nLa vie et l'œuvre musicale d'Elvis Presley à travers le prisme de ses rapports complexes avec son mystérieux manager, le colonel Tom Parker. Le film explorera leurs relations sur une vingtaine d'années, de l'ascension du chanteur à son statut de star inégalé.\\n                                                                                                                                              |https://www.allocine.fr/film/fichefilm_gen_cfilm=228681.html |\n",
            "|Presque                            |Bernard Campan, Alexandre Jollien|Tiphaine Daviot                                  |3,5        |4,1             |Drame, Comédie                        |\\n1h 32min\\n|\\nDeux hommes prennent la route, de Lausanne vers le sud de la France, dans un corbillard. Ils se connaissent peu, ont peu de choses en commun, du moins le croient-ils…\\n                                                                                                                                                                                                                                           |https://www.allocine.fr/film/fichefilm_gen_cfilm=284465.html |\n",
            "|En corps                           |Cédric Klapisch                  |Marion Barbeau, Hofesh Shechter, Denis Podalydès |3,4        |4,1             |Comédie dramatique, Drame, Comédie    |\\n1h 58min\\n|\\nElise, 26 ans est une grande danseuse classique. Elle se blesse pendant un spectacle et apprend qu’elle ne pourra plus danser. Dès lors sa vie va être bouleversée, Elise va devoir apprendre à se réparer…\\n                                                                                                                                                                                                      |https://www.allocine.fr/film/fichefilm_gen_cfilm=287738.html |\n",
            "|Treize vies                        |Ron Howard                       |Colin Farrell, Viggo Mortensen, Joel Edgerton    |3,2        |4,1             |Drame                                 |\\n2h 27min\\n|\\nUne équipe de sauvetage est réunie en Thaïlande où une dizaine de jeunes hommes et leur entraîneur sont piégés dans un système de grottes souterraines, peu à peu victimes de la montée des eaux.\\n                                                                                                                                                                                                                |https://www.allocine.fr/film/fichefilm_gen_cfilm=282400.html |\n",
            "|The Quiet Girl                     |Colm Bairéad                     |Carrie Crowley, Andrew Bennett, Catherine Clinch |3,7        |4,1             |Drame                                 |\\n1h 36min\\n|\\nIrlande, 1981, Cáit, une jeune fille effacée et négligée par sa famille, est envoyée vivre auprès de parents éloignés pendant l’été. Mais dans cette maison en apparence sans secret, où elle trouve l’épanouissement et l'affection, Cáit découvre une vérité douloureuse.\\n                                                                                                                                      |https://www.allocine.fr/film/fichefilm_gen_cfilm=299438.html |\n",
            "|Close                              |Lukas Dhont                      |Eden Dambrine, Gustav De Waele, Emilie Dequenne  |3,3        |4,1             |Drame                                 |\\n1h 44min\\n|\\nLéo et Rémi, 13 ans, sont amis depuis toujours. Jusqu'à ce qu'un événement impensable les sépare. Léo se rapproche alors de Sophie, la mère de Rémi, pour essayer de comprendre…\\n                                                                                                                                                                                                                                 |https://www.allocine.fr/film/fichefilm_gen_cfilm=294372.html |\n",
            "|About Kim Sohee                    |July Jung                        |Doona Bae, Kim Si-eun,  Choi Hee-jin             |3,8        |4,1             |Drame, Policier                       |\\n2h 17min\\n|\\nPour son stage de fin d’étude, Kim Sohee intègre un centre d’appel de Korea Telecom. En quelques mois, son moral décline sous le poids de conditions de travail dégradantes et d’objectifs de plus en plus difficiles à tenir.\\n                                                                                                                                                                                   |https://www.allocine.fr/film/fichefilm_gen_cfilm=303802.html |\n",
            "|A l'Ouest, rien de nouveau         |Edward Berger                    |Felix Kammerer, Albrecht Schuch, Aaron Hilmer    |4,1        |--              |Drame, Guerre, Historique             |\\n2h 28min\\n|\\nL'histoire poignante d'un jeune soldat allemand sur le front occidental pendant la Première Guerre mondiale. En première ligne, Paul et ses camarades voient l'euphorie initiale se muer en désespoir et en épouvante quand ils se retrouvent à défendre leurs vies au fond des tranchées.\\n                                                                                                                       |https://www.allocine.fr/film/fichefilm_gen_cfilm=182953.html |\n",
            "|Jujutsu Kaisen 0                   |Sung-ho Park                     |Alexandre N'Guyen, Megumi Ogata, Alice Orsat     |3,9        |4,1             |Animation, Action, Drame              |\\n1h 45min\\n|\\nLorsqu’il était enfant, Yuta Okkotsu a vu son amie Rika Orimoto perdre la vie dans un accident. Depuis, Rika vient hanter Yuta qui a même souhaité sa propre mort après avoir souffert des années de cette malédiction. Jusqu’au jour où le plus puissant des exorcistes l'accueille dans son école d’exorcisme.\\n                                                                                                 |https://www.allocine.fr/film/fichefilm_gen_cfilm=291677.html |\n",
            "|Simone, le voyage du siècle        |Olivier Dahan                    |Elsa Zylberstein, Rebecca Marder, Élodie Bouchez |3,1        |4,1             |Biopic, Drame                         |\\n2h 20min\\n|\\nLe destin de Simone Veil, son enfance, ses combats politiques, ses tragédies. Le portrait épique et intime d’une femme au parcours hors du commun qui a bousculé son époque en défendant un message humaniste toujours d’une brûlante actualité.\\n                                                                                                                                                                 |https://www.allocine.fr/film/fichefilm_gen_cfilm=271339.html |\n",
            "+-----------------------------------+---------------------------------+-------------------------------------------------+-----------+----------------+--------------------------------------+------------+---------------------------------------------------------------------------------------------------------------------------------------------------------------------------------------------------------------------------------------------------------------------------------------------------------------------------------------------------------------------------------------------------------------------+-------------------------------------------------------------+\n",
            "only showing top 20 rows\n",
            "\n"
          ]
        }
      ],
      "source": [
        "\n",
        "# Création de la session Spark\n",
        "spark = SparkSession.builder.appName(\"Lecture_CSV\").getOrCreate()\n",
        "\n",
        "# Chargement du fichier CSV dans un DataFrame\n",
        "df = spark.read.csv('/content/scrapping.csv', header=True, multiLine=True, escape='\"', inferSchema=True)\n",
        "\n",
        "# Ajouter un espace après le dernier caractère (|) dans la colonne \"Lien de bande-annonce\"\n",
        "df = df.withColumn(\"Lien de bande-annonce\", expr(\"coalesce(`Lien de bande-annonce`, '') || ' '\"))\n",
        "\n",
        "# Sélection des colonnes que vous souhaitez afficher\n",
        "df_select = df.select(\"Titre\", \"Réalisateur\", \"Acteurs\", \"Note Presse\", \"Note Spectateurs\", \"Types\", \"Durée\", \"Résumé\", \"Lien de bande-annonce\")\n",
        "\n",
        "# Affichage du DataFrame sélectionné\n",
        "df_select.show(truncate=False)\n"
      ]
    },
    {
      "cell_type": "markdown",
      "metadata": {
        "id": "2b4EfR4udwQW"
      },
      "source": [
        "### <font color='blue'> Traitement de la Dataframe"
      ]
    },
    {
      "cell_type": "code",
      "execution_count": null,
      "metadata": {
        "id": "8jWTghR08osT"
      },
      "outputs": [],
      "source": [
        "\n",
        "#Traitement des colonnes Durée et Résumé\n",
        "df_select = df_select.withColumn('Durée', regexp_replace('Durée', '\\\\n', ''))\n",
        "df_select = df_select.withColumn('Résumé', regexp_replace('Résumé', '\\\\n', ''))\n"
      ]
    },
    {
      "cell_type": "code",
      "execution_count": null,
      "metadata": {
        "id": "Yg0YYZbS9gt_"
      },
      "outputs": [],
      "source": [
        "\n",
        "# Séparation de la colonne Durée en Heures et Minutes\n",
        "df_select = df_select.withColumn('Heures', split(col('Durée'), 'h').getItem(0).cast('int'))\n",
        "df_select = df_select.withColumn('Minutes', split(split(col('Durée'), 'h').getItem(1), 'min').getItem(0).cast('int'))\n"
      ]
    },
    {
      "cell_type": "code",
      "execution_count": null,
      "metadata": {
        "colab": {
          "base_uri": "https://localhost:8080/"
        },
        "id": "WQ4fM6LmN_d9",
        "outputId": "bfde5ba3-12b7-43ee-b5a2-37726f9dc515"
      },
      "outputs": [
        {
          "name": "stdout",
          "output_type": "stream",
          "text": [
            "+-----------------------------------+---------------------------------+-------------------------------------------------+-----------+----------------+--------------------------------------+--------+-----------------------------------------------------------------------------------------------------------------------------------------------------------------------------------------------------------------------------------------------------------------------------------------------------------------------------------------------------------------------------------------------------------------+-------------------------------------------------------------+------+-------+--------------------------------------+----------------------------------------+------------------+--------+-----------+\n",
            "|Titre                              |Réalisateur                      |Acteurs                                          |Note Presse|Note Spectateurs|Types                                 |Durée   |Résumé                                                                                                                                                                                                                                                                                                                                                                                                           |Lien de bande-annonce                                        |Heures|Minutes|TypesAsString                         |TypeList                                |Type_1            |Type_2  |Type_3     |\n",
            "+-----------------------------------+---------------------------------+-------------------------------------------------+-----------+----------------+--------------------------------------+--------+-----------------------------------------------------------------------------------------------------------------------------------------------------------------------------------------------------------------------------------------------------------------------------------------------------------------------------------------------------------------------------------------------------------------+-------------------------------------------------------------+------+-------+--------------------------------------+----------------------------------------+------------------+--------+-----------+\n",
            "|Top Gun: Maverick                  |Joseph Kosinski                  |Tom Cruise, Miles Teller, Jennifer Connelly      |3,7        |4,3             |Action                                |2h 11min|Après avoir été l’un des meilleurs pilotes de chasse de la Marine américaine, Pete “Maverick\" Mitchell continue à repousser ses limites en tant que pilote d'essai. Il est chargé de former un détachement de jeunes diplômés de l’école Top Gun pour une mission spéciale qu’aucun pilote n'aurait jamais imaginée.                                                                                             |https://www.allocine.fr/film/fichefilm_gen_cfilm=186636.html |2     |11     |Action                                |[Action]                                |Action            |NULL    |NULL       |\n",
            "|The Fabelmans                      |Steven Spielberg                 |Gabriel LaBelle, Michelle Williams, Paul Dano    |4,9        |4,3             |Biopic, Drame                         |2h 31min|Portrait profondément intime d’une enfance américaine au XXème siècle, The Fabelmans de Steven Spielberg nous plonge dans l’histoire familiale du cinéaste qui a façonné sa vie personnelle et professionnelle.                                                                                                                                                                                                  |https://www.allocine.fr/film/fichefilm_gen_cfilm=255726.html |2     |31     |Biopic, Drame                         |[Biopic, Drame]                         |Biopic            |Drame   |NULL       |\n",
            "|The First Slam Dunk                |Takehiko Inoue                   |Shugo Nakamura, Subaru Kimura, Kenta Miyake      |3,9        |4,2             |Animation, Comédie, Drame             |2h 04min|Le meneur de jeu de Shohoku, Ryota Miyagi, joue toujours intelligemment et à la vitesse de l'éclair, contournant ses adversaires tout en gardant son sang-froid. Ryota fait partie de l'équipe de basket-ball du lycée Shohoku et participe au championnat national inter-lycées.                                                                                                                                |https://www.allocine.fr/film/fichefilm_gen_cfilm=306133.html |2     |4      |Animation, Comédie, Drame             |[Animation, Comédie, Drame]             |Animation         |Comédie |Drame      |\n",
            "|Le Bleu du Caftan                  |Maryam Touzani                   |Lubna Azabal, Saleh Bakri, Ayoub Missioui        |3,8        |4,2             |Drame, Romance                        |2h 02min|Halim est marié depuis longtemps à Mina, avec qui il tient un magasin traditionnel de caftans dans la médina de Salé, au Maroc. Le couple vit depuis toujours avec le secret d’Halim, son homosexualité qu’il a appris à taire.                                                                                                                                                                                  |https://www.allocine.fr/film/fichefilm_gen_cfilm=297895.html |2     |2      |Drame, Romance                        |[Drame, Romance]                        |Drame             |Romance |NULL       |\n",
            "|Avatar : la voie de l'eau          |James Cameron                    |Sam Worthington, Zoe Saldana, Sigourney Weaver   |4,1        |4,2             |Science Fiction, Aventure, Fantastique|3h 12min|Se déroulant plus d’une décennie après les événements relatés dans le premier film, AVATAR : LA VOIE DE L’EAU raconte l'histoire des membres de la famille Sully (Jake, Neytiri et leurs enfants), les épreuves auxquelles ils sont confrontés, les chemins qu’ils doivent emprunter pour se protéger les uns les autres, les batailles qu’ils doivent mener pour rester en vie et les tragédies qu'ils endurent.|https://www.allocine.fr/film/fichefilm_gen_cfilm=178014.html |3     |12     |Science Fiction, Aventure, Fantastique|[Science Fiction, Aventure, Fantastique]|Science Fiction   |Aventure|Fantastique|\n",
            "|Suzume                             |Makoto Shinkai                   |Lévanah Solomon, Nanoka Hara, Benjamin Jungers   |3,8        |4,2             |Animation, Aventure, Drame            |2h 02min|Dans une petite ville paisible de Kyushu, une jeune fille de 17 ans, Suzume, rencontre un homme qui dit voyager à la recherche d’une porte. Décidant de le suivre dans les montagnes, elle découvre une porte délabrée trônant au milieu des ruines qu'elle décide d'ouvrir...                                                                                                                                   |https://www.allocine.fr/film/fichefilm_gen_cfilm=299413.html |2     |2      |Animation, Aventure, Drame            |[Animation, Aventure, Drame]            |Animation         |Aventure|Drame      |\n",
            "|Le Retour des hirondelles          |Li Ruijun                        |Wu Renlin,  Hai-Qing                             |4,1        |4,2             |Drame                                 |2h 13min|C’est l’histoire d’un mariage arrangé, entre deux êtres méprisés par leurs familles. Entre eux, la timidité fait place à l’affection. Autour d’eux, la vie rurale se désagrège…                                                                                                                                                                                                                                  |https://www.allocine.fr/film/fichefilm_gen_cfilm=300250.html |2     |13     |Drame                                 |[Drame]                                 |Drame             |NULL    |NULL       |\n",
            "|Le Chat Potté 2 : la dernière quête|Januel P. Mercado, Joel Crawford |Boris Rehlinger, Antonio Banderas, Diane Dassigny|3,1        |4,2             |Animation, Comédie, Aventure          |1h 42min|Le Chat Potté découvre que sa passion pour l'aventure et son mépris du danger ont fini par lui coûter cher : il a épuisé huit de ses neuf vies, et en a perdu le compte au passage. Afin de retomber sur ses pattes notre héros velu se lance littéralement dans la quête de sa vie.                                                                                                                             |https://www.allocine.fr/film/fichefilm_gen_cfilm=228395.html |1     |42     |Animation, Comédie, Aventure          |[Animation, Comédie, Aventure]          |Animation         |Comédie |Aventure   |\n",
            "|Babylon                            |Damien Chazelle                  |Brad Pitt, Margot Robbie, Diego Calva            |4,0        |4,2             |Historique, Drame                     |3h 09min|Los Angeles des années 1920. Récit d’une ambition démesurée et d’excès les plus fous, BABYLON retrace l’ascension et la chute de différents personnages lors de la création d’Hollywood, une ère de décadence et de dépravation sans limites.                                                                                                                                                                    |https://www.allocine.fr/film/fichefilm_gen_cfilm=275675.html |3     |9      |Historique, Drame                     |[Historique, Drame]                     |Historique        |Drame   |NULL       |\n",
            "|As bestas                          |Rodrigo Sorogoyen                |Denis Ménochet, Marina Foïs, Luis Zahera         |4,2        |4,1             |Thriller, Drame                       |2h 17min|Antoine et Olga, un couple de Français, sont installés depuis longtemps dans un petit village de Galice. Ils ont une ferme et restaurent des maisons abandonnées pour faciliter le repeuplement. Tout devrait être idyllique mais un grave conflit avec leurs voisins fait monter la tension jusqu’à l’irréparable…                                                                                              |https://www.allocine.fr/film/fichefilm_gen_cfilm=297016.html |2     |17     |Thriller, Drame                       |[Thriller, Drame]                       |Thriller          |Drame   |NULL       |\n",
            "|Elvis                              |Baz Luhrmann                     |Austin Butler, Tom Hanks, Olivia DeJonge         |3,8        |4,1             |Biopic, Musical                       |2h 39min|La vie et l'œuvre musicale d'Elvis Presley à travers le prisme de ses rapports complexes avec son mystérieux manager, le colonel Tom Parker. Le film explorera leurs relations sur une vingtaine d'années, de l'ascension du chanteur à son statut de star inégalé.                                                                                                                                              |https://www.allocine.fr/film/fichefilm_gen_cfilm=228681.html |2     |39     |Biopic, Musical                       |[Biopic, Musical]                       |Biopic            |Musical |NULL       |\n",
            "|Presque                            |Bernard Campan, Alexandre Jollien|Tiphaine Daviot                                  |3,5        |4,1             |Drame, Comédie                        |1h 32min|Deux hommes prennent la route, de Lausanne vers le sud de la France, dans un corbillard. Ils se connaissent peu, ont peu de choses en commun, du moins le croient-ils…                                                                                                                                                                                                                                           |https://www.allocine.fr/film/fichefilm_gen_cfilm=284465.html |1     |32     |Drame, Comédie                        |[Drame, Comédie]                        |Drame             |Comédie |NULL       |\n",
            "|En corps                           |Cédric Klapisch                  |Marion Barbeau, Hofesh Shechter, Denis Podalydès |3,4        |4,1             |Comédie dramatique, Drame, Comédie    |1h 58min|Elise, 26 ans est une grande danseuse classique. Elle se blesse pendant un spectacle et apprend qu’elle ne pourra plus danser. Dès lors sa vie va être bouleversée, Elise va devoir apprendre à se réparer…                                                                                                                                                                                                      |https://www.allocine.fr/film/fichefilm_gen_cfilm=287738.html |1     |58     |Comédie dramatique, Drame, Comédie    |[Comédie dramatique, Drame, Comédie]    |Comédie dramatique|Drame   |Comédie    |\n",
            "|Treize vies                        |Ron Howard                       |Colin Farrell, Viggo Mortensen, Joel Edgerton    |3,2        |4,1             |Drame                                 |2h 27min|Une équipe de sauvetage est réunie en Thaïlande où une dizaine de jeunes hommes et leur entraîneur sont piégés dans un système de grottes souterraines, peu à peu victimes de la montée des eaux.                                                                                                                                                                                                                |https://www.allocine.fr/film/fichefilm_gen_cfilm=282400.html |2     |27     |Drame                                 |[Drame]                                 |Drame             |NULL    |NULL       |\n",
            "|The Quiet Girl                     |Colm Bairéad                     |Carrie Crowley, Andrew Bennett, Catherine Clinch |3,7        |4,1             |Drame                                 |1h 36min|Irlande, 1981, Cáit, une jeune fille effacée et négligée par sa famille, est envoyée vivre auprès de parents éloignés pendant l’été. Mais dans cette maison en apparence sans secret, où elle trouve l’épanouissement et l'affection, Cáit découvre une vérité douloureuse.                                                                                                                                      |https://www.allocine.fr/film/fichefilm_gen_cfilm=299438.html |1     |36     |Drame                                 |[Drame]                                 |Drame             |NULL    |NULL       |\n",
            "|Close                              |Lukas Dhont                      |Eden Dambrine, Gustav De Waele, Emilie Dequenne  |3,3        |4,1             |Drame                                 |1h 44min|Léo et Rémi, 13 ans, sont amis depuis toujours. Jusqu'à ce qu'un événement impensable les sépare. Léo se rapproche alors de Sophie, la mère de Rémi, pour essayer de comprendre…                                                                                                                                                                                                                                 |https://www.allocine.fr/film/fichefilm_gen_cfilm=294372.html |1     |44     |Drame                                 |[Drame]                                 |Drame             |NULL    |NULL       |\n",
            "|About Kim Sohee                    |July Jung                        |Doona Bae, Kim Si-eun,  Choi Hee-jin             |3,8        |4,1             |Drame, Policier                       |2h 17min|Pour son stage de fin d’étude, Kim Sohee intègre un centre d’appel de Korea Telecom. En quelques mois, son moral décline sous le poids de conditions de travail dégradantes et d’objectifs de plus en plus difficiles à tenir.                                                                                                                                                                                   |https://www.allocine.fr/film/fichefilm_gen_cfilm=303802.html |2     |17     |Drame, Policier                       |[Drame, Policier]                       |Drame             |Policier|NULL       |\n",
            "|A l'Ouest, rien de nouveau         |Edward Berger                    |Felix Kammerer, Albrecht Schuch, Aaron Hilmer    |4,1        |--              |Drame, Guerre, Historique             |2h 28min|L'histoire poignante d'un jeune soldat allemand sur le front occidental pendant la Première Guerre mondiale. En première ligne, Paul et ses camarades voient l'euphorie initiale se muer en désespoir et en épouvante quand ils se retrouvent à défendre leurs vies au fond des tranchées.                                                                                                                       |https://www.allocine.fr/film/fichefilm_gen_cfilm=182953.html |2     |28     |Drame, Guerre, Historique             |[Drame, Guerre, Historique]             |Drame             |Guerre  |Historique |\n",
            "|Jujutsu Kaisen 0                   |Sung-ho Park                     |Alexandre N'Guyen, Megumi Ogata, Alice Orsat     |3,9        |4,1             |Animation, Action, Drame              |1h 45min|Lorsqu’il était enfant, Yuta Okkotsu a vu son amie Rika Orimoto perdre la vie dans un accident. Depuis, Rika vient hanter Yuta qui a même souhaité sa propre mort après avoir souffert des années de cette malédiction. Jusqu’au jour où le plus puissant des exorcistes l'accueille dans son école d’exorcisme.                                                                                                 |https://www.allocine.fr/film/fichefilm_gen_cfilm=291677.html |1     |45     |Animation, Action, Drame              |[Animation, Action, Drame]              |Animation         |Action  |Drame      |\n",
            "|Simone, le voyage du siècle        |Olivier Dahan                    |Elsa Zylberstein, Rebecca Marder, Élodie Bouchez |3,1        |4,1             |Biopic, Drame                         |2h 20min|Le destin de Simone Veil, son enfance, ses combats politiques, ses tragédies. Le portrait épique et intime d’une femme au parcours hors du commun qui a bousculé son époque en défendant un message humaniste toujours d’une brûlante actualité.                                                                                                                                                                 |https://www.allocine.fr/film/fichefilm_gen_cfilm=271339.html |2     |20     |Biopic, Drame                         |[Biopic, Drame]                         |Biopic            |Drame   |NULL       |\n",
            "+-----------------------------------+---------------------------------+-------------------------------------------------+-----------+----------------+--------------------------------------+--------+-----------------------------------------------------------------------------------------------------------------------------------------------------------------------------------------------------------------------------------------------------------------------------------------------------------------------------------------------------------------------------------------------------------------+-------------------------------------------------------------+------+-------+--------------------------------------+----------------------------------------+------------------+--------+-----------+\n",
            "only showing top 20 rows\n",
            "\n"
          ]
        }
      ],
      "source": [
        "\n",
        "# Convertir la colonne Types de chaînes en une seule chaîne\n",
        "df_select = df_select.withColumn(\"TypesAsString\", concat_ws(\", \", df_select[\"Types\"]))\n",
        "\n",
        "# Diviser la colonne \"TypesAsString\" en une liste d'éléments distincts\n",
        "df_split = df_select.withColumn(\"TypeList\", split(df_select[\"TypesAsString\"], \", \"))\n",
        "\n",
        "# Créer de nouvelles colonnes pour chaque type distinct\n",
        "max_types = df_split.selectExpr(\"max(size(TypeList))\").collect()[0][0]\n",
        "\n",
        "for i in range(max_types):\n",
        "    col_name = f\"Type_{i+1}\"\n",
        "    df_split = df_split.withColumn(col_name, df_split[\"TypeList\"][i])\n",
        "\n",
        "df_split.show(truncate=False)\n",
        "\n",
        "\n",
        "# Supprimer les colonnes \"TypesAsString\" et \"TypeList\"\n",
        "df_final = df_split.drop(\"TypesAsString\", \"TypeList\")"
      ]
    },
    {
      "cell_type": "code",
      "execution_count": null,
      "metadata": {
        "id": "ac3muTYJzoXc"
      },
      "outputs": [],
      "source": [
        "# Convertir les colonnes en format numérique en remplaçant les virgules par des points\n",
        "\n",
        "def convert_columns_to_floats(dataframe, columns_list):\n",
        "    for column_name in columns_list:\n",
        "        dataframe = dataframe.withColumn(column_name, regexp_replace(col(column_name), \",\", \".\").cast(\"float\"))\n",
        "    return dataframe\n",
        "\n",
        "# Liste des colonnes à convertir\n",
        "columns_to_convert = [\"Note Presse\", \"Note Spectateurs\"]\n",
        "\n",
        "# Appel de la fonction pour convertir les colonnes spécifiées\n",
        "df_final = convert_columns_to_floats(df_final, columns_to_convert)"
      ]
    },
    {
      "cell_type": "code",
      "execution_count": null,
      "metadata": {
        "colab": {
          "base_uri": "https://localhost:8080/"
        },
        "id": "yDtYXPeFesU6",
        "outputId": "9a411f60-ccfe-42a9-eaa3-22e84d90e1a9"
      },
      "outputs": [
        {
          "name": "stdout",
          "output_type": "stream",
          "text": [
            "Nombre de lignes dans le DataFrame :  139\n"
          ]
        }
      ],
      "source": [
        "# Pour connaître le nombre de lignes dans un DataFrame\n",
        "nb_lignes = df_split.count()\n",
        "print(\"Nombre de lignes dans le DataFrame : \", nb_lignes)"
      ]
    },
    {
      "cell_type": "code",
      "execution_count": null,
      "metadata": {
        "colab": {
          "base_uri": "https://localhost:8080/"
        },
        "id": "o-Ni7ZJNelgs",
        "outputId": "08f17955-f0c8-4183-bb70-1cbc31177b97"
      },
      "outputs": [
        {
          "name": "stdout",
          "output_type": "stream",
          "text": [
            "+-------+-------------------+\n",
            "|summary|        Note Presse|\n",
            "+-------+-------------------+\n",
            "|  count|                139|\n",
            "|   mean| 3.5690647372238926|\n",
            "| stddev|0.47774363518084634|\n",
            "|    min|                1.3|\n",
            "|    25%|                3.3|\n",
            "|    50%|                3.7|\n",
            "|    75%|                3.9|\n",
            "|    max|                4.9|\n",
            "+-------+-------------------+\n",
            "\n"
          ]
        }
      ],
      "source": [
        "df_final.select(\"Note Presse\").summary().show()"
      ]
    },
    {
      "cell_type": "code",
      "execution_count": null,
      "metadata": {
        "colab": {
          "base_uri": "https://localhost:8080/"
        },
        "id": "fkBho-qCemTO",
        "outputId": "12f698b4-605f-496b-9c79-2b1dd40678ee"
      },
      "outputs": [
        {
          "name": "stdout",
          "output_type": "stream",
          "text": [
            "+-------+------------------+\n",
            "|summary|  Note Spectateurs|\n",
            "+-------+------------------+\n",
            "|  count|               122|\n",
            "|   mean|3.8368852216689313|\n",
            "| stddev|0.2073846578460868|\n",
            "|    min|               3.5|\n",
            "|    25%|               3.7|\n",
            "|    50%|               3.8|\n",
            "|    75%|               4.0|\n",
            "|    max|               4.3|\n",
            "+-------+------------------+\n",
            "\n"
          ]
        }
      ],
      "source": [
        "df_final.select(\"Note Spectateurs\").summary().show()"
      ]
    },
    {
      "cell_type": "markdown",
      "metadata": {
        "id": "Xb9GwtEoeosY"
      },
      "source": [
        "#####<font color='orange'>  Remarque :Il y'a 139 lignes dans notres data , et 139 valeurs pour la note presse mais 122 pour la variable note spéctateurs donc on ades valeurs manquantes dans cette colonne"
      ]
    },
    {
      "cell_type": "code",
      "execution_count": null,
      "metadata": {
        "id": "1PySeUs2DOPI"
      },
      "outputs": [],
      "source": [
        "# Remplacer les \"--\" par None dans la colonne \"Note Spectateurs\"\n",
        "df_final = df_final.withColumn(\"Note Spectateurs\",\n",
        "    when(col(\"Note Spectateurs\") == \"--\", None)\n",
        "    .otherwise(col(\"Note Spectateurs\")))"
      ]
    },
    {
      "cell_type": "code",
      "execution_count": null,
      "metadata": {
        "colab": {
          "base_uri": "https://localhost:8080/"
        },
        "id": "aogJ9p45cHhC",
        "outputId": "71fb42f0-b86a-4538-e51d-9bab6f8edd9c"
      },
      "outputs": [
        {
          "data": {
            "text/plain": [
              "17"
            ]
          },
          "execution_count": 17,
          "metadata": {},
          "output_type": "execute_result"
        }
      ],
      "source": [
        "\n",
        "# nombre de lignes avec des valeurs manquantes ou None dans la colonne \"Note Spectateurs\"\n",
        "df_final.filter(col(\"Note Spectateurs\").isNull()).count()\n"
      ]
    },
    {
      "cell_type": "code",
      "execution_count": null,
      "metadata": {
        "colab": {
          "base_uri": "https://localhost:8080/"
        },
        "id": "ZyGMmzKzeKm1",
        "outputId": "72093cce-69b3-4ebe-b26b-c234ed562178"
      },
      "outputs": [
        {
          "name": "stdout",
          "output_type": "stream",
          "text": [
            "+--------------------+--------------------+--------------------+-----------+----------------+--------------------+--------+--------------------+---------------------+------+-------+---------+-----------------+----------+\n",
            "|               Titre|         Réalisateur|             Acteurs|Note Presse|Note Spectateurs|               Types|   Durée|              Résumé|Lien de bande-annonce|Heures|Minutes|   Type_1|           Type_2|    Type_3|\n",
            "+--------------------+--------------------+--------------------+-----------+----------------+--------------------+--------+--------------------+---------------------+------+-------+---------+-----------------+----------+\n",
            "|A l'Ouest, rien d...|       Edward Berger|Felix Kammerer, A...|        4.1|            NULL|Drame, Guerre, Hi...|2h 28min|L'histoire poigna...| https://www.alloc...|     2|     28|    Drame|           Guerre|Historique|\n",
            "|                 RRR|      S.S. Rajamouli|N. T. Rama Rao Jr...|        4.1|            NULL|Action, Drame, Hi...|3h 07min|À l'époque coloni...| https://www.alloc...|     3|      7|   Action|            Drame|Historique|\n",
            "|        Les Nageuses|    Sally El Hosaini|Nathalie Issa, Ma...|        4.1|            NULL|               Drame|2h 14min|De la Syrie en gu...| https://www.alloc...|     2|     14|    Drame|             NULL|      NULL|\n",
            "|Et le ciel s'asso...|        Ole Bornedal|Alex Høgh Anderse...|        3.9|            NULL|       Drame, Guerre|1h 47min|Pendant la Deuxiè...| https://www.alloc...|     1|     47|    Drame|           Guerre|      NULL|\n",
            "|        My Policeman|    Michael Grandage|Emma Corrin, Harr...|        3.9|            NULL|      Drame, Romance|1h 53min|Le destin de Tom,...| https://www.alloc...|     1|     53|    Drame|          Romance|      NULL|\n",
            "|  Nos cœurs meurtris|Elizabeth Allen R...|Nicholas Galitzin...|        3.9|            NULL|      Romance, Drame|2h 02min|Malgré leurs diff...| https://www.alloc...|     2|      2|  Romance|            Drame|      NULL|\n",
            "|   20th Century Girl|         Woo-ri Bang|Kim Yoo-jung, Hyo...|        3.8|            NULL|      Drame, Romance|1h 59min|En 1999, Bo-ra, 1...| https://www.alloc...|     1|     59|    Drame|          Romance|      NULL|\n",
            "|   Le Haut du panier|      Jeremiah Zagar|Adam Sandler, Que...|        3.8|            NULL|Drame, Évènement ...|1h 57min|Lorsqu'un déniche...| https://www.alloc...|     1|     57|    Drame|Évènement Sportif|      NULL|\n",
            "|     Argentina, 1985|      Santiago Mitre|Ricardo Darín, Al...|        3.8|            NULL|               Drame|2h 20min|L'histoire vraie ...| https://www.alloc...|     2|     20|    Drame|             NULL|      NULL|\n",
            "|The Greatest Beer...|      Peter Farrelly|Zac Efron, Russel...|        3.7|            NULL|      Biopic, Guerre|2h 06min|Afin d’apporter s...| https://www.alloc...|     2|      6|   Biopic|           Guerre|      NULL|\n",
            "|Les Lignes courbe...|         Oriol Paulo|Bárbara Lennie, E...|        3.7|            NULL|     Thriller, Drame|2h 35min|Une détective pri...| https://www.alloc...|     2|     35| Thriller|            Drame|      NULL|\n",
            "|Meurtres sans ord...|     Tobias Lindholm|Jessica Chastain,...|        3.7|            NULL|Thriller, Policie...|2h 01min|Soupçonnant la re...| https://www.alloc...|     2|      1| Thriller|         Policier|     Drame|\n",
            "|    Une amie au poil|           Katt Shea|Grant Gustin, Sco...|        3.7|            NULL|Biopic, Drame, Fa...|1h 30min|Voulant désespéré...| https://www.alloc...|     1|     30|   Biopic|            Drame|   Famille|\n",
            "|          The Outfit|        Graham Moore|Mark Rylance, Dyl...|        3.6|            NULL|Drame, Thriller, ...|1h 46min|Un tailleur exper...| https://www.alloc...|     1|     46|    Drame|         Thriller|  Policier|\n",
            "|Père Stu : un hér...|       Rosalind Ross|Mark Wahlberg, Me...|        3.6|            NULL|       Drame, Biopic|2h 04min|Basé sur l'histoi...| https://www.alloc...|     2|      4|    Drame|           Biopic|      NULL|\n",
            "|              Bubble|       Tetsurô Araki|Gabriel Bismuth-B...|        3.6|            NULL|Animation, Fantas...|1h 40min|Dans un Tokyo aba...| https://www.alloc...|     1|     40|Animation|      Fantastique|  Aventure|\n",
            "|            Devotion|        J.D. Dillard|Jonathan Majors, ...|        3.6|            NULL|Guerre, Biopic, D...|2h 19min|Deux pilotes de c...| https://www.alloc...|     2|     19|   Guerre|           Biopic|     Drame|\n",
            "+--------------------+--------------------+--------------------+-----------+----------------+--------------------+--------+--------------------+---------------------+------+-------+---------+-----------------+----------+\n",
            "\n"
          ]
        }
      ],
      "source": [
        "#voir les lignes avec des nan dans la colonne note spectateurs\n",
        "column_name = \"Note Spectateurs\"\n",
        "null_values = df_final.filter(col(column_name).isNull())\n",
        "null_values.show()"
      ]
    },
    {
      "cell_type": "markdown",
      "metadata": {
        "id": "b2N_v1GdCmz9"
      },
      "source": [
        "######<font color='red'>Ici nous avons décidé d'imputer les valeurs manquantes de la colonne Note Spectateurs par la moyenne (3.8) de cette colonne car nous avons vu que en général ce sont  des films qui ont une note de presse assez proche , ce qui nous semblait logique"
      ]
    },
    {
      "cell_type": "code",
      "execution_count": null,
      "metadata": {
        "id": "Kx1MbtRMebWc"
      },
      "outputs": [],
      "source": [
        "# Remplacer les valeurs None par 0 dans la colonne \"Note Spectateurs\"\n",
        "df_final = df_final.withColumn(\"Note Spectateurs\", when(col(\"Note Spectateurs\").isNull(), 3.8).otherwise(col(\"Note Spectateurs\")))"
      ]
    },
    {
      "cell_type": "code",
      "execution_count": null,
      "metadata": {
        "colab": {
          "base_uri": "https://localhost:8080/"
        },
        "id": "Gx_SK-U_KF6h",
        "outputId": "ed485338-7415-434f-fb3d-17f63315a0df"
      },
      "outputs": [
        {
          "name": "stdout",
          "output_type": "stream",
          "text": [
            "+-------+-------------------+\n",
            "|summary|        Note Presse|\n",
            "+-------+-------------------+\n",
            "|  count|                139|\n",
            "|   mean| 3.5690647372238926|\n",
            "| stddev|0.47774363518084634|\n",
            "|    min|                1.3|\n",
            "|    25%|                3.3|\n",
            "|    50%|                3.7|\n",
            "|    75%|                3.9|\n",
            "|    max|                4.9|\n",
            "+-------+-------------------+\n",
            "\n"
          ]
        }
      ],
      "source": [
        "df_final.select(\"Note Presse\").summary().show()"
      ]
    },
    {
      "cell_type": "code",
      "execution_count": null,
      "metadata": {
        "colab": {
          "base_uri": "https://localhost:8080/"
        },
        "id": "slz3U_HqVoR0",
        "outputId": "06a1b693-3244-4e09-878d-1bdb91f2b36b"
      },
      "outputs": [
        {
          "name": "stdout",
          "output_type": "stream",
          "text": [
            "+-------+------------------+\n",
            "|summary|  Note Spectateurs|\n",
            "+-------+------------------+\n",
            "|  count|               139|\n",
            "|   mean|  3.83237407945043|\n",
            "| stddev|0.1945696864869538|\n",
            "|    min|               3.5|\n",
            "|    25%| 3.700000047683716|\n",
            "|    50%|               3.8|\n",
            "|    75%|               4.0|\n",
            "|    max| 4.300000190734863|\n",
            "+-------+------------------+\n",
            "\n"
          ]
        }
      ],
      "source": [
        "df_final.select(\"Note Spectateurs\").summary().show()"
      ]
    },
    {
      "cell_type": "code",
      "execution_count": null,
      "metadata": {
        "colab": {
          "base_uri": "https://localhost:8080/"
        },
        "id": "zdwj7rhwfCEn",
        "outputId": "8845f66b-2b29-47bf-8c6f-818127609861"
      },
      "outputs": [
        {
          "data": {
            "text/plain": [
              "0"
            ]
          },
          "execution_count": 22,
          "metadata": {},
          "output_type": "execute_result"
        }
      ],
      "source": [
        "\n",
        "# vérifier si ils restent des Nan\n",
        "df_final.filter(col(\"Note Spectateurs\").isNull()).count()"
      ]
    },
    {
      "cell_type": "code",
      "execution_count": null,
      "metadata": {
        "id": "jVt7S5gEfdcS"
      },
      "outputs": [],
      "source": [
        "# Arrondir une colonne à un chiffre après la virgule\n",
        "df_final = df_final.withColumn(\"Note Spectateurs\", round(df_final[\"Note Spectateurs\"], 1))"
      ]
    },
    {
      "cell_type": "code",
      "execution_count": null,
      "metadata": {
        "id": "CvuJ-mRGiRVc"
      },
      "outputs": [],
      "source": [
        "# Créer une nouvelle colonne contenant la moyenne des notes\n",
        "df_final = df_final.withColumn(\"Note Moyenne\", (col(\"Note Presse\") + col(\"Note Spectateurs\")) / 2)"
      ]
    },
    {
      "cell_type": "code",
      "execution_count": null,
      "metadata": {
        "id": "HYi2I4v0jBh9"
      },
      "outputs": [],
      "source": [
        "\n",
        "# Arrondir une colonne à un chiffre après la virgule\n",
        "df_final = df_final.withColumn(\"Note Moyenne\", round(df_final[\"Note Moyenne\"], 1))"
      ]
    },
    {
      "cell_type": "markdown",
      "metadata": {
        "id": "_OG2mu3nKt9z"
      },
      "source": [
        "######<font color='red'>Ici nous avons décidé de définir les seuils pour les catégories en prenant le moyenne des premiers quartils et des troisièmes quartils des deux notes presse et spéctateurs\n"
      ]
    },
    {
      "cell_type": "code",
      "execution_count": null,
      "metadata": {
        "id": "QeDUtvr5iTSV"
      },
      "outputs": [],
      "source": [
        "\n",
        "# Définir les seuils pour les catégories\n",
        "seuil_faible = 3.4\n",
        "seuil_bien = 3.95\n",
        "\n",
        "# Ajouter une colonne avec les catégories de notes\n",
        "df_final = df_final.withColumn(\"Catégorie_Générale\",\n",
        "    when(col(\"Note Moyenne\") < seuil_faible, \"faibe\")\n",
        "    .when((col(\"Note Moyenne\") >= seuil_faible) & (col(\"Note Moyenne\") < seuil_bien), \"Moyen\")\n",
        "    .otherwise(\"Bien\")\n",
        ")\n"
      ]
    },
    {
      "cell_type": "code",
      "execution_count": null,
      "metadata": {
        "colab": {
          "base_uri": "https://localhost:8080/"
        },
        "id": "vCnsoCbMf9d7",
        "outputId": "c769ae40-accc-4541-a138-cb11d4c5a8ec"
      },
      "outputs": [
        {
          "name": "stdout",
          "output_type": "stream",
          "text": [
            "+--------------------+--------------------+--------------------+-----------+----------------+--------------------+--------+--------------------+---------------------+------+-------+------------------+--------+-----------+------------+------------------+\n",
            "|               Titre|         Réalisateur|             Acteurs|Note Presse|Note Spectateurs|               Types|   Durée|              Résumé|Lien de bande-annonce|Heures|Minutes|            Type_1|  Type_2|     Type_3|Note Moyenne|Catégorie_Générale|\n",
            "+--------------------+--------------------+--------------------+-----------+----------------+--------------------+--------+--------------------+---------------------+------+-------+------------------+--------+-----------+------------+------------------+\n",
            "|   Top Gun: Maverick|     Joseph Kosinski|Tom Cruise, Miles...|        3.7|             4.3|              Action|2h 11min|Après avoir été l...| https://www.alloc...|     2|     11|            Action|    NULL|       NULL|         4.0|              Bien|\n",
            "|       The Fabelmans|    Steven Spielberg|Gabriel LaBelle, ...|        4.9|             4.3|       Biopic, Drame|2h 31min|Portrait profondé...| https://www.alloc...|     2|     31|            Biopic|   Drame|       NULL|         4.6|              Bien|\n",
            "| The First Slam Dunk|      Takehiko Inoue|Shugo Nakamura, S...|        3.9|             4.2|Animation, Comédi...|2h 04min|Le meneur de jeu ...| https://www.alloc...|     2|      4|         Animation| Comédie|      Drame|         4.1|              Bien|\n",
            "|   Le Bleu du Caftan|      Maryam Touzani|Lubna Azabal, Sal...|        3.8|             4.2|      Drame, Romance|2h 02min|Halim est marié d...| https://www.alloc...|     2|      2|             Drame| Romance|       NULL|         4.0|              Bien|\n",
            "|Avatar : la voie ...|       James Cameron|Sam Worthington, ...|        4.1|             4.2|Science Fiction, ...|3h 12min|Se déroulant plus...| https://www.alloc...|     3|     12|   Science Fiction|Aventure|Fantastique|         4.1|              Bien|\n",
            "|              Suzume|      Makoto Shinkai|Lévanah Solomon, ...|        3.8|             4.2|Animation, Aventu...|2h 02min|Dans une petite v...| https://www.alloc...|     2|      2|         Animation|Aventure|      Drame|         4.0|              Bien|\n",
            "|Le Retour des hir...|           Li Ruijun|Wu Renlin,  Hai-Qing|        4.1|             4.2|               Drame|2h 13min|C’est l’histoire ...| https://www.alloc...|     2|     13|             Drame|    NULL|       NULL|         4.1|              Bien|\n",
            "|Le Chat Potté 2 :...|Januel P. Mercado...|Boris Rehlinger, ...|        3.1|             4.2|Animation, Comédi...|1h 42min|Le Chat Potté déc...| https://www.alloc...|     1|     42|         Animation| Comédie|   Aventure|         3.6|             Moyen|\n",
            "|             Babylon|     Damien Chazelle|Brad Pitt, Margot...|        4.0|             4.2|   Historique, Drame|3h 09min|Los Angeles des a...| https://www.alloc...|     3|      9|        Historique|   Drame|       NULL|         4.1|              Bien|\n",
            "|           As bestas|   Rodrigo Sorogoyen|Denis Ménochet, M...|        4.2|             4.1|     Thriller, Drame|2h 17min|Antoine et Olga, ...| https://www.alloc...|     2|     17|          Thriller|   Drame|       NULL|         4.1|              Bien|\n",
            "|               Elvis|        Baz Luhrmann|Austin Butler, To...|        3.8|             4.1|     Biopic, Musical|2h 39min|La vie et l'œuvre...| https://www.alloc...|     2|     39|            Biopic| Musical|       NULL|         3.9|             Moyen|\n",
            "|             Presque|Bernard Campan, A...|     Tiphaine Daviot|        3.5|             4.1|      Drame, Comédie|1h 32min|Deux hommes prenn...| https://www.alloc...|     1|     32|             Drame| Comédie|       NULL|         3.8|             Moyen|\n",
            "|            En corps|     Cédric Klapisch|Marion Barbeau, H...|        3.4|             4.1|Comédie dramatiqu...|1h 58min|Elise, 26 ans est...| https://www.alloc...|     1|     58|Comédie dramatique|   Drame|    Comédie|         3.8|             Moyen|\n",
            "|         Treize vies|          Ron Howard|Colin Farrell, Vi...|        3.2|             4.1|               Drame|2h 27min|Une équipe de sau...| https://www.alloc...|     2|     27|             Drame|    NULL|       NULL|         3.7|             Moyen|\n",
            "|      The Quiet Girl|        Colm Bairéad|Carrie Crowley, A...|        3.7|             4.1|               Drame|1h 36min|Irlande, 1981, Cá...| https://www.alloc...|     1|     36|             Drame|    NULL|       NULL|         3.9|             Moyen|\n",
            "|               Close|         Lukas Dhont|Eden Dambrine, Gu...|        3.3|             4.1|               Drame|1h 44min|Léo et Rémi, 13 a...| https://www.alloc...|     1|     44|             Drame|    NULL|       NULL|         3.7|             Moyen|\n",
            "|     About Kim Sohee|           July Jung|Doona Bae, Kim Si...|        3.8|             4.1|     Drame, Policier|2h 17min|Pour son stage de...| https://www.alloc...|     2|     17|             Drame|Policier|       NULL|         3.9|             Moyen|\n",
            "|A l'Ouest, rien d...|       Edward Berger|Felix Kammerer, A...|        4.1|             3.8|Drame, Guerre, Hi...|2h 28min|L'histoire poigna...| https://www.alloc...|     2|     28|             Drame|  Guerre| Historique|         3.9|             Moyen|\n",
            "|    Jujutsu Kaisen 0|        Sung-ho Park|Alexandre N'Guyen...|        3.9|             4.1|Animation, Action...|1h 45min|Lorsqu’il était e...| https://www.alloc...|     1|     45|         Animation|  Action|      Drame|         4.0|              Bien|\n",
            "|Simone, le voyage...|       Olivier Dahan|Elsa Zylberstein,...|        3.1|             4.1|       Biopic, Drame|2h 20min|Le destin de Simo...| https://www.alloc...|     2|     20|            Biopic|   Drame|       NULL|         3.6|             Moyen|\n",
            "+--------------------+--------------------+--------------------+-----------+----------------+--------------------+--------+--------------------+---------------------+------+-------+------------------+--------+-----------+------------+------------------+\n",
            "only showing top 20 rows\n",
            "\n"
          ]
        }
      ],
      "source": [
        "df_final.show()"
      ]
    },
    {
      "cell_type": "code",
      "execution_count": null,
      "metadata": {
        "id": "2yMUdGzRkOBh"
      },
      "outputs": [],
      "source": [
        "# Créer une nouvelle colonne contenant la la durée totale en min\n",
        "df_final = df_final.withColumn(\"Durée Totale(min)\", ((col(\"Heures\")*60)+ col(\"Minutes\")) )"
      ]
    },
    {
      "cell_type": "markdown",
      "metadata": {
        "id": "P0w8kVAmp6mT"
      },
      "source": [
        "---\n",
        "\n",
        "# Analyse Statistique\n",
        "\n",
        "---"
      ]
    },
    {
      "cell_type": "code",
      "execution_count": null,
      "metadata": {
        "id": "V6I4C_ggbXUX"
      },
      "outputs": [],
      "source": []
    },
    {
      "cell_type": "code",
      "execution_count": null,
      "metadata": {
        "colab": {
          "base_uri": "https://localhost:8080/"
        },
        "id": "5awKEq08rYnL",
        "outputId": "5d628c72-fcf0-45f1-c4ba-589299e1cd8d"
      },
      "outputs": [
        {
          "name": "stdout",
          "output_type": "stream",
          "text": [
            "Nombre de lignes dans le DataFrame :  139\n"
          ]
        }
      ],
      "source": [
        "# Pour connaître le nombre de lignes dans un DataFrame\n",
        "nb_lignes = df_split.count()\n",
        "print(\"Nombre de lignes dans le DataFrame : \", nb_lignes)"
      ]
    },
    {
      "cell_type": "code",
      "execution_count": null,
      "metadata": {
        "colab": {
          "base_uri": "https://localhost:8080/"
        },
        "id": "M-jNwI5UlLVL",
        "outputId": "93dc798b-684a-46ad-8f51-55b515bc70bc"
      },
      "outputs": [
        {
          "name": "stdout",
          "output_type": "stream",
          "text": [
            "+-------+-------------------+------------------+-------------------+------------------+\n",
            "|summary|        Note Presse|  Note Spectateurs|       Note Moyenne| Durée Totale(min)|\n",
            "+-------+-------------------+------------------+-------------------+------------------+\n",
            "|  count|                139|               139|                139|               139|\n",
            "|   mean| 3.5690647372238926|  3.83237410071943| 3.7057553956834526|             117.0|\n",
            "| stddev|0.47774363518084634|0.1945696951760169|0.27577815705577846|22.313640463282493|\n",
            "|    min|                1.3|               3.5|                2.5|                61|\n",
            "|    max|                4.9|               4.3|                4.6|               192|\n",
            "+-------+-------------------+------------------+-------------------+------------------+\n",
            "\n"
          ]
        }
      ],
      "source": [
        "#Stat descriptives\n",
        "df_final.describe([\"Note Presse\", \"Note Spectateurs\",\"Note Moyenne\" ,\"Durée Totale(min)\"]).show()"
      ]
    },
    {
      "cell_type": "code",
      "execution_count": null,
      "metadata": {
        "colab": {
          "base_uri": "https://localhost:8080/"
        },
        "id": "sBF05MTfltwU",
        "outputId": "8d227307-6d06-41a3-b916-c2c8c60a1b74"
      },
      "outputs": [
        {
          "name": "stdout",
          "output_type": "stream",
          "text": [
            "+--------------------+-----+\n",
            "|               Types|count|\n",
            "+--------------------+-----+\n",
            "|               Drame|   41|\n",
            "|             Comédie|    6|\n",
            "|      Drame, Romance|    6|\n",
            "|Comédie dramatiqu...|    4|\n",
            "|     Drame, Thriller|    4|\n",
            "|       Biopic, Drame|    4|\n",
            "|     Thriller, Drame|    4|\n",
            "|      Drame, Comédie|    3|\n",
            "|  Comédie dramatique|    3|\n",
            "|   Historique, Drame|    3|\n",
            "|            Thriller|    2|\n",
            "|    Comédie, Romance|    2|\n",
            "|Thriller, Policie...|    2|\n",
            "|       Drame, Biopic|    2|\n",
            "|  Animation, Famille|    2|\n",
            "|   Drame, Historique|    2|\n",
            "|  Thriller, Policier|    2|\n",
            "|Comédie dramatiqu...|    2|\n",
            "|Animation, Comédi...|    2|\n",
            "|      Romance, Drame|    2|\n",
            "+--------------------+-----+\n",
            "only showing top 20 rows\n",
            "\n"
          ]
        }
      ],
      "source": [
        "\n",
        "# Grouper les films par type et compter le nombre de films pour chaque type\n",
        "films_par_type = df.groupBy(\"Types\").count().orderBy(col(\"count\").desc())\n",
        "\n",
        "# Afficher les films par type\n",
        "films_par_type.show()\n"
      ]
    },
    {
      "cell_type": "code",
      "execution_count": null,
      "metadata": {
        "colab": {
          "base_uri": "https://localhost:8080/",
          "height": 542
        },
        "id": "l3LfHSD3v3mS",
        "outputId": "07187e3f-c7ef-4504-9b70-e33384a6887a"
      },
      "outputs": [
        {
          "data": {
            "text/html": [
              "<html>\n",
              "<head><meta charset=\"utf-8\" /></head>\n",
              "<body>\n",
              "    <div>            <script src=\"https://cdnjs.cloudflare.com/ajax/libs/mathjax/2.7.5/MathJax.js?config=TeX-AMS-MML_SVG\"></script><script type=\"text/javascript\">if (window.MathJax && window.MathJax.Hub && window.MathJax.Hub.Config) {window.MathJax.Hub.Config({SVG: {font: \"STIX-Web\"}});}</script>                <script type=\"text/javascript\">window.PlotlyConfig = {MathJaxConfig: 'local'};</script>\n",
              "        <script charset=\"utf-8\" src=\"https://cdn.plot.ly/plotly-2.24.1.min.js\"></script>                <div id=\"889b8125-754a-486f-897a-65faa68d839a\" class=\"plotly-graph-div\" style=\"height:525px; width:100%;\"></div>            <script type=\"text/javascript\">                                    window.PLOTLYENV=window.PLOTLYENV || {};                                    if (document.getElementById(\"889b8125-754a-486f-897a-65faa68d839a\")) {                    Plotly.newPlot(                        \"889b8125-754a-486f-897a-65faa68d839a\",                        [{\"alignmentgroup\":\"True\",\"bingroup\":\"x\",\"hovertemplate\":\"variable=Note Presse\\u003cbr\\u003evalue=%{x}\\u003cbr\\u003ecount=%{y}\\u003cextra\\u003e\\u003c\\u002fextra\\u003e\",\"legendgroup\":\"Note Presse\",\"marker\":{\"color\":\"#636efa\",\"pattern\":{\"shape\":\"\"}},\"name\":\"Note Presse\",\"offsetgroup\":\"Note Presse\",\"orientation\":\"v\",\"showlegend\":true,\"x\":[3.700000047683716,4.900000095367432,3.9000000953674316,3.799999952316284,4.099999904632568,3.799999952316284,4.099999904632568,3.0999999046325684,4.0,4.199999809265137,3.799999952316284,3.5,3.4000000953674316,3.200000047683716,3.700000047683716,3.299999952316284,3.799999952316284,4.099999904632568,3.9000000953674316,3.0999999046325684,4.0,3.799999952316284,3.200000047683716,3.9000000953674316,4.099999904632568,4.199999809265137,3.5,4.099999904632568,3.9000000953674316,3.0,4.400000095367432,2.5999999046325684,3.9000000953674316,3.799999952316284,3.9000000953674316,3.0,3.700000047683716,3.5999999046325684,4.0,3.799999952316284,3.299999952316284,3.299999952316284,4.0,3.9000000953674316,1.7999999523162842,3.799999952316284,3.5,3.299999952316284,4.099999904632568,3.5999999046325684,3.799999952316284,3.799999952316284,3.0,2.5999999046325684,3.0999999046325684,3.9000000953674316,3.200000047683716,3.9000000953674316,3.200000047683716,3.700000047683716,3.299999952316284,3.799999952316284,3.799999952316284,3.4000000953674316,3.700000047683716,3.799999952316284,3.5,3.5999999046325684,3.9000000953674316,3.4000000953674316,3.5,3.5,3.700000047683716,3.4000000953674316,4.0,3.4000000953674316,3.299999952316284,3.9000000953674316,3.0999999046325684,3.700000047683716,3.5999999046325684,4.0,3.700000047683716,3.799999952316284,3.200000047683716,3.700000047683716,4.0,2.700000047683716,3.0999999046325684,3.700000047683716,4.0,3.799999952316284,3.700000047683716,3.299999952316284,3.0999999046325684,2.4000000953674316,3.5,2.5999999046325684,4.400000095367432,3.700000047683716,3.0,3.200000047683716,3.0999999046325684,4.099999904632568,4.0,3.0999999046325684,1.2999999523162842,2.5999999046325684,3.5999999046325684,3.5999999046325684,4.0,3.799999952316284,2.799999952316284,3.9000000953674316,4.0,3.5999999046325684,3.299999952316284,3.700000047683716,4.199999809265137,4.0,2.9000000953674316,3.200000047683716,3.5,3.299999952316284,3.5999999046325684,3.200000047683716,3.5999999046325684,3.799999952316284,3.5,3.700000047683716,3.5999999046325684,3.4000000953674316,3.9000000953674316,3.5999999046325684,3.700000047683716,3.700000047683716,3.5999999046325684,3.299999952316284,3.799999952316284],\"xaxis\":\"x\",\"yaxis\":\"y\",\"type\":\"histogram\"},{\"alignmentgroup\":\"True\",\"boxpoints\":\"all\",\"fillcolor\":\"rgba(255,255,255,0)\",\"hoveron\":\"points\",\"hovertemplate\":\"variable=Note Presse\\u003cbr\\u003evalue=%{x}\\u003cextra\\u003e\\u003c\\u002fextra\\u003e\",\"jitter\":0,\"legendgroup\":\"Note Presse\",\"line\":{\"color\":\"rgba(255,255,255,0)\"},\"marker\":{\"color\":\"#636efa\",\"symbol\":\"line-ns-open\"},\"name\":\"Note Presse\",\"offsetgroup\":\"Note Presse\",\"showlegend\":false,\"x\":[3.700000047683716,4.900000095367432,3.9000000953674316,3.799999952316284,4.099999904632568,3.799999952316284,4.099999904632568,3.0999999046325684,4.0,4.199999809265137,3.799999952316284,3.5,3.4000000953674316,3.200000047683716,3.700000047683716,3.299999952316284,3.799999952316284,4.099999904632568,3.9000000953674316,3.0999999046325684,4.0,3.799999952316284,3.200000047683716,3.9000000953674316,4.099999904632568,4.199999809265137,3.5,4.099999904632568,3.9000000953674316,3.0,4.400000095367432,2.5999999046325684,3.9000000953674316,3.799999952316284,3.9000000953674316,3.0,3.700000047683716,3.5999999046325684,4.0,3.799999952316284,3.299999952316284,3.299999952316284,4.0,3.9000000953674316,1.7999999523162842,3.799999952316284,3.5,3.299999952316284,4.099999904632568,3.5999999046325684,3.799999952316284,3.799999952316284,3.0,2.5999999046325684,3.0999999046325684,3.9000000953674316,3.200000047683716,3.9000000953674316,3.200000047683716,3.700000047683716,3.299999952316284,3.799999952316284,3.799999952316284,3.4000000953674316,3.700000047683716,3.799999952316284,3.5,3.5999999046325684,3.9000000953674316,3.4000000953674316,3.5,3.5,3.700000047683716,3.4000000953674316,4.0,3.4000000953674316,3.299999952316284,3.9000000953674316,3.0999999046325684,3.700000047683716,3.5999999046325684,4.0,3.700000047683716,3.799999952316284,3.200000047683716,3.700000047683716,4.0,2.700000047683716,3.0999999046325684,3.700000047683716,4.0,3.799999952316284,3.700000047683716,3.299999952316284,3.0999999046325684,2.4000000953674316,3.5,2.5999999046325684,4.400000095367432,3.700000047683716,3.0,3.200000047683716,3.0999999046325684,4.099999904632568,4.0,3.0999999046325684,1.2999999523162842,2.5999999046325684,3.5999999046325684,3.5999999046325684,4.0,3.799999952316284,2.799999952316284,3.9000000953674316,4.0,3.5999999046325684,3.299999952316284,3.700000047683716,4.199999809265137,4.0,2.9000000953674316,3.200000047683716,3.5,3.299999952316284,3.5999999046325684,3.200000047683716,3.5999999046325684,3.799999952316284,3.5,3.700000047683716,3.5999999046325684,3.4000000953674316,3.9000000953674316,3.5999999046325684,3.700000047683716,3.700000047683716,3.5999999046325684,3.299999952316284,3.799999952316284],\"xaxis\":\"x2\",\"yaxis\":\"y2\",\"type\":\"box\"},{\"alignmentgroup\":\"True\",\"bingroup\":\"x\",\"hovertemplate\":\"variable=Note Spectateurs\\u003cbr\\u003evalue=%{x}\\u003cbr\\u003ecount=%{y}\\u003cextra\\u003e\\u003c\\u002fextra\\u003e\",\"legendgroup\":\"Note Spectateurs\",\"marker\":{\"color\":\"#EF553B\",\"pattern\":{\"shape\":\"\"}},\"name\":\"Note Spectateurs\",\"offsetgroup\":\"Note Spectateurs\",\"orientation\":\"v\",\"showlegend\":true,\"x\":[4.3,4.3,4.2,4.2,4.2,4.2,4.2,4.2,4.2,4.1,4.1,4.1,4.1,4.1,4.1,4.1,4.1,3.8,4.1,4.1,4.1,4.1,4.1,4.1,3.8,4.1,4.1,3.8,4.0,4.0,4.0,4.0,4.0,4.0,4.0,4.0,4.0,4.0,4.0,4.0,3.9,3.9,3.9,3.8,3.9,3.9,3.9,3.9,3.9,3.9,3.9,3.9,3.9,3.9,3.9,3.8,3.9,3.8,3.9,3.9,3.8,3.8,3.8,3.8,3.8,3.8,3.8,3.8,3.8,3.8,3.8,3.8,3.8,3.8,3.8,3.8,3.8,3.8,3.8,3.8,3.8,3.8,3.8,3.8,3.8,3.8,3.7,3.7,3.7,3.7,3.7,3.7,3.8,3.7,3.7,3.7,3.7,3.7,3.7,3.8,3.7,3.7,3.7,3.7,3.7,3.7,3.7,3.6,3.8,3.8,3.6,3.6,3.6,3.6,3.6,3.6,3.6,3.6,3.6,3.6,3.6,3.6,3.6,3.6,3.8,3.6,3.8,3.6,3.6,3.6,3.6,3.6,3.5,3.5,3.5,3.5,3.5,3.5,3.5],\"xaxis\":\"x\",\"yaxis\":\"y\",\"type\":\"histogram\"},{\"alignmentgroup\":\"True\",\"boxpoints\":\"all\",\"fillcolor\":\"rgba(255,255,255,0)\",\"hoveron\":\"points\",\"hovertemplate\":\"variable=Note Spectateurs\\u003cbr\\u003evalue=%{x}\\u003cextra\\u003e\\u003c\\u002fextra\\u003e\",\"jitter\":0,\"legendgroup\":\"Note Spectateurs\",\"line\":{\"color\":\"rgba(255,255,255,0)\"},\"marker\":{\"color\":\"#EF553B\",\"symbol\":\"line-ns-open\"},\"name\":\"Note Spectateurs\",\"offsetgroup\":\"Note Spectateurs\",\"showlegend\":false,\"x\":[4.3,4.3,4.2,4.2,4.2,4.2,4.2,4.2,4.2,4.1,4.1,4.1,4.1,4.1,4.1,4.1,4.1,3.8,4.1,4.1,4.1,4.1,4.1,4.1,3.8,4.1,4.1,3.8,4.0,4.0,4.0,4.0,4.0,4.0,4.0,4.0,4.0,4.0,4.0,4.0,3.9,3.9,3.9,3.8,3.9,3.9,3.9,3.9,3.9,3.9,3.9,3.9,3.9,3.9,3.9,3.8,3.9,3.8,3.9,3.9,3.8,3.8,3.8,3.8,3.8,3.8,3.8,3.8,3.8,3.8,3.8,3.8,3.8,3.8,3.8,3.8,3.8,3.8,3.8,3.8,3.8,3.8,3.8,3.8,3.8,3.8,3.7,3.7,3.7,3.7,3.7,3.7,3.8,3.7,3.7,3.7,3.7,3.7,3.7,3.8,3.7,3.7,3.7,3.7,3.7,3.7,3.7,3.6,3.8,3.8,3.6,3.6,3.6,3.6,3.6,3.6,3.6,3.6,3.6,3.6,3.6,3.6,3.6,3.6,3.8,3.6,3.8,3.6,3.6,3.6,3.6,3.6,3.5,3.5,3.5,3.5,3.5,3.5,3.5],\"xaxis\":\"x2\",\"yaxis\":\"y2\",\"type\":\"box\"}],                        {\"template\":{\"data\":{\"histogram2dcontour\":[{\"type\":\"histogram2dcontour\",\"colorbar\":{\"outlinewidth\":0,\"ticks\":\"\"},\"colorscale\":[[0.0,\"#0d0887\"],[0.1111111111111111,\"#46039f\"],[0.2222222222222222,\"#7201a8\"],[0.3333333333333333,\"#9c179e\"],[0.4444444444444444,\"#bd3786\"],[0.5555555555555556,\"#d8576b\"],[0.6666666666666666,\"#ed7953\"],[0.7777777777777778,\"#fb9f3a\"],[0.8888888888888888,\"#fdca26\"],[1.0,\"#f0f921\"]]}],\"choropleth\":[{\"type\":\"choropleth\",\"colorbar\":{\"outlinewidth\":0,\"ticks\":\"\"}}],\"histogram2d\":[{\"type\":\"histogram2d\",\"colorbar\":{\"outlinewidth\":0,\"ticks\":\"\"},\"colorscale\":[[0.0,\"#0d0887\"],[0.1111111111111111,\"#46039f\"],[0.2222222222222222,\"#7201a8\"],[0.3333333333333333,\"#9c179e\"],[0.4444444444444444,\"#bd3786\"],[0.5555555555555556,\"#d8576b\"],[0.6666666666666666,\"#ed7953\"],[0.7777777777777778,\"#fb9f3a\"],[0.8888888888888888,\"#fdca26\"],[1.0,\"#f0f921\"]]}],\"heatmap\":[{\"type\":\"heatmap\",\"colorbar\":{\"outlinewidth\":0,\"ticks\":\"\"},\"colorscale\":[[0.0,\"#0d0887\"],[0.1111111111111111,\"#46039f\"],[0.2222222222222222,\"#7201a8\"],[0.3333333333333333,\"#9c179e\"],[0.4444444444444444,\"#bd3786\"],[0.5555555555555556,\"#d8576b\"],[0.6666666666666666,\"#ed7953\"],[0.7777777777777778,\"#fb9f3a\"],[0.8888888888888888,\"#fdca26\"],[1.0,\"#f0f921\"]]}],\"heatmapgl\":[{\"type\":\"heatmapgl\",\"colorbar\":{\"outlinewidth\":0,\"ticks\":\"\"},\"colorscale\":[[0.0,\"#0d0887\"],[0.1111111111111111,\"#46039f\"],[0.2222222222222222,\"#7201a8\"],[0.3333333333333333,\"#9c179e\"],[0.4444444444444444,\"#bd3786\"],[0.5555555555555556,\"#d8576b\"],[0.6666666666666666,\"#ed7953\"],[0.7777777777777778,\"#fb9f3a\"],[0.8888888888888888,\"#fdca26\"],[1.0,\"#f0f921\"]]}],\"contourcarpet\":[{\"type\":\"contourcarpet\",\"colorbar\":{\"outlinewidth\":0,\"ticks\":\"\"}}],\"contour\":[{\"type\":\"contour\",\"colorbar\":{\"outlinewidth\":0,\"ticks\":\"\"},\"colorscale\":[[0.0,\"#0d0887\"],[0.1111111111111111,\"#46039f\"],[0.2222222222222222,\"#7201a8\"],[0.3333333333333333,\"#9c179e\"],[0.4444444444444444,\"#bd3786\"],[0.5555555555555556,\"#d8576b\"],[0.6666666666666666,\"#ed7953\"],[0.7777777777777778,\"#fb9f3a\"],[0.8888888888888888,\"#fdca26\"],[1.0,\"#f0f921\"]]}],\"surface\":[{\"type\":\"surface\",\"colorbar\":{\"outlinewidth\":0,\"ticks\":\"\"},\"colorscale\":[[0.0,\"#0d0887\"],[0.1111111111111111,\"#46039f\"],[0.2222222222222222,\"#7201a8\"],[0.3333333333333333,\"#9c179e\"],[0.4444444444444444,\"#bd3786\"],[0.5555555555555556,\"#d8576b\"],[0.6666666666666666,\"#ed7953\"],[0.7777777777777778,\"#fb9f3a\"],[0.8888888888888888,\"#fdca26\"],[1.0,\"#f0f921\"]]}],\"mesh3d\":[{\"type\":\"mesh3d\",\"colorbar\":{\"outlinewidth\":0,\"ticks\":\"\"}}],\"scatter\":[{\"fillpattern\":{\"fillmode\":\"overlay\",\"size\":10,\"solidity\":0.2},\"type\":\"scatter\"}],\"parcoords\":[{\"type\":\"parcoords\",\"line\":{\"colorbar\":{\"outlinewidth\":0,\"ticks\":\"\"}}}],\"scatterpolargl\":[{\"type\":\"scatterpolargl\",\"marker\":{\"colorbar\":{\"outlinewidth\":0,\"ticks\":\"\"}}}],\"bar\":[{\"error_x\":{\"color\":\"#2a3f5f\"},\"error_y\":{\"color\":\"#2a3f5f\"},\"marker\":{\"line\":{\"color\":\"#E5ECF6\",\"width\":0.5},\"pattern\":{\"fillmode\":\"overlay\",\"size\":10,\"solidity\":0.2}},\"type\":\"bar\"}],\"scattergeo\":[{\"type\":\"scattergeo\",\"marker\":{\"colorbar\":{\"outlinewidth\":0,\"ticks\":\"\"}}}],\"scatterpolar\":[{\"type\":\"scatterpolar\",\"marker\":{\"colorbar\":{\"outlinewidth\":0,\"ticks\":\"\"}}}],\"histogram\":[{\"marker\":{\"pattern\":{\"fillmode\":\"overlay\",\"size\":10,\"solidity\":0.2}},\"type\":\"histogram\"}],\"scattergl\":[{\"type\":\"scattergl\",\"marker\":{\"colorbar\":{\"outlinewidth\":0,\"ticks\":\"\"}}}],\"scatter3d\":[{\"type\":\"scatter3d\",\"line\":{\"colorbar\":{\"outlinewidth\":0,\"ticks\":\"\"}},\"marker\":{\"colorbar\":{\"outlinewidth\":0,\"ticks\":\"\"}}}],\"scattermapbox\":[{\"type\":\"scattermapbox\",\"marker\":{\"colorbar\":{\"outlinewidth\":0,\"ticks\":\"\"}}}],\"scatterternary\":[{\"type\":\"scatterternary\",\"marker\":{\"colorbar\":{\"outlinewidth\":0,\"ticks\":\"\"}}}],\"scattercarpet\":[{\"type\":\"scattercarpet\",\"marker\":{\"colorbar\":{\"outlinewidth\":0,\"ticks\":\"\"}}}],\"carpet\":[{\"aaxis\":{\"endlinecolor\":\"#2a3f5f\",\"gridcolor\":\"white\",\"linecolor\":\"white\",\"minorgridcolor\":\"white\",\"startlinecolor\":\"#2a3f5f\"},\"baxis\":{\"endlinecolor\":\"#2a3f5f\",\"gridcolor\":\"white\",\"linecolor\":\"white\",\"minorgridcolor\":\"white\",\"startlinecolor\":\"#2a3f5f\"},\"type\":\"carpet\"}],\"table\":[{\"cells\":{\"fill\":{\"color\":\"#EBF0F8\"},\"line\":{\"color\":\"white\"}},\"header\":{\"fill\":{\"color\":\"#C8D4E3\"},\"line\":{\"color\":\"white\"}},\"type\":\"table\"}],\"barpolar\":[{\"marker\":{\"line\":{\"color\":\"#E5ECF6\",\"width\":0.5},\"pattern\":{\"fillmode\":\"overlay\",\"size\":10,\"solidity\":0.2}},\"type\":\"barpolar\"}],\"pie\":[{\"automargin\":true,\"type\":\"pie\"}]},\"layout\":{\"autotypenumbers\":\"strict\",\"colorway\":[\"#636efa\",\"#EF553B\",\"#00cc96\",\"#ab63fa\",\"#FFA15A\",\"#19d3f3\",\"#FF6692\",\"#B6E880\",\"#FF97FF\",\"#FECB52\"],\"font\":{\"color\":\"#2a3f5f\"},\"hovermode\":\"closest\",\"hoverlabel\":{\"align\":\"left\"},\"paper_bgcolor\":\"white\",\"plot_bgcolor\":\"#E5ECF6\",\"polar\":{\"bgcolor\":\"#E5ECF6\",\"angularaxis\":{\"gridcolor\":\"white\",\"linecolor\":\"white\",\"ticks\":\"\"},\"radialaxis\":{\"gridcolor\":\"white\",\"linecolor\":\"white\",\"ticks\":\"\"}},\"ternary\":{\"bgcolor\":\"#E5ECF6\",\"aaxis\":{\"gridcolor\":\"white\",\"linecolor\":\"white\",\"ticks\":\"\"},\"baxis\":{\"gridcolor\":\"white\",\"linecolor\":\"white\",\"ticks\":\"\"},\"caxis\":{\"gridcolor\":\"white\",\"linecolor\":\"white\",\"ticks\":\"\"}},\"coloraxis\":{\"colorbar\":{\"outlinewidth\":0,\"ticks\":\"\"}},\"colorscale\":{\"sequential\":[[0.0,\"#0d0887\"],[0.1111111111111111,\"#46039f\"],[0.2222222222222222,\"#7201a8\"],[0.3333333333333333,\"#9c179e\"],[0.4444444444444444,\"#bd3786\"],[0.5555555555555556,\"#d8576b\"],[0.6666666666666666,\"#ed7953\"],[0.7777777777777778,\"#fb9f3a\"],[0.8888888888888888,\"#fdca26\"],[1.0,\"#f0f921\"]],\"sequentialminus\":[[0.0,\"#0d0887\"],[0.1111111111111111,\"#46039f\"],[0.2222222222222222,\"#7201a8\"],[0.3333333333333333,\"#9c179e\"],[0.4444444444444444,\"#bd3786\"],[0.5555555555555556,\"#d8576b\"],[0.6666666666666666,\"#ed7953\"],[0.7777777777777778,\"#fb9f3a\"],[0.8888888888888888,\"#fdca26\"],[1.0,\"#f0f921\"]],\"diverging\":[[0,\"#8e0152\"],[0.1,\"#c51b7d\"],[0.2,\"#de77ae\"],[0.3,\"#f1b6da\"],[0.4,\"#fde0ef\"],[0.5,\"#f7f7f7\"],[0.6,\"#e6f5d0\"],[0.7,\"#b8e186\"],[0.8,\"#7fbc41\"],[0.9,\"#4d9221\"],[1,\"#276419\"]]},\"xaxis\":{\"gridcolor\":\"white\",\"linecolor\":\"white\",\"ticks\":\"\",\"title\":{\"standoff\":15},\"zerolinecolor\":\"white\",\"automargin\":true,\"zerolinewidth\":2},\"yaxis\":{\"gridcolor\":\"white\",\"linecolor\":\"white\",\"ticks\":\"\",\"title\":{\"standoff\":15},\"zerolinecolor\":\"white\",\"automargin\":true,\"zerolinewidth\":2},\"scene\":{\"xaxis\":{\"backgroundcolor\":\"#E5ECF6\",\"gridcolor\":\"white\",\"linecolor\":\"white\",\"showbackground\":true,\"ticks\":\"\",\"zerolinecolor\":\"white\",\"gridwidth\":2},\"yaxis\":{\"backgroundcolor\":\"#E5ECF6\",\"gridcolor\":\"white\",\"linecolor\":\"white\",\"showbackground\":true,\"ticks\":\"\",\"zerolinecolor\":\"white\",\"gridwidth\":2},\"zaxis\":{\"backgroundcolor\":\"#E5ECF6\",\"gridcolor\":\"white\",\"linecolor\":\"white\",\"showbackground\":true,\"ticks\":\"\",\"zerolinecolor\":\"white\",\"gridwidth\":2}},\"shapedefaults\":{\"line\":{\"color\":\"#2a3f5f\"}},\"annotationdefaults\":{\"arrowcolor\":\"#2a3f5f\",\"arrowhead\":0,\"arrowwidth\":1},\"geo\":{\"bgcolor\":\"white\",\"landcolor\":\"#E5ECF6\",\"subunitcolor\":\"white\",\"showland\":true,\"showlakes\":true,\"lakecolor\":\"white\"},\"title\":{\"x\":0.05},\"mapbox\":{\"style\":\"light\"}}},\"xaxis\":{\"anchor\":\"y\",\"domain\":[0.0,1.0],\"title\":{\"text\":\"value\"}},\"yaxis\":{\"anchor\":\"x\",\"domain\":[0.0,0.7326],\"title\":{\"text\":\"count\"}},\"xaxis2\":{\"anchor\":\"y2\",\"domain\":[0.0,1.0],\"matches\":\"x\",\"showticklabels\":false,\"showgrid\":true},\"yaxis2\":{\"anchor\":\"x2\",\"domain\":[0.7426,1.0],\"matches\":\"y2\",\"showticklabels\":false,\"showline\":false,\"ticks\":\"\",\"showgrid\":false},\"legend\":{\"title\":{\"text\":\"variable\"},\"tracegroupgap\":0},\"title\":{\"text\":\"Distribution des notes\"},\"barmode\":\"relative\",\"bargap\":0.1},                        {\"responsive\": true}                    ).then(function(){\n",
              "                            \n",
              "var gd = document.getElementById('889b8125-754a-486f-897a-65faa68d839a');\n",
              "var x = new MutationObserver(function (mutations, observer) {{\n",
              "        var display = window.getComputedStyle(gd).display;\n",
              "        if (!display || display === 'none') {{\n",
              "            console.log([gd, 'removed!']);\n",
              "            Plotly.purge(gd);\n",
              "            observer.disconnect();\n",
              "        }}\n",
              "}});\n",
              "\n",
              "// Listen for the removal of the full notebook cells\n",
              "var notebookContainer = gd.closest('#notebook-container');\n",
              "if (notebookContainer) {{\n",
              "    x.observe(notebookContainer, {childList: true});\n",
              "}}\n",
              "\n",
              "// Listen for the clearing of the current output cell\n",
              "var outputEl = gd.closest('.output');\n",
              "if (outputEl) {{\n",
              "    x.observe(outputEl, {childList: true});\n",
              "}}\n",
              "\n",
              "                        })                };                            </script>        </div>\n",
              "</body>\n",
              "</html>"
            ]
          },
          "metadata": {},
          "output_type": "display_data"
        }
      ],
      "source": [
        "import plotly.express as px\n",
        "\n",
        "data = df_final.select(\"Note Presse\", \"Note Spectateurs\").toPandas()\n",
        "\n",
        "fig = px.histogram(data, x=[\"Note Presse\", \"Note Spectateurs\"], marginal=\"rug\", title=\"Distribution des notes\")\n",
        "fig.update_layout(bargap=0.1)\n",
        "fig.show()\n"
      ]
    },
    {
      "cell_type": "code",
      "execution_count": null,
      "metadata": {
        "colab": {
          "base_uri": "https://localhost:8080/",
          "height": 542
        },
        "id": "zwa95Gi1l-Tb",
        "outputId": "abfe7dd4-4246-49f1-c667-6293f33ced1f"
      },
      "outputs": [
        {
          "data": {
            "text/html": [
              "<html>\n",
              "<head><meta charset=\"utf-8\" /></head>\n",
              "<body>\n",
              "    <div>            <script src=\"https://cdnjs.cloudflare.com/ajax/libs/mathjax/2.7.5/MathJax.js?config=TeX-AMS-MML_SVG\"></script><script type=\"text/javascript\">if (window.MathJax && window.MathJax.Hub && window.MathJax.Hub.Config) {window.MathJax.Hub.Config({SVG: {font: \"STIX-Web\"}});}</script>                <script type=\"text/javascript\">window.PlotlyConfig = {MathJaxConfig: 'local'};</script>\n",
              "        <script charset=\"utf-8\" src=\"https://cdn.plot.ly/plotly-2.24.1.min.js\"></script>                <div id=\"18ed7f23-2ba2-48db-a945-64c5e0c828ef\" class=\"plotly-graph-div\" style=\"height:525px; width:100%;\"></div>            <script type=\"text/javascript\">                                    window.PLOTLYENV=window.PLOTLYENV || {};                                    if (document.getElementById(\"18ed7f23-2ba2-48db-a945-64c5e0c828ef\")) {                    Plotly.newPlot(                        \"18ed7f23-2ba2-48db-a945-64c5e0c828ef\",                        [{\"alignmentgroup\":\"True\",\"hovertemplate\":\"Cat\\u00e9gorie_G\\u00e9n\\u00e9rale=%{x}\\u003cbr\\u003ecount=%{y}\\u003cextra\\u003e\\u003c\\u002fextra\\u003e\",\"legendgroup\":\"\",\"marker\":{\"color\":\"#636efa\",\"pattern\":{\"shape\":\"\"}},\"name\":\"\",\"offsetgroup\":\"\",\"orientation\":\"v\",\"showlegend\":false,\"textposition\":\"auto\",\"x\":[\"faibe\",\"Bien\",\"Moyen\"],\"xaxis\":\"x\",\"y\":[10,21,108],\"yaxis\":\"y\",\"type\":\"bar\"}],                        {\"template\":{\"data\":{\"histogram2dcontour\":[{\"type\":\"histogram2dcontour\",\"colorbar\":{\"outlinewidth\":0,\"ticks\":\"\"},\"colorscale\":[[0.0,\"#0d0887\"],[0.1111111111111111,\"#46039f\"],[0.2222222222222222,\"#7201a8\"],[0.3333333333333333,\"#9c179e\"],[0.4444444444444444,\"#bd3786\"],[0.5555555555555556,\"#d8576b\"],[0.6666666666666666,\"#ed7953\"],[0.7777777777777778,\"#fb9f3a\"],[0.8888888888888888,\"#fdca26\"],[1.0,\"#f0f921\"]]}],\"choropleth\":[{\"type\":\"choropleth\",\"colorbar\":{\"outlinewidth\":0,\"ticks\":\"\"}}],\"histogram2d\":[{\"type\":\"histogram2d\",\"colorbar\":{\"outlinewidth\":0,\"ticks\":\"\"},\"colorscale\":[[0.0,\"#0d0887\"],[0.1111111111111111,\"#46039f\"],[0.2222222222222222,\"#7201a8\"],[0.3333333333333333,\"#9c179e\"],[0.4444444444444444,\"#bd3786\"],[0.5555555555555556,\"#d8576b\"],[0.6666666666666666,\"#ed7953\"],[0.7777777777777778,\"#fb9f3a\"],[0.8888888888888888,\"#fdca26\"],[1.0,\"#f0f921\"]]}],\"heatmap\":[{\"type\":\"heatmap\",\"colorbar\":{\"outlinewidth\":0,\"ticks\":\"\"},\"colorscale\":[[0.0,\"#0d0887\"],[0.1111111111111111,\"#46039f\"],[0.2222222222222222,\"#7201a8\"],[0.3333333333333333,\"#9c179e\"],[0.4444444444444444,\"#bd3786\"],[0.5555555555555556,\"#d8576b\"],[0.6666666666666666,\"#ed7953\"],[0.7777777777777778,\"#fb9f3a\"],[0.8888888888888888,\"#fdca26\"],[1.0,\"#f0f921\"]]}],\"heatmapgl\":[{\"type\":\"heatmapgl\",\"colorbar\":{\"outlinewidth\":0,\"ticks\":\"\"},\"colorscale\":[[0.0,\"#0d0887\"],[0.1111111111111111,\"#46039f\"],[0.2222222222222222,\"#7201a8\"],[0.3333333333333333,\"#9c179e\"],[0.4444444444444444,\"#bd3786\"],[0.5555555555555556,\"#d8576b\"],[0.6666666666666666,\"#ed7953\"],[0.7777777777777778,\"#fb9f3a\"],[0.8888888888888888,\"#fdca26\"],[1.0,\"#f0f921\"]]}],\"contourcarpet\":[{\"type\":\"contourcarpet\",\"colorbar\":{\"outlinewidth\":0,\"ticks\":\"\"}}],\"contour\":[{\"type\":\"contour\",\"colorbar\":{\"outlinewidth\":0,\"ticks\":\"\"},\"colorscale\":[[0.0,\"#0d0887\"],[0.1111111111111111,\"#46039f\"],[0.2222222222222222,\"#7201a8\"],[0.3333333333333333,\"#9c179e\"],[0.4444444444444444,\"#bd3786\"],[0.5555555555555556,\"#d8576b\"],[0.6666666666666666,\"#ed7953\"],[0.7777777777777778,\"#fb9f3a\"],[0.8888888888888888,\"#fdca26\"],[1.0,\"#f0f921\"]]}],\"surface\":[{\"type\":\"surface\",\"colorbar\":{\"outlinewidth\":0,\"ticks\":\"\"},\"colorscale\":[[0.0,\"#0d0887\"],[0.1111111111111111,\"#46039f\"],[0.2222222222222222,\"#7201a8\"],[0.3333333333333333,\"#9c179e\"],[0.4444444444444444,\"#bd3786\"],[0.5555555555555556,\"#d8576b\"],[0.6666666666666666,\"#ed7953\"],[0.7777777777777778,\"#fb9f3a\"],[0.8888888888888888,\"#fdca26\"],[1.0,\"#f0f921\"]]}],\"mesh3d\":[{\"type\":\"mesh3d\",\"colorbar\":{\"outlinewidth\":0,\"ticks\":\"\"}}],\"scatter\":[{\"fillpattern\":{\"fillmode\":\"overlay\",\"size\":10,\"solidity\":0.2},\"type\":\"scatter\"}],\"parcoords\":[{\"type\":\"parcoords\",\"line\":{\"colorbar\":{\"outlinewidth\":0,\"ticks\":\"\"}}}],\"scatterpolargl\":[{\"type\":\"scatterpolargl\",\"marker\":{\"colorbar\":{\"outlinewidth\":0,\"ticks\":\"\"}}}],\"bar\":[{\"error_x\":{\"color\":\"#2a3f5f\"},\"error_y\":{\"color\":\"#2a3f5f\"},\"marker\":{\"line\":{\"color\":\"#E5ECF6\",\"width\":0.5},\"pattern\":{\"fillmode\":\"overlay\",\"size\":10,\"solidity\":0.2}},\"type\":\"bar\"}],\"scattergeo\":[{\"type\":\"scattergeo\",\"marker\":{\"colorbar\":{\"outlinewidth\":0,\"ticks\":\"\"}}}],\"scatterpolar\":[{\"type\":\"scatterpolar\",\"marker\":{\"colorbar\":{\"outlinewidth\":0,\"ticks\":\"\"}}}],\"histogram\":[{\"marker\":{\"pattern\":{\"fillmode\":\"overlay\",\"size\":10,\"solidity\":0.2}},\"type\":\"histogram\"}],\"scattergl\":[{\"type\":\"scattergl\",\"marker\":{\"colorbar\":{\"outlinewidth\":0,\"ticks\":\"\"}}}],\"scatter3d\":[{\"type\":\"scatter3d\",\"line\":{\"colorbar\":{\"outlinewidth\":0,\"ticks\":\"\"}},\"marker\":{\"colorbar\":{\"outlinewidth\":0,\"ticks\":\"\"}}}],\"scattermapbox\":[{\"type\":\"scattermapbox\",\"marker\":{\"colorbar\":{\"outlinewidth\":0,\"ticks\":\"\"}}}],\"scatterternary\":[{\"type\":\"scatterternary\",\"marker\":{\"colorbar\":{\"outlinewidth\":0,\"ticks\":\"\"}}}],\"scattercarpet\":[{\"type\":\"scattercarpet\",\"marker\":{\"colorbar\":{\"outlinewidth\":0,\"ticks\":\"\"}}}],\"carpet\":[{\"aaxis\":{\"endlinecolor\":\"#2a3f5f\",\"gridcolor\":\"white\",\"linecolor\":\"white\",\"minorgridcolor\":\"white\",\"startlinecolor\":\"#2a3f5f\"},\"baxis\":{\"endlinecolor\":\"#2a3f5f\",\"gridcolor\":\"white\",\"linecolor\":\"white\",\"minorgridcolor\":\"white\",\"startlinecolor\":\"#2a3f5f\"},\"type\":\"carpet\"}],\"table\":[{\"cells\":{\"fill\":{\"color\":\"#EBF0F8\"},\"line\":{\"color\":\"white\"}},\"header\":{\"fill\":{\"color\":\"#C8D4E3\"},\"line\":{\"color\":\"white\"}},\"type\":\"table\"}],\"barpolar\":[{\"marker\":{\"line\":{\"color\":\"#E5ECF6\",\"width\":0.5},\"pattern\":{\"fillmode\":\"overlay\",\"size\":10,\"solidity\":0.2}},\"type\":\"barpolar\"}],\"pie\":[{\"automargin\":true,\"type\":\"pie\"}]},\"layout\":{\"autotypenumbers\":\"strict\",\"colorway\":[\"#636efa\",\"#EF553B\",\"#00cc96\",\"#ab63fa\",\"#FFA15A\",\"#19d3f3\",\"#FF6692\",\"#B6E880\",\"#FF97FF\",\"#FECB52\"],\"font\":{\"color\":\"#2a3f5f\"},\"hovermode\":\"closest\",\"hoverlabel\":{\"align\":\"left\"},\"paper_bgcolor\":\"white\",\"plot_bgcolor\":\"#E5ECF6\",\"polar\":{\"bgcolor\":\"#E5ECF6\",\"angularaxis\":{\"gridcolor\":\"white\",\"linecolor\":\"white\",\"ticks\":\"\"},\"radialaxis\":{\"gridcolor\":\"white\",\"linecolor\":\"white\",\"ticks\":\"\"}},\"ternary\":{\"bgcolor\":\"#E5ECF6\",\"aaxis\":{\"gridcolor\":\"white\",\"linecolor\":\"white\",\"ticks\":\"\"},\"baxis\":{\"gridcolor\":\"white\",\"linecolor\":\"white\",\"ticks\":\"\"},\"caxis\":{\"gridcolor\":\"white\",\"linecolor\":\"white\",\"ticks\":\"\"}},\"coloraxis\":{\"colorbar\":{\"outlinewidth\":0,\"ticks\":\"\"}},\"colorscale\":{\"sequential\":[[0.0,\"#0d0887\"],[0.1111111111111111,\"#46039f\"],[0.2222222222222222,\"#7201a8\"],[0.3333333333333333,\"#9c179e\"],[0.4444444444444444,\"#bd3786\"],[0.5555555555555556,\"#d8576b\"],[0.6666666666666666,\"#ed7953\"],[0.7777777777777778,\"#fb9f3a\"],[0.8888888888888888,\"#fdca26\"],[1.0,\"#f0f921\"]],\"sequentialminus\":[[0.0,\"#0d0887\"],[0.1111111111111111,\"#46039f\"],[0.2222222222222222,\"#7201a8\"],[0.3333333333333333,\"#9c179e\"],[0.4444444444444444,\"#bd3786\"],[0.5555555555555556,\"#d8576b\"],[0.6666666666666666,\"#ed7953\"],[0.7777777777777778,\"#fb9f3a\"],[0.8888888888888888,\"#fdca26\"],[1.0,\"#f0f921\"]],\"diverging\":[[0,\"#8e0152\"],[0.1,\"#c51b7d\"],[0.2,\"#de77ae\"],[0.3,\"#f1b6da\"],[0.4,\"#fde0ef\"],[0.5,\"#f7f7f7\"],[0.6,\"#e6f5d0\"],[0.7,\"#b8e186\"],[0.8,\"#7fbc41\"],[0.9,\"#4d9221\"],[1,\"#276419\"]]},\"xaxis\":{\"gridcolor\":\"white\",\"linecolor\":\"white\",\"ticks\":\"\",\"title\":{\"standoff\":15},\"zerolinecolor\":\"white\",\"automargin\":true,\"zerolinewidth\":2},\"yaxis\":{\"gridcolor\":\"white\",\"linecolor\":\"white\",\"ticks\":\"\",\"title\":{\"standoff\":15},\"zerolinecolor\":\"white\",\"automargin\":true,\"zerolinewidth\":2},\"scene\":{\"xaxis\":{\"backgroundcolor\":\"#E5ECF6\",\"gridcolor\":\"white\",\"linecolor\":\"white\",\"showbackground\":true,\"ticks\":\"\",\"zerolinecolor\":\"white\",\"gridwidth\":2},\"yaxis\":{\"backgroundcolor\":\"#E5ECF6\",\"gridcolor\":\"white\",\"linecolor\":\"white\",\"showbackground\":true,\"ticks\":\"\",\"zerolinecolor\":\"white\",\"gridwidth\":2},\"zaxis\":{\"backgroundcolor\":\"#E5ECF6\",\"gridcolor\":\"white\",\"linecolor\":\"white\",\"showbackground\":true,\"ticks\":\"\",\"zerolinecolor\":\"white\",\"gridwidth\":2}},\"shapedefaults\":{\"line\":{\"color\":\"#2a3f5f\"}},\"annotationdefaults\":{\"arrowcolor\":\"#2a3f5f\",\"arrowhead\":0,\"arrowwidth\":1},\"geo\":{\"bgcolor\":\"white\",\"landcolor\":\"#E5ECF6\",\"subunitcolor\":\"white\",\"showland\":true,\"showlakes\":true,\"lakecolor\":\"white\"},\"title\":{\"x\":0.05},\"mapbox\":{\"style\":\"light\"}}},\"xaxis\":{\"anchor\":\"y\",\"domain\":[0.0,1.0],\"title\":{\"text\":\"Cat\\u00e9gorie_G\\u00e9n\\u00e9rale\"}},\"yaxis\":{\"anchor\":\"x\",\"domain\":[0.0,1.0],\"title\":{\"text\":\"count\"}},\"legend\":{\"tracegroupgap\":0},\"title\":{\"text\":\"D\\u00e9compte des cat\\u00e9gories\"},\"barmode\":\"relative\"},                        {\"responsive\": true}                    ).then(function(){\n",
              "                            \n",
              "var gd = document.getElementById('18ed7f23-2ba2-48db-a945-64c5e0c828ef');\n",
              "var x = new MutationObserver(function (mutations, observer) {{\n",
              "        var display = window.getComputedStyle(gd).display;\n",
              "        if (!display || display === 'none') {{\n",
              "            console.log([gd, 'removed!']);\n",
              "            Plotly.purge(gd);\n",
              "            observer.disconnect();\n",
              "        }}\n",
              "}});\n",
              "\n",
              "// Listen for the removal of the full notebook cells\n",
              "var notebookContainer = gd.closest('#notebook-container');\n",
              "if (notebookContainer) {{\n",
              "    x.observe(notebookContainer, {childList: true});\n",
              "}}\n",
              "\n",
              "// Listen for the clearing of the current output cell\n",
              "var outputEl = gd.closest('.output');\n",
              "if (outputEl) {{\n",
              "    x.observe(outputEl, {childList: true});\n",
              "}}\n",
              "\n",
              "                        })                };                            </script>        </div>\n",
              "</body>\n",
              "</html>"
            ]
          },
          "metadata": {},
          "output_type": "display_data"
        }
      ],
      "source": [
        "import plotly.express as px\n",
        "\n",
        "data = df_final.groupBy(\"Catégorie_Générale\").count().toPandas()\n",
        "\n",
        "fig = px.bar(data, x=\"Catégorie_Générale\", y=\"count\", title=\"Décompte des catégories\")\n",
        "fig.show()\n"
      ]
    },
    {
      "cell_type": "markdown",
      "metadata": {
        "id": "BJOdklZhgNBh"
      },
      "source": [
        "######<font color='Orange'> Fréquence de chaque type dans notre base"
      ]
    },
    {
      "cell_type": "code",
      "execution_count": null,
      "metadata": {
        "colab": {
          "base_uri": "https://localhost:8080/"
        },
        "id": "KxCddaAunCK8",
        "outputId": "871027ce-d046-4ae2-cc9e-2e154f725c54"
      },
      "outputs": [
        {
          "name": "stdout",
          "output_type": "stream",
          "text": [
            "+------------------+---------+\n",
            "|Unique_Word       |Frequency|\n",
            "+------------------+---------+\n",
            "|Judiciaire        |1        |\n",
            "|Romance           |14       |\n",
            "|Thriller          |18       |\n",
            "|Famille           |7        |\n",
            "|Historique        |10       |\n",
            "|Comédie           |23       |\n",
            "|Epouvante-horreur |1        |\n",
            "|Aventure          |11       |\n",
            "|Fantastique       |7        |\n",
            "|Comédie dramatique|10       |\n",
            "|Policier          |11       |\n",
            "|Musical           |2        |\n",
            "|Animation         |15       |\n",
            "|Biopic            |12       |\n",
            "|Science Fiction   |2        |\n",
            "|Guerre            |4        |\n",
            "|Drame             |98       |\n",
            "|Évènement Sportif |1        |\n",
            "|Action            |13       |\n",
            "+------------------+---------+\n",
            "\n"
          ]
        }
      ],
      "source": [
        "from pyspark.sql.functions import split, explode, col, count\n",
        "\n",
        "# Diviser la colonne \"Types\" en mots et utiliser explode pour obtenir un mot par ligne\n",
        "unique_words = df_final.select(explode(split(col(\"Types\"), \", \")).alias(\"Unique_Word\"))\n",
        "\n",
        "# Grouper par le mot unique et compter la fréquence\n",
        "word_frequencies = unique_words.groupBy(\"Unique_Word\").agg(count(\"*\").alias(\"Frequency\"))\n",
        "\n",
        "# Afficher les mots uniques avec leur fréquence\n",
        "word_frequencies.show(truncate=False)"
      ]
    },
    {
      "cell_type": "markdown",
      "metadata": {
        "id": "ADBZpzZMgiSL"
      },
      "source": [
        "######<font color='orange'>Occurrences des catégories générales par Type 1"
      ]
    },
    {
      "cell_type": "code",
      "execution_count": null,
      "metadata": {
        "colab": {
          "base_uri": "https://localhost:8080/"
        },
        "id": "sZE-TgR1qk7e",
        "outputId": "0ec8418e-11d4-4e33-b79c-c64e3adf6669"
      },
      "outputs": [
        {
          "name": "stdout",
          "output_type": "stream",
          "text": [
            "+------------------+------------------+-----+\n",
            "|            Type_1|Catégorie_Générale|count|\n",
            "+------------------+------------------+-----+\n",
            "|            Action|              Bien|    2|\n",
            "|            Action|             Moyen|    3|\n",
            "|         Animation|              Bien|    6|\n",
            "|         Animation|             Moyen|    9|\n",
            "|          Aventure|             Moyen|    1|\n",
            "|          Aventure|             faibe|    1|\n",
            "|            Biopic|             Moyen|    6|\n",
            "|            Biopic|              Bien|    2|\n",
            "|           Comédie|             Moyen|    7|\n",
            "|           Comédie|              Bien|    1|\n",
            "|           Comédie|             faibe|    1|\n",
            "|Comédie dramatique|             faibe|    1|\n",
            "|Comédie dramatique|             Moyen|    9|\n",
            "|             Drame|             Moyen|   55|\n",
            "|             Drame|             faibe|    5|\n",
            "|             Drame|              Bien|    6|\n",
            "|       Fantastique|             Moyen|    1|\n",
            "|            Guerre|             Moyen|    1|\n",
            "|        Historique|             faibe|    2|\n",
            "|        Historique|             Moyen|    2|\n",
            "+------------------+------------------+-----+\n",
            "only showing top 20 rows\n",
            "\n"
          ]
        }
      ],
      "source": [
        "from pyspark.sql.functions import col\n",
        "\n",
        "# Regrouper par Type_1 et Catégorie_Générale et compter le nombre d'occurrences\n",
        "occurrences = df_final.groupBy(\"Type_1\", \"Catégorie_Générale\").count().orderBy(\"Type_1\")\n",
        "\n",
        "# Afficher le résultat\n",
        "occurrences.show()\n"
      ]
    },
    {
      "cell_type": "code",
      "execution_count": null,
      "metadata": {
        "colab": {
          "base_uri": "https://localhost:8080/",
          "height": 542
        },
        "id": "ibsBZq02rCyY",
        "outputId": "e8c6c0c1-f2f9-4b94-fe40-0523d3bf824f"
      },
      "outputs": [
        {
          "data": {
            "text/html": [
              "<html>\n",
              "<head><meta charset=\"utf-8\" /></head>\n",
              "<body>\n",
              "    <div>            <script src=\"https://cdnjs.cloudflare.com/ajax/libs/mathjax/2.7.5/MathJax.js?config=TeX-AMS-MML_SVG\"></script><script type=\"text/javascript\">if (window.MathJax && window.MathJax.Hub && window.MathJax.Hub.Config) {window.MathJax.Hub.Config({SVG: {font: \"STIX-Web\"}});}</script>                <script type=\"text/javascript\">window.PlotlyConfig = {MathJaxConfig: 'local'};</script>\n",
              "        <script charset=\"utf-8\" src=\"https://cdn.plot.ly/plotly-2.24.1.min.js\"></script>                <div id=\"bb23832d-fd1e-437c-863c-1fcc00eef6b6\" class=\"plotly-graph-div\" style=\"height:525px; width:100%;\"></div>            <script type=\"text/javascript\">                                    window.PLOTLYENV=window.PLOTLYENV || {};                                    if (document.getElementById(\"bb23832d-fd1e-437c-863c-1fcc00eef6b6\")) {                    Plotly.newPlot(                        \"bb23832d-fd1e-437c-863c-1fcc00eef6b6\",                        [{\"alignmentgroup\":\"True\",\"hovertemplate\":\"Type_1=Action\\u003cbr\\u003eCat\\u00e9gorie G\\u00e9n\\u00e9rale=%{x}\\u003cbr\\u003eNombre d'occurrences=%{y}\\u003cextra\\u003e\\u003c\\u002fextra\\u003e\",\"legendgroup\":\"Action\",\"marker\":{\"color\":\"#636efa\",\"pattern\":{\"shape\":\"\"}},\"name\":\"Action\",\"offsetgroup\":\"Action\",\"orientation\":\"v\",\"showlegend\":true,\"textposition\":\"auto\",\"x\":[\"Bien\",\"Moyen\"],\"xaxis\":\"x\",\"y\":[2,3],\"yaxis\":\"y\",\"type\":\"bar\"},{\"alignmentgroup\":\"True\",\"hovertemplate\":\"Type_1=Animation\\u003cbr\\u003eCat\\u00e9gorie G\\u00e9n\\u00e9rale=%{x}\\u003cbr\\u003eNombre d'occurrences=%{y}\\u003cextra\\u003e\\u003c\\u002fextra\\u003e\",\"legendgroup\":\"Animation\",\"marker\":{\"color\":\"#EF553B\",\"pattern\":{\"shape\":\"\"}},\"name\":\"Animation\",\"offsetgroup\":\"Animation\",\"orientation\":\"v\",\"showlegend\":true,\"textposition\":\"auto\",\"x\":[\"Bien\",\"Moyen\"],\"xaxis\":\"x\",\"y\":[6,9],\"yaxis\":\"y\",\"type\":\"bar\"},{\"alignmentgroup\":\"True\",\"hovertemplate\":\"Type_1=Aventure\\u003cbr\\u003eCat\\u00e9gorie G\\u00e9n\\u00e9rale=%{x}\\u003cbr\\u003eNombre d'occurrences=%{y}\\u003cextra\\u003e\\u003c\\u002fextra\\u003e\",\"legendgroup\":\"Aventure\",\"marker\":{\"color\":\"#00cc96\",\"pattern\":{\"shape\":\"\"}},\"name\":\"Aventure\",\"offsetgroup\":\"Aventure\",\"orientation\":\"v\",\"showlegend\":true,\"textposition\":\"auto\",\"x\":[\"Moyen\",\"faibe\"],\"xaxis\":\"x\",\"y\":[1,1],\"yaxis\":\"y\",\"type\":\"bar\"},{\"alignmentgroup\":\"True\",\"hovertemplate\":\"Type_1=Biopic\\u003cbr\\u003eCat\\u00e9gorie G\\u00e9n\\u00e9rale=%{x}\\u003cbr\\u003eNombre d'occurrences=%{y}\\u003cextra\\u003e\\u003c\\u002fextra\\u003e\",\"legendgroup\":\"Biopic\",\"marker\":{\"color\":\"#ab63fa\",\"pattern\":{\"shape\":\"\"}},\"name\":\"Biopic\",\"offsetgroup\":\"Biopic\",\"orientation\":\"v\",\"showlegend\":true,\"textposition\":\"auto\",\"x\":[\"Moyen\",\"Bien\"],\"xaxis\":\"x\",\"y\":[6,2],\"yaxis\":\"y\",\"type\":\"bar\"},{\"alignmentgroup\":\"True\",\"hovertemplate\":\"Type_1=Com\\u00e9die\\u003cbr\\u003eCat\\u00e9gorie G\\u00e9n\\u00e9rale=%{x}\\u003cbr\\u003eNombre d'occurrences=%{y}\\u003cextra\\u003e\\u003c\\u002fextra\\u003e\",\"legendgroup\":\"Com\\u00e9die\",\"marker\":{\"color\":\"#FFA15A\",\"pattern\":{\"shape\":\"\"}},\"name\":\"Com\\u00e9die\",\"offsetgroup\":\"Com\\u00e9die\",\"orientation\":\"v\",\"showlegend\":true,\"textposition\":\"auto\",\"x\":[\"Moyen\",\"Bien\",\"faibe\"],\"xaxis\":\"x\",\"y\":[7,1,1],\"yaxis\":\"y\",\"type\":\"bar\"},{\"alignmentgroup\":\"True\",\"hovertemplate\":\"Type_1=Com\\u00e9die dramatique\\u003cbr\\u003eCat\\u00e9gorie G\\u00e9n\\u00e9rale=%{x}\\u003cbr\\u003eNombre d'occurrences=%{y}\\u003cextra\\u003e\\u003c\\u002fextra\\u003e\",\"legendgroup\":\"Com\\u00e9die dramatique\",\"marker\":{\"color\":\"#19d3f3\",\"pattern\":{\"shape\":\"\"}},\"name\":\"Com\\u00e9die dramatique\",\"offsetgroup\":\"Com\\u00e9die dramatique\",\"orientation\":\"v\",\"showlegend\":true,\"textposition\":\"auto\",\"x\":[\"faibe\",\"Moyen\"],\"xaxis\":\"x\",\"y\":[1,9],\"yaxis\":\"y\",\"type\":\"bar\"},{\"alignmentgroup\":\"True\",\"hovertemplate\":\"Type_1=Drame\\u003cbr\\u003eCat\\u00e9gorie G\\u00e9n\\u00e9rale=%{x}\\u003cbr\\u003eNombre d'occurrences=%{y}\\u003cextra\\u003e\\u003c\\u002fextra\\u003e\",\"legendgroup\":\"Drame\",\"marker\":{\"color\":\"#FF6692\",\"pattern\":{\"shape\":\"\"}},\"name\":\"Drame\",\"offsetgroup\":\"Drame\",\"orientation\":\"v\",\"showlegend\":true,\"textposition\":\"auto\",\"x\":[\"Moyen\",\"faibe\",\"Bien\"],\"xaxis\":\"x\",\"y\":[55,5,6],\"yaxis\":\"y\",\"type\":\"bar\"},{\"alignmentgroup\":\"True\",\"hovertemplate\":\"Type_1=Fantastique\\u003cbr\\u003eCat\\u00e9gorie G\\u00e9n\\u00e9rale=%{x}\\u003cbr\\u003eNombre d'occurrences=%{y}\\u003cextra\\u003e\\u003c\\u002fextra\\u003e\",\"legendgroup\":\"Fantastique\",\"marker\":{\"color\":\"#B6E880\",\"pattern\":{\"shape\":\"\"}},\"name\":\"Fantastique\",\"offsetgroup\":\"Fantastique\",\"orientation\":\"v\",\"showlegend\":true,\"textposition\":\"auto\",\"x\":[\"Moyen\"],\"xaxis\":\"x\",\"y\":[1],\"yaxis\":\"y\",\"type\":\"bar\"},{\"alignmentgroup\":\"True\",\"hovertemplate\":\"Type_1=Guerre\\u003cbr\\u003eCat\\u00e9gorie G\\u00e9n\\u00e9rale=%{x}\\u003cbr\\u003eNombre d'occurrences=%{y}\\u003cextra\\u003e\\u003c\\u002fextra\\u003e\",\"legendgroup\":\"Guerre\",\"marker\":{\"color\":\"#FF97FF\",\"pattern\":{\"shape\":\"\"}},\"name\":\"Guerre\",\"offsetgroup\":\"Guerre\",\"orientation\":\"v\",\"showlegend\":true,\"textposition\":\"auto\",\"x\":[\"Moyen\"],\"xaxis\":\"x\",\"y\":[1],\"yaxis\":\"y\",\"type\":\"bar\"},{\"alignmentgroup\":\"True\",\"hovertemplate\":\"Type_1=Historique\\u003cbr\\u003eCat\\u00e9gorie G\\u00e9n\\u00e9rale=%{x}\\u003cbr\\u003eNombre d'occurrences=%{y}\\u003cextra\\u003e\\u003c\\u002fextra\\u003e\",\"legendgroup\":\"Historique\",\"marker\":{\"color\":\"#FECB52\",\"pattern\":{\"shape\":\"\"}},\"name\":\"Historique\",\"offsetgroup\":\"Historique\",\"orientation\":\"v\",\"showlegend\":true,\"textposition\":\"auto\",\"x\":[\"faibe\",\"Moyen\",\"Bien\"],\"xaxis\":\"x\",\"y\":[2,2,1],\"yaxis\":\"y\",\"type\":\"bar\"},{\"alignmentgroup\":\"True\",\"hovertemplate\":\"Type_1=Policier\\u003cbr\\u003eCat\\u00e9gorie G\\u00e9n\\u00e9rale=%{x}\\u003cbr\\u003eNombre d'occurrences=%{y}\\u003cextra\\u003e\\u003c\\u002fextra\\u003e\",\"legendgroup\":\"Policier\",\"marker\":{\"color\":\"#636efa\",\"pattern\":{\"shape\":\"\"}},\"name\":\"Policier\",\"offsetgroup\":\"Policier\",\"orientation\":\"v\",\"showlegend\":true,\"textposition\":\"auto\",\"x\":[\"Moyen\"],\"xaxis\":\"x\",\"y\":[1],\"yaxis\":\"y\",\"type\":\"bar\"},{\"alignmentgroup\":\"True\",\"hovertemplate\":\"Type_1=Romance\\u003cbr\\u003eCat\\u00e9gorie G\\u00e9n\\u00e9rale=%{x}\\u003cbr\\u003eNombre d'occurrences=%{y}\\u003cextra\\u003e\\u003c\\u002fextra\\u003e\",\"legendgroup\":\"Romance\",\"marker\":{\"color\":\"#EF553B\",\"pattern\":{\"shape\":\"\"}},\"name\":\"Romance\",\"offsetgroup\":\"Romance\",\"orientation\":\"v\",\"showlegend\":true,\"textposition\":\"auto\",\"x\":[\"Moyen\"],\"xaxis\":\"x\",\"y\":[4],\"yaxis\":\"y\",\"type\":\"bar\"},{\"alignmentgroup\":\"True\",\"hovertemplate\":\"Type_1=Science Fiction\\u003cbr\\u003eCat\\u00e9gorie G\\u00e9n\\u00e9rale=%{x}\\u003cbr\\u003eNombre d'occurrences=%{y}\\u003cextra\\u003e\\u003c\\u002fextra\\u003e\",\"legendgroup\":\"Science Fiction\",\"marker\":{\"color\":\"#00cc96\",\"pattern\":{\"shape\":\"\"}},\"name\":\"Science Fiction\",\"offsetgroup\":\"Science Fiction\",\"orientation\":\"v\",\"showlegend\":true,\"textposition\":\"auto\",\"x\":[\"Moyen\",\"Bien\"],\"xaxis\":\"x\",\"y\":[1,1],\"yaxis\":\"y\",\"type\":\"bar\"},{\"alignmentgroup\":\"True\",\"hovertemplate\":\"Type_1=Thriller\\u003cbr\\u003eCat\\u00e9gorie G\\u00e9n\\u00e9rale=%{x}\\u003cbr\\u003eNombre d'occurrences=%{y}\\u003cextra\\u003e\\u003c\\u002fextra\\u003e\",\"legendgroup\":\"Thriller\",\"marker\":{\"color\":\"#ab63fa\",\"pattern\":{\"shape\":\"\"}},\"name\":\"Thriller\",\"offsetgroup\":\"Thriller\",\"orientation\":\"v\",\"showlegend\":true,\"textposition\":\"auto\",\"x\":[\"Bien\",\"Moyen\"],\"xaxis\":\"x\",\"y\":[2,8],\"yaxis\":\"y\",\"type\":\"bar\"}],                        {\"template\":{\"data\":{\"histogram2dcontour\":[{\"type\":\"histogram2dcontour\",\"colorbar\":{\"outlinewidth\":0,\"ticks\":\"\"},\"colorscale\":[[0.0,\"#0d0887\"],[0.1111111111111111,\"#46039f\"],[0.2222222222222222,\"#7201a8\"],[0.3333333333333333,\"#9c179e\"],[0.4444444444444444,\"#bd3786\"],[0.5555555555555556,\"#d8576b\"],[0.6666666666666666,\"#ed7953\"],[0.7777777777777778,\"#fb9f3a\"],[0.8888888888888888,\"#fdca26\"],[1.0,\"#f0f921\"]]}],\"choropleth\":[{\"type\":\"choropleth\",\"colorbar\":{\"outlinewidth\":0,\"ticks\":\"\"}}],\"histogram2d\":[{\"type\":\"histogram2d\",\"colorbar\":{\"outlinewidth\":0,\"ticks\":\"\"},\"colorscale\":[[0.0,\"#0d0887\"],[0.1111111111111111,\"#46039f\"],[0.2222222222222222,\"#7201a8\"],[0.3333333333333333,\"#9c179e\"],[0.4444444444444444,\"#bd3786\"],[0.5555555555555556,\"#d8576b\"],[0.6666666666666666,\"#ed7953\"],[0.7777777777777778,\"#fb9f3a\"],[0.8888888888888888,\"#fdca26\"],[1.0,\"#f0f921\"]]}],\"heatmap\":[{\"type\":\"heatmap\",\"colorbar\":{\"outlinewidth\":0,\"ticks\":\"\"},\"colorscale\":[[0.0,\"#0d0887\"],[0.1111111111111111,\"#46039f\"],[0.2222222222222222,\"#7201a8\"],[0.3333333333333333,\"#9c179e\"],[0.4444444444444444,\"#bd3786\"],[0.5555555555555556,\"#d8576b\"],[0.6666666666666666,\"#ed7953\"],[0.7777777777777778,\"#fb9f3a\"],[0.8888888888888888,\"#fdca26\"],[1.0,\"#f0f921\"]]}],\"heatmapgl\":[{\"type\":\"heatmapgl\",\"colorbar\":{\"outlinewidth\":0,\"ticks\":\"\"},\"colorscale\":[[0.0,\"#0d0887\"],[0.1111111111111111,\"#46039f\"],[0.2222222222222222,\"#7201a8\"],[0.3333333333333333,\"#9c179e\"],[0.4444444444444444,\"#bd3786\"],[0.5555555555555556,\"#d8576b\"],[0.6666666666666666,\"#ed7953\"],[0.7777777777777778,\"#fb9f3a\"],[0.8888888888888888,\"#fdca26\"],[1.0,\"#f0f921\"]]}],\"contourcarpet\":[{\"type\":\"contourcarpet\",\"colorbar\":{\"outlinewidth\":0,\"ticks\":\"\"}}],\"contour\":[{\"type\":\"contour\",\"colorbar\":{\"outlinewidth\":0,\"ticks\":\"\"},\"colorscale\":[[0.0,\"#0d0887\"],[0.1111111111111111,\"#46039f\"],[0.2222222222222222,\"#7201a8\"],[0.3333333333333333,\"#9c179e\"],[0.4444444444444444,\"#bd3786\"],[0.5555555555555556,\"#d8576b\"],[0.6666666666666666,\"#ed7953\"],[0.7777777777777778,\"#fb9f3a\"],[0.8888888888888888,\"#fdca26\"],[1.0,\"#f0f921\"]]}],\"surface\":[{\"type\":\"surface\",\"colorbar\":{\"outlinewidth\":0,\"ticks\":\"\"},\"colorscale\":[[0.0,\"#0d0887\"],[0.1111111111111111,\"#46039f\"],[0.2222222222222222,\"#7201a8\"],[0.3333333333333333,\"#9c179e\"],[0.4444444444444444,\"#bd3786\"],[0.5555555555555556,\"#d8576b\"],[0.6666666666666666,\"#ed7953\"],[0.7777777777777778,\"#fb9f3a\"],[0.8888888888888888,\"#fdca26\"],[1.0,\"#f0f921\"]]}],\"mesh3d\":[{\"type\":\"mesh3d\",\"colorbar\":{\"outlinewidth\":0,\"ticks\":\"\"}}],\"scatter\":[{\"fillpattern\":{\"fillmode\":\"overlay\",\"size\":10,\"solidity\":0.2},\"type\":\"scatter\"}],\"parcoords\":[{\"type\":\"parcoords\",\"line\":{\"colorbar\":{\"outlinewidth\":0,\"ticks\":\"\"}}}],\"scatterpolargl\":[{\"type\":\"scatterpolargl\",\"marker\":{\"colorbar\":{\"outlinewidth\":0,\"ticks\":\"\"}}}],\"bar\":[{\"error_x\":{\"color\":\"#2a3f5f\"},\"error_y\":{\"color\":\"#2a3f5f\"},\"marker\":{\"line\":{\"color\":\"#E5ECF6\",\"width\":0.5},\"pattern\":{\"fillmode\":\"overlay\",\"size\":10,\"solidity\":0.2}},\"type\":\"bar\"}],\"scattergeo\":[{\"type\":\"scattergeo\",\"marker\":{\"colorbar\":{\"outlinewidth\":0,\"ticks\":\"\"}}}],\"scatterpolar\":[{\"type\":\"scatterpolar\",\"marker\":{\"colorbar\":{\"outlinewidth\":0,\"ticks\":\"\"}}}],\"histogram\":[{\"marker\":{\"pattern\":{\"fillmode\":\"overlay\",\"size\":10,\"solidity\":0.2}},\"type\":\"histogram\"}],\"scattergl\":[{\"type\":\"scattergl\",\"marker\":{\"colorbar\":{\"outlinewidth\":0,\"ticks\":\"\"}}}],\"scatter3d\":[{\"type\":\"scatter3d\",\"line\":{\"colorbar\":{\"outlinewidth\":0,\"ticks\":\"\"}},\"marker\":{\"colorbar\":{\"outlinewidth\":0,\"ticks\":\"\"}}}],\"scattermapbox\":[{\"type\":\"scattermapbox\",\"marker\":{\"colorbar\":{\"outlinewidth\":0,\"ticks\":\"\"}}}],\"scatterternary\":[{\"type\":\"scatterternary\",\"marker\":{\"colorbar\":{\"outlinewidth\":0,\"ticks\":\"\"}}}],\"scattercarpet\":[{\"type\":\"scattercarpet\",\"marker\":{\"colorbar\":{\"outlinewidth\":0,\"ticks\":\"\"}}}],\"carpet\":[{\"aaxis\":{\"endlinecolor\":\"#2a3f5f\",\"gridcolor\":\"white\",\"linecolor\":\"white\",\"minorgridcolor\":\"white\",\"startlinecolor\":\"#2a3f5f\"},\"baxis\":{\"endlinecolor\":\"#2a3f5f\",\"gridcolor\":\"white\",\"linecolor\":\"white\",\"minorgridcolor\":\"white\",\"startlinecolor\":\"#2a3f5f\"},\"type\":\"carpet\"}],\"table\":[{\"cells\":{\"fill\":{\"color\":\"#EBF0F8\"},\"line\":{\"color\":\"white\"}},\"header\":{\"fill\":{\"color\":\"#C8D4E3\"},\"line\":{\"color\":\"white\"}},\"type\":\"table\"}],\"barpolar\":[{\"marker\":{\"line\":{\"color\":\"#E5ECF6\",\"width\":0.5},\"pattern\":{\"fillmode\":\"overlay\",\"size\":10,\"solidity\":0.2}},\"type\":\"barpolar\"}],\"pie\":[{\"automargin\":true,\"type\":\"pie\"}]},\"layout\":{\"autotypenumbers\":\"strict\",\"colorway\":[\"#636efa\",\"#EF553B\",\"#00cc96\",\"#ab63fa\",\"#FFA15A\",\"#19d3f3\",\"#FF6692\",\"#B6E880\",\"#FF97FF\",\"#FECB52\"],\"font\":{\"color\":\"#2a3f5f\"},\"hovermode\":\"closest\",\"hoverlabel\":{\"align\":\"left\"},\"paper_bgcolor\":\"white\",\"plot_bgcolor\":\"#E5ECF6\",\"polar\":{\"bgcolor\":\"#E5ECF6\",\"angularaxis\":{\"gridcolor\":\"white\",\"linecolor\":\"white\",\"ticks\":\"\"},\"radialaxis\":{\"gridcolor\":\"white\",\"linecolor\":\"white\",\"ticks\":\"\"}},\"ternary\":{\"bgcolor\":\"#E5ECF6\",\"aaxis\":{\"gridcolor\":\"white\",\"linecolor\":\"white\",\"ticks\":\"\"},\"baxis\":{\"gridcolor\":\"white\",\"linecolor\":\"white\",\"ticks\":\"\"},\"caxis\":{\"gridcolor\":\"white\",\"linecolor\":\"white\",\"ticks\":\"\"}},\"coloraxis\":{\"colorbar\":{\"outlinewidth\":0,\"ticks\":\"\"}},\"colorscale\":{\"sequential\":[[0.0,\"#0d0887\"],[0.1111111111111111,\"#46039f\"],[0.2222222222222222,\"#7201a8\"],[0.3333333333333333,\"#9c179e\"],[0.4444444444444444,\"#bd3786\"],[0.5555555555555556,\"#d8576b\"],[0.6666666666666666,\"#ed7953\"],[0.7777777777777778,\"#fb9f3a\"],[0.8888888888888888,\"#fdca26\"],[1.0,\"#f0f921\"]],\"sequentialminus\":[[0.0,\"#0d0887\"],[0.1111111111111111,\"#46039f\"],[0.2222222222222222,\"#7201a8\"],[0.3333333333333333,\"#9c179e\"],[0.4444444444444444,\"#bd3786\"],[0.5555555555555556,\"#d8576b\"],[0.6666666666666666,\"#ed7953\"],[0.7777777777777778,\"#fb9f3a\"],[0.8888888888888888,\"#fdca26\"],[1.0,\"#f0f921\"]],\"diverging\":[[0,\"#8e0152\"],[0.1,\"#c51b7d\"],[0.2,\"#de77ae\"],[0.3,\"#f1b6da\"],[0.4,\"#fde0ef\"],[0.5,\"#f7f7f7\"],[0.6,\"#e6f5d0\"],[0.7,\"#b8e186\"],[0.8,\"#7fbc41\"],[0.9,\"#4d9221\"],[1,\"#276419\"]]},\"xaxis\":{\"gridcolor\":\"white\",\"linecolor\":\"white\",\"ticks\":\"\",\"title\":{\"standoff\":15},\"zerolinecolor\":\"white\",\"automargin\":true,\"zerolinewidth\":2},\"yaxis\":{\"gridcolor\":\"white\",\"linecolor\":\"white\",\"ticks\":\"\",\"title\":{\"standoff\":15},\"zerolinecolor\":\"white\",\"automargin\":true,\"zerolinewidth\":2},\"scene\":{\"xaxis\":{\"backgroundcolor\":\"#E5ECF6\",\"gridcolor\":\"white\",\"linecolor\":\"white\",\"showbackground\":true,\"ticks\":\"\",\"zerolinecolor\":\"white\",\"gridwidth\":2},\"yaxis\":{\"backgroundcolor\":\"#E5ECF6\",\"gridcolor\":\"white\",\"linecolor\":\"white\",\"showbackground\":true,\"ticks\":\"\",\"zerolinecolor\":\"white\",\"gridwidth\":2},\"zaxis\":{\"backgroundcolor\":\"#E5ECF6\",\"gridcolor\":\"white\",\"linecolor\":\"white\",\"showbackground\":true,\"ticks\":\"\",\"zerolinecolor\":\"white\",\"gridwidth\":2}},\"shapedefaults\":{\"line\":{\"color\":\"#2a3f5f\"}},\"annotationdefaults\":{\"arrowcolor\":\"#2a3f5f\",\"arrowhead\":0,\"arrowwidth\":1},\"geo\":{\"bgcolor\":\"white\",\"landcolor\":\"#E5ECF6\",\"subunitcolor\":\"white\",\"showland\":true,\"showlakes\":true,\"lakecolor\":\"white\"},\"title\":{\"x\":0.05},\"mapbox\":{\"style\":\"light\"}}},\"xaxis\":{\"anchor\":\"y\",\"domain\":[0.0,1.0],\"title\":{\"text\":\"Cat\\u00e9gorie G\\u00e9n\\u00e9rale\"}},\"yaxis\":{\"anchor\":\"x\",\"domain\":[0.0,1.0],\"title\":{\"text\":\"Nombre d'occurrences\"}},\"legend\":{\"title\":{\"text\":\"Type_1\"},\"tracegroupgap\":0},\"title\":{\"text\":\"Occurrences des cat\\u00e9gories g\\u00e9n\\u00e9rales par Type 1\"},\"barmode\":\"group\"},                        {\"responsive\": true}                    ).then(function(){\n",
              "                            \n",
              "var gd = document.getElementById('bb23832d-fd1e-437c-863c-1fcc00eef6b6');\n",
              "var x = new MutationObserver(function (mutations, observer) {{\n",
              "        var display = window.getComputedStyle(gd).display;\n",
              "        if (!display || display === 'none') {{\n",
              "            console.log([gd, 'removed!']);\n",
              "            Plotly.purge(gd);\n",
              "            observer.disconnect();\n",
              "        }}\n",
              "}});\n",
              "\n",
              "// Listen for the removal of the full notebook cells\n",
              "var notebookContainer = gd.closest('#notebook-container');\n",
              "if (notebookContainer) {{\n",
              "    x.observe(notebookContainer, {childList: true});\n",
              "}}\n",
              "\n",
              "// Listen for the clearing of the current output cell\n",
              "var outputEl = gd.closest('.output');\n",
              "if (outputEl) {{\n",
              "    x.observe(outputEl, {childList: true});\n",
              "}}\n",
              "\n",
              "                        })                };                            </script>        </div>\n",
              "</body>\n",
              "</html>"
            ]
          },
          "metadata": {},
          "output_type": "display_data"
        }
      ],
      "source": [
        "import plotly.express as px\n",
        "import pandas as pd\n",
        "\n",
        "# Convertir les données PySpark en DataFrame pandas\n",
        "occurrences_pandas = occurrences.toPandas()\n",
        "\n",
        "# Créer un graphique à barres empilées avec Plotly\n",
        "fig = px.bar(occurrences_pandas, x='Catégorie_Générale', y='count', color='Type_1',\n",
        "             title='Occurrences des catégories générales par Type 1',\n",
        "             labels={'count': 'Nombre d\\'occurrences', 'Catégorie_Générale': 'Catégorie Générale'},\n",
        "             barmode='group')\n",
        "\n",
        "# Afficher le graphique\n",
        "fig.show()\n"
      ]
    },
    {
      "cell_type": "markdown",
      "metadata": {
        "id": "cRXRjJkogxL0"
      },
      "source": [
        "######<font color='orange'>Note Moyenne Par Type1"
      ]
    },
    {
      "cell_type": "code",
      "execution_count": null,
      "metadata": {
        "colab": {
          "base_uri": "https://localhost:8080/"
        },
        "id": "rFDCKyugr6aS",
        "outputId": "2b8032f0-2d14-49d9-94da-5a7a8df493ac"
      },
      "outputs": [
        {
          "name": "stdout",
          "output_type": "stream",
          "text": [
            "+------------------+----------------------+\n",
            "|Type_1            |Note_Moyenne_Par_Type1|\n",
            "+------------------+----------------------+\n",
            "|Romance           |3.8                   |\n",
            "|Thriller          |3.7600000000000002    |\n",
            "|Historique        |3.46                  |\n",
            "|Comédie           |3.466666666666667     |\n",
            "|Aventure          |3.3                   |\n",
            "|Fantastique       |3.4                   |\n",
            "|Comédie dramatique|3.6799999999999997    |\n",
            "|Policier          |3.7                   |\n",
            "|Animation         |3.8266666666666667    |\n",
            "|Biopic            |3.8125                |\n",
            "|Science Fiction   |3.8                   |\n",
            "|Guerre            |3.7                   |\n",
            "|Drame             |3.7106060606060596    |\n",
            "|Action            |3.84                  |\n",
            "+------------------+----------------------+\n",
            "\n"
          ]
        }
      ],
      "source": [
        "from pyspark.sql import functions as F\n",
        "\n",
        "# Supposons que votre DataFrame s'appelle df\n",
        "grouped_df = df_final.groupBy(\"Type_1\").agg(F.avg(\"Note Moyenne\").alias(\"Note_Moyenne_Par_Type1\"))\n",
        "\n",
        "# Afficher le résultat\n",
        "grouped_df.show(truncate=False)"
      ]
    },
    {
      "cell_type": "code",
      "execution_count": null,
      "metadata": {
        "colab": {
          "base_uri": "https://localhost:8080/",
          "height": 542
        },
        "id": "QgWM-OABsJ21",
        "outputId": "27e807a8-0e96-43f4-f44b-8c7dbdd4d1ee"
      },
      "outputs": [
        {
          "data": {
            "text/html": [
              "<html>\n",
              "<head><meta charset=\"utf-8\" /></head>\n",
              "<body>\n",
              "    <div>            <script src=\"https://cdnjs.cloudflare.com/ajax/libs/mathjax/2.7.5/MathJax.js?config=TeX-AMS-MML_SVG\"></script><script type=\"text/javascript\">if (window.MathJax && window.MathJax.Hub && window.MathJax.Hub.Config) {window.MathJax.Hub.Config({SVG: {font: \"STIX-Web\"}});}</script>                <script type=\"text/javascript\">window.PlotlyConfig = {MathJaxConfig: 'local'};</script>\n",
              "        <script charset=\"utf-8\" src=\"https://cdn.plot.ly/plotly-2.24.1.min.js\"></script>                <div id=\"f0040c64-4f3e-4ccb-be93-af69efbefe6c\" class=\"plotly-graph-div\" style=\"height:525px; width:100%;\"></div>            <script type=\"text/javascript\">                                    window.PLOTLYENV=window.PLOTLYENV || {};                                    if (document.getElementById(\"f0040c64-4f3e-4ccb-be93-af69efbefe6c\")) {                    Plotly.newPlot(                        \"f0040c64-4f3e-4ccb-be93-af69efbefe6c\",                        [{\"alignmentgroup\":\"True\",\"hovertemplate\":\"Type 1=%{x}\\u003cbr\\u003eNote Moyenne=%{y}\\u003cextra\\u003e\\u003c\\u002fextra\\u003e\",\"legendgroup\":\"\",\"marker\":{\"color\":\"#636efa\",\"pattern\":{\"shape\":\"\"}},\"name\":\"\",\"offsetgroup\":\"\",\"orientation\":\"v\",\"showlegend\":false,\"textposition\":\"auto\",\"x\":[\"Romance\",\"Thriller\",\"Historique\",\"Com\\u00e9die\",\"Aventure\",\"Fantastique\",\"Com\\u00e9die dramatique\",\"Policier\",\"Animation\",\"Biopic\",\"Science Fiction\",\"Guerre\",\"Drame\",\"Action\"],\"xaxis\":\"x\",\"y\":[3.8,3.7600000000000002,3.46,3.466666666666667,3.3,3.4,3.6799999999999997,3.7,3.8266666666666667,3.8125,3.8,3.7,3.7106060606060596,3.84],\"yaxis\":\"y\",\"type\":\"bar\"}],                        {\"template\":{\"data\":{\"histogram2dcontour\":[{\"type\":\"histogram2dcontour\",\"colorbar\":{\"outlinewidth\":0,\"ticks\":\"\"},\"colorscale\":[[0.0,\"#0d0887\"],[0.1111111111111111,\"#46039f\"],[0.2222222222222222,\"#7201a8\"],[0.3333333333333333,\"#9c179e\"],[0.4444444444444444,\"#bd3786\"],[0.5555555555555556,\"#d8576b\"],[0.6666666666666666,\"#ed7953\"],[0.7777777777777778,\"#fb9f3a\"],[0.8888888888888888,\"#fdca26\"],[1.0,\"#f0f921\"]]}],\"choropleth\":[{\"type\":\"choropleth\",\"colorbar\":{\"outlinewidth\":0,\"ticks\":\"\"}}],\"histogram2d\":[{\"type\":\"histogram2d\",\"colorbar\":{\"outlinewidth\":0,\"ticks\":\"\"},\"colorscale\":[[0.0,\"#0d0887\"],[0.1111111111111111,\"#46039f\"],[0.2222222222222222,\"#7201a8\"],[0.3333333333333333,\"#9c179e\"],[0.4444444444444444,\"#bd3786\"],[0.5555555555555556,\"#d8576b\"],[0.6666666666666666,\"#ed7953\"],[0.7777777777777778,\"#fb9f3a\"],[0.8888888888888888,\"#fdca26\"],[1.0,\"#f0f921\"]]}],\"heatmap\":[{\"type\":\"heatmap\",\"colorbar\":{\"outlinewidth\":0,\"ticks\":\"\"},\"colorscale\":[[0.0,\"#0d0887\"],[0.1111111111111111,\"#46039f\"],[0.2222222222222222,\"#7201a8\"],[0.3333333333333333,\"#9c179e\"],[0.4444444444444444,\"#bd3786\"],[0.5555555555555556,\"#d8576b\"],[0.6666666666666666,\"#ed7953\"],[0.7777777777777778,\"#fb9f3a\"],[0.8888888888888888,\"#fdca26\"],[1.0,\"#f0f921\"]]}],\"heatmapgl\":[{\"type\":\"heatmapgl\",\"colorbar\":{\"outlinewidth\":0,\"ticks\":\"\"},\"colorscale\":[[0.0,\"#0d0887\"],[0.1111111111111111,\"#46039f\"],[0.2222222222222222,\"#7201a8\"],[0.3333333333333333,\"#9c179e\"],[0.4444444444444444,\"#bd3786\"],[0.5555555555555556,\"#d8576b\"],[0.6666666666666666,\"#ed7953\"],[0.7777777777777778,\"#fb9f3a\"],[0.8888888888888888,\"#fdca26\"],[1.0,\"#f0f921\"]]}],\"contourcarpet\":[{\"type\":\"contourcarpet\",\"colorbar\":{\"outlinewidth\":0,\"ticks\":\"\"}}],\"contour\":[{\"type\":\"contour\",\"colorbar\":{\"outlinewidth\":0,\"ticks\":\"\"},\"colorscale\":[[0.0,\"#0d0887\"],[0.1111111111111111,\"#46039f\"],[0.2222222222222222,\"#7201a8\"],[0.3333333333333333,\"#9c179e\"],[0.4444444444444444,\"#bd3786\"],[0.5555555555555556,\"#d8576b\"],[0.6666666666666666,\"#ed7953\"],[0.7777777777777778,\"#fb9f3a\"],[0.8888888888888888,\"#fdca26\"],[1.0,\"#f0f921\"]]}],\"surface\":[{\"type\":\"surface\",\"colorbar\":{\"outlinewidth\":0,\"ticks\":\"\"},\"colorscale\":[[0.0,\"#0d0887\"],[0.1111111111111111,\"#46039f\"],[0.2222222222222222,\"#7201a8\"],[0.3333333333333333,\"#9c179e\"],[0.4444444444444444,\"#bd3786\"],[0.5555555555555556,\"#d8576b\"],[0.6666666666666666,\"#ed7953\"],[0.7777777777777778,\"#fb9f3a\"],[0.8888888888888888,\"#fdca26\"],[1.0,\"#f0f921\"]]}],\"mesh3d\":[{\"type\":\"mesh3d\",\"colorbar\":{\"outlinewidth\":0,\"ticks\":\"\"}}],\"scatter\":[{\"fillpattern\":{\"fillmode\":\"overlay\",\"size\":10,\"solidity\":0.2},\"type\":\"scatter\"}],\"parcoords\":[{\"type\":\"parcoords\",\"line\":{\"colorbar\":{\"outlinewidth\":0,\"ticks\":\"\"}}}],\"scatterpolargl\":[{\"type\":\"scatterpolargl\",\"marker\":{\"colorbar\":{\"outlinewidth\":0,\"ticks\":\"\"}}}],\"bar\":[{\"error_x\":{\"color\":\"#2a3f5f\"},\"error_y\":{\"color\":\"#2a3f5f\"},\"marker\":{\"line\":{\"color\":\"#E5ECF6\",\"width\":0.5},\"pattern\":{\"fillmode\":\"overlay\",\"size\":10,\"solidity\":0.2}},\"type\":\"bar\"}],\"scattergeo\":[{\"type\":\"scattergeo\",\"marker\":{\"colorbar\":{\"outlinewidth\":0,\"ticks\":\"\"}}}],\"scatterpolar\":[{\"type\":\"scatterpolar\",\"marker\":{\"colorbar\":{\"outlinewidth\":0,\"ticks\":\"\"}}}],\"histogram\":[{\"marker\":{\"pattern\":{\"fillmode\":\"overlay\",\"size\":10,\"solidity\":0.2}},\"type\":\"histogram\"}],\"scattergl\":[{\"type\":\"scattergl\",\"marker\":{\"colorbar\":{\"outlinewidth\":0,\"ticks\":\"\"}}}],\"scatter3d\":[{\"type\":\"scatter3d\",\"line\":{\"colorbar\":{\"outlinewidth\":0,\"ticks\":\"\"}},\"marker\":{\"colorbar\":{\"outlinewidth\":0,\"ticks\":\"\"}}}],\"scattermapbox\":[{\"type\":\"scattermapbox\",\"marker\":{\"colorbar\":{\"outlinewidth\":0,\"ticks\":\"\"}}}],\"scatterternary\":[{\"type\":\"scatterternary\",\"marker\":{\"colorbar\":{\"outlinewidth\":0,\"ticks\":\"\"}}}],\"scattercarpet\":[{\"type\":\"scattercarpet\",\"marker\":{\"colorbar\":{\"outlinewidth\":0,\"ticks\":\"\"}}}],\"carpet\":[{\"aaxis\":{\"endlinecolor\":\"#2a3f5f\",\"gridcolor\":\"white\",\"linecolor\":\"white\",\"minorgridcolor\":\"white\",\"startlinecolor\":\"#2a3f5f\"},\"baxis\":{\"endlinecolor\":\"#2a3f5f\",\"gridcolor\":\"white\",\"linecolor\":\"white\",\"minorgridcolor\":\"white\",\"startlinecolor\":\"#2a3f5f\"},\"type\":\"carpet\"}],\"table\":[{\"cells\":{\"fill\":{\"color\":\"#EBF0F8\"},\"line\":{\"color\":\"white\"}},\"header\":{\"fill\":{\"color\":\"#C8D4E3\"},\"line\":{\"color\":\"white\"}},\"type\":\"table\"}],\"barpolar\":[{\"marker\":{\"line\":{\"color\":\"#E5ECF6\",\"width\":0.5},\"pattern\":{\"fillmode\":\"overlay\",\"size\":10,\"solidity\":0.2}},\"type\":\"barpolar\"}],\"pie\":[{\"automargin\":true,\"type\":\"pie\"}]},\"layout\":{\"autotypenumbers\":\"strict\",\"colorway\":[\"#636efa\",\"#EF553B\",\"#00cc96\",\"#ab63fa\",\"#FFA15A\",\"#19d3f3\",\"#FF6692\",\"#B6E880\",\"#FF97FF\",\"#FECB52\"],\"font\":{\"color\":\"#2a3f5f\"},\"hovermode\":\"closest\",\"hoverlabel\":{\"align\":\"left\"},\"paper_bgcolor\":\"white\",\"plot_bgcolor\":\"#E5ECF6\",\"polar\":{\"bgcolor\":\"#E5ECF6\",\"angularaxis\":{\"gridcolor\":\"white\",\"linecolor\":\"white\",\"ticks\":\"\"},\"radialaxis\":{\"gridcolor\":\"white\",\"linecolor\":\"white\",\"ticks\":\"\"}},\"ternary\":{\"bgcolor\":\"#E5ECF6\",\"aaxis\":{\"gridcolor\":\"white\",\"linecolor\":\"white\",\"ticks\":\"\"},\"baxis\":{\"gridcolor\":\"white\",\"linecolor\":\"white\",\"ticks\":\"\"},\"caxis\":{\"gridcolor\":\"white\",\"linecolor\":\"white\",\"ticks\":\"\"}},\"coloraxis\":{\"colorbar\":{\"outlinewidth\":0,\"ticks\":\"\"}},\"colorscale\":{\"sequential\":[[0.0,\"#0d0887\"],[0.1111111111111111,\"#46039f\"],[0.2222222222222222,\"#7201a8\"],[0.3333333333333333,\"#9c179e\"],[0.4444444444444444,\"#bd3786\"],[0.5555555555555556,\"#d8576b\"],[0.6666666666666666,\"#ed7953\"],[0.7777777777777778,\"#fb9f3a\"],[0.8888888888888888,\"#fdca26\"],[1.0,\"#f0f921\"]],\"sequentialminus\":[[0.0,\"#0d0887\"],[0.1111111111111111,\"#46039f\"],[0.2222222222222222,\"#7201a8\"],[0.3333333333333333,\"#9c179e\"],[0.4444444444444444,\"#bd3786\"],[0.5555555555555556,\"#d8576b\"],[0.6666666666666666,\"#ed7953\"],[0.7777777777777778,\"#fb9f3a\"],[0.8888888888888888,\"#fdca26\"],[1.0,\"#f0f921\"]],\"diverging\":[[0,\"#8e0152\"],[0.1,\"#c51b7d\"],[0.2,\"#de77ae\"],[0.3,\"#f1b6da\"],[0.4,\"#fde0ef\"],[0.5,\"#f7f7f7\"],[0.6,\"#e6f5d0\"],[0.7,\"#b8e186\"],[0.8,\"#7fbc41\"],[0.9,\"#4d9221\"],[1,\"#276419\"]]},\"xaxis\":{\"gridcolor\":\"white\",\"linecolor\":\"white\",\"ticks\":\"\",\"title\":{\"standoff\":15},\"zerolinecolor\":\"white\",\"automargin\":true,\"zerolinewidth\":2},\"yaxis\":{\"gridcolor\":\"white\",\"linecolor\":\"white\",\"ticks\":\"\",\"title\":{\"standoff\":15},\"zerolinecolor\":\"white\",\"automargin\":true,\"zerolinewidth\":2},\"scene\":{\"xaxis\":{\"backgroundcolor\":\"#E5ECF6\",\"gridcolor\":\"white\",\"linecolor\":\"white\",\"showbackground\":true,\"ticks\":\"\",\"zerolinecolor\":\"white\",\"gridwidth\":2},\"yaxis\":{\"backgroundcolor\":\"#E5ECF6\",\"gridcolor\":\"white\",\"linecolor\":\"white\",\"showbackground\":true,\"ticks\":\"\",\"zerolinecolor\":\"white\",\"gridwidth\":2},\"zaxis\":{\"backgroundcolor\":\"#E5ECF6\",\"gridcolor\":\"white\",\"linecolor\":\"white\",\"showbackground\":true,\"ticks\":\"\",\"zerolinecolor\":\"white\",\"gridwidth\":2}},\"shapedefaults\":{\"line\":{\"color\":\"#2a3f5f\"}},\"annotationdefaults\":{\"arrowcolor\":\"#2a3f5f\",\"arrowhead\":0,\"arrowwidth\":1},\"geo\":{\"bgcolor\":\"white\",\"landcolor\":\"#E5ECF6\",\"subunitcolor\":\"white\",\"showland\":true,\"showlakes\":true,\"lakecolor\":\"white\"},\"title\":{\"x\":0.05},\"mapbox\":{\"style\":\"light\"}}},\"xaxis\":{\"anchor\":\"y\",\"domain\":[0.0,1.0],\"title\":{\"text\":\"Type 1\"}},\"yaxis\":{\"anchor\":\"x\",\"domain\":[0.0,1.0],\"title\":{\"text\":\"Note Moyenne\"}},\"legend\":{\"tracegroupgap\":0},\"title\":{\"text\":\"Note moyenne par Type 1\"},\"barmode\":\"relative\"},                        {\"responsive\": true}                    ).then(function(){\n",
              "                            \n",
              "var gd = document.getElementById('f0040c64-4f3e-4ccb-be93-af69efbefe6c');\n",
              "var x = new MutationObserver(function (mutations, observer) {{\n",
              "        var display = window.getComputedStyle(gd).display;\n",
              "        if (!display || display === 'none') {{\n",
              "            console.log([gd, 'removed!']);\n",
              "            Plotly.purge(gd);\n",
              "            observer.disconnect();\n",
              "        }}\n",
              "}});\n",
              "\n",
              "// Listen for the removal of the full notebook cells\n",
              "var notebookContainer = gd.closest('#notebook-container');\n",
              "if (notebookContainer) {{\n",
              "    x.observe(notebookContainer, {childList: true});\n",
              "}}\n",
              "\n",
              "// Listen for the clearing of the current output cell\n",
              "var outputEl = gd.closest('.output');\n",
              "if (outputEl) {{\n",
              "    x.observe(outputEl, {childList: true});\n",
              "}}\n",
              "\n",
              "                        })                };                            </script>        </div>\n",
              "</body>\n",
              "</html>"
            ]
          },
          "metadata": {},
          "output_type": "display_data"
        }
      ],
      "source": [
        "import plotly.express as px\n",
        "import pandas as pd\n",
        "\n",
        "# Convertir le DataFrame Spark en Pandas\n",
        "grouped_pandas = grouped_df.toPandas()\n",
        "\n",
        "# Créer un graphique à barres avec Plotly\n",
        "fig = px.bar(grouped_pandas, x='Type_1', y='Note_Moyenne_Par_Type1',\n",
        "             title='Note moyenne par Type 1',\n",
        "             labels={'Note_Moyenne_Par_Type1': 'Note Moyenne', 'Type_1': 'Type 1'})\n",
        "\n",
        "# Afficher le graphique\n",
        "fig.show()\n"
      ]
    },
    {
      "cell_type": "markdown",
      "metadata": {
        "id": "MzU1Nug4hKx2"
      },
      "source": [
        "######<font color='orange'>Moyen des notes presse et spéctateurs  par Type1\n",
        "\n",
        "\n"
      ]
    },
    {
      "cell_type": "code",
      "execution_count": null,
      "metadata": {
        "colab": {
          "base_uri": "https://localhost:8080/"
        },
        "id": "RE1T2vUTtfRR",
        "outputId": "d7751f12-a882-4100-b7c2-3c7bff5fe643"
      },
      "outputs": [
        {
          "name": "stdout",
          "output_type": "stream",
          "text": [
            "+------------------+------------------------+-------------------+\n",
            "|Type_1            |Moyenne_Note_Spectateurs|Moyenne_Note_Presse|\n",
            "+------------------+------------------------+-------------------+\n",
            "|Romance           |3.775                   |3.800000011920929  |\n",
            "|Thriller          |3.9                     |3.609999966621399  |\n",
            "|Historique        |3.9200000000000004      |3.0199999809265137 |\n",
            "|Comédie           |3.688888888888889       |3.244444396760729  |\n",
            "|Aventure          |3.6                     |3.049999952316284  |\n",
            "|Fantastique       |3.6                     |3.200000047683716  |\n",
            "|Comédie dramatique|3.8300000000000005      |3.509999990463257  |\n",
            "|Policier          |3.6                     |3.799999952316284  |\n",
            "|Animation         |3.9599999999999995      |3.680000003178914  |\n",
            "|Biopic            |3.95                    |3.6749999821186066 |\n",
            "|Science Fiction   |3.85                    |3.8499999046325684 |\n",
            "|Guerre            |3.8                     |3.5999999046325684 |\n",
            "|Drame             |3.8030303030303028      |3.5999999949426362 |\n",
            "|Action            |3.9199999999999995      |3.7600000381469725 |\n",
            "+------------------+------------------------+-------------------+\n",
            "\n"
          ]
        }
      ],
      "source": [
        "\n",
        "grouped_df = df_final.groupBy(\"Type_1\").agg(\n",
        "    F.avg(\"Note Spectateurs\").alias(\"Moyenne_Note_Spectateurs\"),\n",
        "    F.avg(\"Note Presse\").alias(\"Moyenne_Note_Presse\")\n",
        ")\n",
        "\n",
        "grouped_df.show(truncate=False)"
      ]
    },
    {
      "cell_type": "code",
      "execution_count": null,
      "metadata": {
        "colab": {
          "base_uri": "https://localhost:8080/",
          "height": 542
        },
        "id": "5UHzzebntxOP",
        "outputId": "c06ce369-6b6f-4958-b381-2d7d57f5016e"
      },
      "outputs": [
        {
          "data": {
            "text/html": [
              "<html>\n",
              "<head><meta charset=\"utf-8\" /></head>\n",
              "<body>\n",
              "    <div>            <script src=\"https://cdnjs.cloudflare.com/ajax/libs/mathjax/2.7.5/MathJax.js?config=TeX-AMS-MML_SVG\"></script><script type=\"text/javascript\">if (window.MathJax && window.MathJax.Hub && window.MathJax.Hub.Config) {window.MathJax.Hub.Config({SVG: {font: \"STIX-Web\"}});}</script>                <script type=\"text/javascript\">window.PlotlyConfig = {MathJaxConfig: 'local'};</script>\n",
              "        <script charset=\"utf-8\" src=\"https://cdn.plot.ly/plotly-2.24.1.min.js\"></script>                <div id=\"dc70eb0f-6da6-4f80-a77e-dcbce20b38cf\" class=\"plotly-graph-div\" style=\"height:525px; width:100%;\"></div>            <script type=\"text/javascript\">                                    window.PLOTLYENV=window.PLOTLYENV || {};                                    if (document.getElementById(\"dc70eb0f-6da6-4f80-a77e-dcbce20b38cf\")) {                    Plotly.newPlot(                        \"dc70eb0f-6da6-4f80-a77e-dcbce20b38cf\",                        [{\"alignmentgroup\":\"True\",\"hovertemplate\":\"variable=Moyenne_Note_Spectateurs\\u003cbr\\u003eType 1=%{x}\\u003cbr\\u003eNote Moyenne=%{y}\\u003cextra\\u003e\\u003c\\u002fextra\\u003e\",\"legendgroup\":\"Moyenne_Note_Spectateurs\",\"marker\":{\"color\":\"#636efa\",\"pattern\":{\"shape\":\"\"}},\"name\":\"Moyenne_Note_Spectateurs\",\"offsetgroup\":\"Moyenne_Note_Spectateurs\",\"orientation\":\"v\",\"showlegend\":true,\"textposition\":\"auto\",\"x\":[\"Romance\",\"Thriller\",\"Historique\",\"Com\\u00e9die\",\"Aventure\",\"Fantastique\",\"Com\\u00e9die dramatique\",\"Policier\",\"Animation\",\"Biopic\",\"Science Fiction\",\"Guerre\",\"Drame\",\"Action\"],\"xaxis\":\"x\",\"y\":[3.775,3.9,3.9200000000000004,3.688888888888889,3.6,3.6,3.8300000000000005,3.6,3.9599999999999995,3.95,3.85,3.8,3.8030303030303028,3.9199999999999995],\"yaxis\":\"y\",\"type\":\"bar\"},{\"alignmentgroup\":\"True\",\"hovertemplate\":\"variable=Moyenne_Note_Presse\\u003cbr\\u003eType 1=%{x}\\u003cbr\\u003eNote Moyenne=%{y}\\u003cextra\\u003e\\u003c\\u002fextra\\u003e\",\"legendgroup\":\"Moyenne_Note_Presse\",\"marker\":{\"color\":\"#EF553B\",\"pattern\":{\"shape\":\"\"}},\"name\":\"Moyenne_Note_Presse\",\"offsetgroup\":\"Moyenne_Note_Presse\",\"orientation\":\"v\",\"showlegend\":true,\"textposition\":\"auto\",\"x\":[\"Romance\",\"Thriller\",\"Historique\",\"Com\\u00e9die\",\"Aventure\",\"Fantastique\",\"Com\\u00e9die dramatique\",\"Policier\",\"Animation\",\"Biopic\",\"Science Fiction\",\"Guerre\",\"Drame\",\"Action\"],\"xaxis\":\"x\",\"y\":[3.800000011920929,3.609999966621399,3.0199999809265137,3.244444396760729,3.049999952316284,3.200000047683716,3.509999990463257,3.799999952316284,3.680000003178914,3.6749999821186066,3.8499999046325684,3.5999999046325684,3.5999999949426362,3.7600000381469725],\"yaxis\":\"y\",\"type\":\"bar\"}],                        {\"template\":{\"data\":{\"histogram2dcontour\":[{\"type\":\"histogram2dcontour\",\"colorbar\":{\"outlinewidth\":0,\"ticks\":\"\"},\"colorscale\":[[0.0,\"#0d0887\"],[0.1111111111111111,\"#46039f\"],[0.2222222222222222,\"#7201a8\"],[0.3333333333333333,\"#9c179e\"],[0.4444444444444444,\"#bd3786\"],[0.5555555555555556,\"#d8576b\"],[0.6666666666666666,\"#ed7953\"],[0.7777777777777778,\"#fb9f3a\"],[0.8888888888888888,\"#fdca26\"],[1.0,\"#f0f921\"]]}],\"choropleth\":[{\"type\":\"choropleth\",\"colorbar\":{\"outlinewidth\":0,\"ticks\":\"\"}}],\"histogram2d\":[{\"type\":\"histogram2d\",\"colorbar\":{\"outlinewidth\":0,\"ticks\":\"\"},\"colorscale\":[[0.0,\"#0d0887\"],[0.1111111111111111,\"#46039f\"],[0.2222222222222222,\"#7201a8\"],[0.3333333333333333,\"#9c179e\"],[0.4444444444444444,\"#bd3786\"],[0.5555555555555556,\"#d8576b\"],[0.6666666666666666,\"#ed7953\"],[0.7777777777777778,\"#fb9f3a\"],[0.8888888888888888,\"#fdca26\"],[1.0,\"#f0f921\"]]}],\"heatmap\":[{\"type\":\"heatmap\",\"colorbar\":{\"outlinewidth\":0,\"ticks\":\"\"},\"colorscale\":[[0.0,\"#0d0887\"],[0.1111111111111111,\"#46039f\"],[0.2222222222222222,\"#7201a8\"],[0.3333333333333333,\"#9c179e\"],[0.4444444444444444,\"#bd3786\"],[0.5555555555555556,\"#d8576b\"],[0.6666666666666666,\"#ed7953\"],[0.7777777777777778,\"#fb9f3a\"],[0.8888888888888888,\"#fdca26\"],[1.0,\"#f0f921\"]]}],\"heatmapgl\":[{\"type\":\"heatmapgl\",\"colorbar\":{\"outlinewidth\":0,\"ticks\":\"\"},\"colorscale\":[[0.0,\"#0d0887\"],[0.1111111111111111,\"#46039f\"],[0.2222222222222222,\"#7201a8\"],[0.3333333333333333,\"#9c179e\"],[0.4444444444444444,\"#bd3786\"],[0.5555555555555556,\"#d8576b\"],[0.6666666666666666,\"#ed7953\"],[0.7777777777777778,\"#fb9f3a\"],[0.8888888888888888,\"#fdca26\"],[1.0,\"#f0f921\"]]}],\"contourcarpet\":[{\"type\":\"contourcarpet\",\"colorbar\":{\"outlinewidth\":0,\"ticks\":\"\"}}],\"contour\":[{\"type\":\"contour\",\"colorbar\":{\"outlinewidth\":0,\"ticks\":\"\"},\"colorscale\":[[0.0,\"#0d0887\"],[0.1111111111111111,\"#46039f\"],[0.2222222222222222,\"#7201a8\"],[0.3333333333333333,\"#9c179e\"],[0.4444444444444444,\"#bd3786\"],[0.5555555555555556,\"#d8576b\"],[0.6666666666666666,\"#ed7953\"],[0.7777777777777778,\"#fb9f3a\"],[0.8888888888888888,\"#fdca26\"],[1.0,\"#f0f921\"]]}],\"surface\":[{\"type\":\"surface\",\"colorbar\":{\"outlinewidth\":0,\"ticks\":\"\"},\"colorscale\":[[0.0,\"#0d0887\"],[0.1111111111111111,\"#46039f\"],[0.2222222222222222,\"#7201a8\"],[0.3333333333333333,\"#9c179e\"],[0.4444444444444444,\"#bd3786\"],[0.5555555555555556,\"#d8576b\"],[0.6666666666666666,\"#ed7953\"],[0.7777777777777778,\"#fb9f3a\"],[0.8888888888888888,\"#fdca26\"],[1.0,\"#f0f921\"]]}],\"mesh3d\":[{\"type\":\"mesh3d\",\"colorbar\":{\"outlinewidth\":0,\"ticks\":\"\"}}],\"scatter\":[{\"fillpattern\":{\"fillmode\":\"overlay\",\"size\":10,\"solidity\":0.2},\"type\":\"scatter\"}],\"parcoords\":[{\"type\":\"parcoords\",\"line\":{\"colorbar\":{\"outlinewidth\":0,\"ticks\":\"\"}}}],\"scatterpolargl\":[{\"type\":\"scatterpolargl\",\"marker\":{\"colorbar\":{\"outlinewidth\":0,\"ticks\":\"\"}}}],\"bar\":[{\"error_x\":{\"color\":\"#2a3f5f\"},\"error_y\":{\"color\":\"#2a3f5f\"},\"marker\":{\"line\":{\"color\":\"#E5ECF6\",\"width\":0.5},\"pattern\":{\"fillmode\":\"overlay\",\"size\":10,\"solidity\":0.2}},\"type\":\"bar\"}],\"scattergeo\":[{\"type\":\"scattergeo\",\"marker\":{\"colorbar\":{\"outlinewidth\":0,\"ticks\":\"\"}}}],\"scatterpolar\":[{\"type\":\"scatterpolar\",\"marker\":{\"colorbar\":{\"outlinewidth\":0,\"ticks\":\"\"}}}],\"histogram\":[{\"marker\":{\"pattern\":{\"fillmode\":\"overlay\",\"size\":10,\"solidity\":0.2}},\"type\":\"histogram\"}],\"scattergl\":[{\"type\":\"scattergl\",\"marker\":{\"colorbar\":{\"outlinewidth\":0,\"ticks\":\"\"}}}],\"scatter3d\":[{\"type\":\"scatter3d\",\"line\":{\"colorbar\":{\"outlinewidth\":0,\"ticks\":\"\"}},\"marker\":{\"colorbar\":{\"outlinewidth\":0,\"ticks\":\"\"}}}],\"scattermapbox\":[{\"type\":\"scattermapbox\",\"marker\":{\"colorbar\":{\"outlinewidth\":0,\"ticks\":\"\"}}}],\"scatterternary\":[{\"type\":\"scatterternary\",\"marker\":{\"colorbar\":{\"outlinewidth\":0,\"ticks\":\"\"}}}],\"scattercarpet\":[{\"type\":\"scattercarpet\",\"marker\":{\"colorbar\":{\"outlinewidth\":0,\"ticks\":\"\"}}}],\"carpet\":[{\"aaxis\":{\"endlinecolor\":\"#2a3f5f\",\"gridcolor\":\"white\",\"linecolor\":\"white\",\"minorgridcolor\":\"white\",\"startlinecolor\":\"#2a3f5f\"},\"baxis\":{\"endlinecolor\":\"#2a3f5f\",\"gridcolor\":\"white\",\"linecolor\":\"white\",\"minorgridcolor\":\"white\",\"startlinecolor\":\"#2a3f5f\"},\"type\":\"carpet\"}],\"table\":[{\"cells\":{\"fill\":{\"color\":\"#EBF0F8\"},\"line\":{\"color\":\"white\"}},\"header\":{\"fill\":{\"color\":\"#C8D4E3\"},\"line\":{\"color\":\"white\"}},\"type\":\"table\"}],\"barpolar\":[{\"marker\":{\"line\":{\"color\":\"#E5ECF6\",\"width\":0.5},\"pattern\":{\"fillmode\":\"overlay\",\"size\":10,\"solidity\":0.2}},\"type\":\"barpolar\"}],\"pie\":[{\"automargin\":true,\"type\":\"pie\"}]},\"layout\":{\"autotypenumbers\":\"strict\",\"colorway\":[\"#636efa\",\"#EF553B\",\"#00cc96\",\"#ab63fa\",\"#FFA15A\",\"#19d3f3\",\"#FF6692\",\"#B6E880\",\"#FF97FF\",\"#FECB52\"],\"font\":{\"color\":\"#2a3f5f\"},\"hovermode\":\"closest\",\"hoverlabel\":{\"align\":\"left\"},\"paper_bgcolor\":\"white\",\"plot_bgcolor\":\"#E5ECF6\",\"polar\":{\"bgcolor\":\"#E5ECF6\",\"angularaxis\":{\"gridcolor\":\"white\",\"linecolor\":\"white\",\"ticks\":\"\"},\"radialaxis\":{\"gridcolor\":\"white\",\"linecolor\":\"white\",\"ticks\":\"\"}},\"ternary\":{\"bgcolor\":\"#E5ECF6\",\"aaxis\":{\"gridcolor\":\"white\",\"linecolor\":\"white\",\"ticks\":\"\"},\"baxis\":{\"gridcolor\":\"white\",\"linecolor\":\"white\",\"ticks\":\"\"},\"caxis\":{\"gridcolor\":\"white\",\"linecolor\":\"white\",\"ticks\":\"\"}},\"coloraxis\":{\"colorbar\":{\"outlinewidth\":0,\"ticks\":\"\"}},\"colorscale\":{\"sequential\":[[0.0,\"#0d0887\"],[0.1111111111111111,\"#46039f\"],[0.2222222222222222,\"#7201a8\"],[0.3333333333333333,\"#9c179e\"],[0.4444444444444444,\"#bd3786\"],[0.5555555555555556,\"#d8576b\"],[0.6666666666666666,\"#ed7953\"],[0.7777777777777778,\"#fb9f3a\"],[0.8888888888888888,\"#fdca26\"],[1.0,\"#f0f921\"]],\"sequentialminus\":[[0.0,\"#0d0887\"],[0.1111111111111111,\"#46039f\"],[0.2222222222222222,\"#7201a8\"],[0.3333333333333333,\"#9c179e\"],[0.4444444444444444,\"#bd3786\"],[0.5555555555555556,\"#d8576b\"],[0.6666666666666666,\"#ed7953\"],[0.7777777777777778,\"#fb9f3a\"],[0.8888888888888888,\"#fdca26\"],[1.0,\"#f0f921\"]],\"diverging\":[[0,\"#8e0152\"],[0.1,\"#c51b7d\"],[0.2,\"#de77ae\"],[0.3,\"#f1b6da\"],[0.4,\"#fde0ef\"],[0.5,\"#f7f7f7\"],[0.6,\"#e6f5d0\"],[0.7,\"#b8e186\"],[0.8,\"#7fbc41\"],[0.9,\"#4d9221\"],[1,\"#276419\"]]},\"xaxis\":{\"gridcolor\":\"white\",\"linecolor\":\"white\",\"ticks\":\"\",\"title\":{\"standoff\":15},\"zerolinecolor\":\"white\",\"automargin\":true,\"zerolinewidth\":2},\"yaxis\":{\"gridcolor\":\"white\",\"linecolor\":\"white\",\"ticks\":\"\",\"title\":{\"standoff\":15},\"zerolinecolor\":\"white\",\"automargin\":true,\"zerolinewidth\":2},\"scene\":{\"xaxis\":{\"backgroundcolor\":\"#E5ECF6\",\"gridcolor\":\"white\",\"linecolor\":\"white\",\"showbackground\":true,\"ticks\":\"\",\"zerolinecolor\":\"white\",\"gridwidth\":2},\"yaxis\":{\"backgroundcolor\":\"#E5ECF6\",\"gridcolor\":\"white\",\"linecolor\":\"white\",\"showbackground\":true,\"ticks\":\"\",\"zerolinecolor\":\"white\",\"gridwidth\":2},\"zaxis\":{\"backgroundcolor\":\"#E5ECF6\",\"gridcolor\":\"white\",\"linecolor\":\"white\",\"showbackground\":true,\"ticks\":\"\",\"zerolinecolor\":\"white\",\"gridwidth\":2}},\"shapedefaults\":{\"line\":{\"color\":\"#2a3f5f\"}},\"annotationdefaults\":{\"arrowcolor\":\"#2a3f5f\",\"arrowhead\":0,\"arrowwidth\":1},\"geo\":{\"bgcolor\":\"white\",\"landcolor\":\"#E5ECF6\",\"subunitcolor\":\"white\",\"showland\":true,\"showlakes\":true,\"lakecolor\":\"white\"},\"title\":{\"x\":0.05},\"mapbox\":{\"style\":\"light\"}}},\"xaxis\":{\"anchor\":\"y\",\"domain\":[0.0,1.0],\"title\":{\"text\":\"Type 1\"}},\"yaxis\":{\"anchor\":\"x\",\"domain\":[0.0,1.0],\"title\":{\"text\":\"Note Moyenne\"}},\"legend\":{\"title\":{\"text\":\"variable\"},\"tracegroupgap\":0},\"title\":{\"text\":\"Moyennes des Notes par Type 1\"},\"barmode\":\"group\"},                        {\"responsive\": true}                    ).then(function(){\n",
              "                            \n",
              "var gd = document.getElementById('dc70eb0f-6da6-4f80-a77e-dcbce20b38cf');\n",
              "var x = new MutationObserver(function (mutations, observer) {{\n",
              "        var display = window.getComputedStyle(gd).display;\n",
              "        if (!display || display === 'none') {{\n",
              "            console.log([gd, 'removed!']);\n",
              "            Plotly.purge(gd);\n",
              "            observer.disconnect();\n",
              "        }}\n",
              "}});\n",
              "\n",
              "// Listen for the removal of the full notebook cells\n",
              "var notebookContainer = gd.closest('#notebook-container');\n",
              "if (notebookContainer) {{\n",
              "    x.observe(notebookContainer, {childList: true});\n",
              "}}\n",
              "\n",
              "// Listen for the clearing of the current output cell\n",
              "var outputEl = gd.closest('.output');\n",
              "if (outputEl) {{\n",
              "    x.observe(outputEl, {childList: true});\n",
              "}}\n",
              "\n",
              "                        })                };                            </script>        </div>\n",
              "</body>\n",
              "</html>"
            ]
          },
          "metadata": {},
          "output_type": "display_data"
        }
      ],
      "source": [
        "import plotly.express as px\n",
        "import pandas as pd\n",
        "\n",
        "grouped_pandas = grouped_df.toPandas()\n",
        "\n",
        "fig = px.bar(grouped_pandas, x='Type_1', y=['Moyenne_Note_Spectateurs', 'Moyenne_Note_Presse'],\n",
        "             title='Moyennes des Notes par Type 1',\n",
        "             labels={'value': 'Note Moyenne', 'Type_1': 'Type 1'},\n",
        "             barmode='group')\n",
        "\n",
        "fig.show()\n"
      ]
    },
    {
      "cell_type": "markdown",
      "metadata": {
        "id": "hc3v5W5IhcxI"
      },
      "source": [
        "######<font color='orange'>Distribustion des durées de films et Durée moyenne par catégorie générale et par type\n"
      ]
    },
    {
      "cell_type": "code",
      "execution_count": null,
      "metadata": {
        "colab": {
          "base_uri": "https://localhost:8080/",
          "height": 542
        },
        "id": "lbdQrW2AuDUD",
        "outputId": "12561daa-3a1a-4f88-85ef-15bcec4d8cfd"
      },
      "outputs": [
        {
          "data": {
            "text/html": [
              "<html>\n",
              "<head><meta charset=\"utf-8\" /></head>\n",
              "<body>\n",
              "    <div>            <script src=\"https://cdnjs.cloudflare.com/ajax/libs/mathjax/2.7.5/MathJax.js?config=TeX-AMS-MML_SVG\"></script><script type=\"text/javascript\">if (window.MathJax && window.MathJax.Hub && window.MathJax.Hub.Config) {window.MathJax.Hub.Config({SVG: {font: \"STIX-Web\"}});}</script>                <script type=\"text/javascript\">window.PlotlyConfig = {MathJaxConfig: 'local'};</script>\n",
              "        <script charset=\"utf-8\" src=\"https://cdn.plot.ly/plotly-2.24.1.min.js\"></script>                <div id=\"5de0886f-35c6-4d4a-90f6-7176234fc614\" class=\"plotly-graph-div\" style=\"height:525px; width:100%;\"></div>            <script type=\"text/javascript\">                                    window.PLOTLYENV=window.PLOTLYENV || {};                                    if (document.getElementById(\"5de0886f-35c6-4d4a-90f6-7176234fc614\")) {                    Plotly.newPlot(                        \"5de0886f-35c6-4d4a-90f6-7176234fc614\",                        [{\"alignmentgroup\":\"True\",\"bingroup\":\"x\",\"hovertemplate\":\"Dur\\u00e9e Totale(min)=%{x}\\u003cbr\\u003ecount=%{y}\\u003cextra\\u003e\\u003c\\u002fextra\\u003e\",\"legendgroup\":\"\",\"marker\":{\"color\":\"#636efa\",\"pattern\":{\"shape\":\"\"}},\"name\":\"\",\"offsetgroup\":\"\",\"orientation\":\"v\",\"showlegend\":false,\"x\":[131,151,124,122,192,122,133,102,189,137,159,92,118,147,96,104,137,148,105,140,159,110,117,177,187,117,107,134,126,147,114,125,86,120,70,115,81,116,140,121,119,136,105,107,61,92,110,121,100,100,102,114,111,139,91,113,127,122,123,131,121,119,117,115,129,140,110,129,125,114,97,90,124,110,138,108,126,99,130,83,118,82,126,98,149,155,107,135,103,103,102,100,121,91,127,126,107,127,115,90,101,97,123,103,101,130,100,83,106,124,143,139,117,120,126,95,92,123,158,90,99,94,89,129,100,126,139,112,123,92,97,104,139,85,109,92,99,105,111],\"xaxis\":\"x\",\"yaxis\":\"y\",\"type\":\"histogram\"}],                        {\"template\":{\"data\":{\"histogram2dcontour\":[{\"type\":\"histogram2dcontour\",\"colorbar\":{\"outlinewidth\":0,\"ticks\":\"\"},\"colorscale\":[[0.0,\"#0d0887\"],[0.1111111111111111,\"#46039f\"],[0.2222222222222222,\"#7201a8\"],[0.3333333333333333,\"#9c179e\"],[0.4444444444444444,\"#bd3786\"],[0.5555555555555556,\"#d8576b\"],[0.6666666666666666,\"#ed7953\"],[0.7777777777777778,\"#fb9f3a\"],[0.8888888888888888,\"#fdca26\"],[1.0,\"#f0f921\"]]}],\"choropleth\":[{\"type\":\"choropleth\",\"colorbar\":{\"outlinewidth\":0,\"ticks\":\"\"}}],\"histogram2d\":[{\"type\":\"histogram2d\",\"colorbar\":{\"outlinewidth\":0,\"ticks\":\"\"},\"colorscale\":[[0.0,\"#0d0887\"],[0.1111111111111111,\"#46039f\"],[0.2222222222222222,\"#7201a8\"],[0.3333333333333333,\"#9c179e\"],[0.4444444444444444,\"#bd3786\"],[0.5555555555555556,\"#d8576b\"],[0.6666666666666666,\"#ed7953\"],[0.7777777777777778,\"#fb9f3a\"],[0.8888888888888888,\"#fdca26\"],[1.0,\"#f0f921\"]]}],\"heatmap\":[{\"type\":\"heatmap\",\"colorbar\":{\"outlinewidth\":0,\"ticks\":\"\"},\"colorscale\":[[0.0,\"#0d0887\"],[0.1111111111111111,\"#46039f\"],[0.2222222222222222,\"#7201a8\"],[0.3333333333333333,\"#9c179e\"],[0.4444444444444444,\"#bd3786\"],[0.5555555555555556,\"#d8576b\"],[0.6666666666666666,\"#ed7953\"],[0.7777777777777778,\"#fb9f3a\"],[0.8888888888888888,\"#fdca26\"],[1.0,\"#f0f921\"]]}],\"heatmapgl\":[{\"type\":\"heatmapgl\",\"colorbar\":{\"outlinewidth\":0,\"ticks\":\"\"},\"colorscale\":[[0.0,\"#0d0887\"],[0.1111111111111111,\"#46039f\"],[0.2222222222222222,\"#7201a8\"],[0.3333333333333333,\"#9c179e\"],[0.4444444444444444,\"#bd3786\"],[0.5555555555555556,\"#d8576b\"],[0.6666666666666666,\"#ed7953\"],[0.7777777777777778,\"#fb9f3a\"],[0.8888888888888888,\"#fdca26\"],[1.0,\"#f0f921\"]]}],\"contourcarpet\":[{\"type\":\"contourcarpet\",\"colorbar\":{\"outlinewidth\":0,\"ticks\":\"\"}}],\"contour\":[{\"type\":\"contour\",\"colorbar\":{\"outlinewidth\":0,\"ticks\":\"\"},\"colorscale\":[[0.0,\"#0d0887\"],[0.1111111111111111,\"#46039f\"],[0.2222222222222222,\"#7201a8\"],[0.3333333333333333,\"#9c179e\"],[0.4444444444444444,\"#bd3786\"],[0.5555555555555556,\"#d8576b\"],[0.6666666666666666,\"#ed7953\"],[0.7777777777777778,\"#fb9f3a\"],[0.8888888888888888,\"#fdca26\"],[1.0,\"#f0f921\"]]}],\"surface\":[{\"type\":\"surface\",\"colorbar\":{\"outlinewidth\":0,\"ticks\":\"\"},\"colorscale\":[[0.0,\"#0d0887\"],[0.1111111111111111,\"#46039f\"],[0.2222222222222222,\"#7201a8\"],[0.3333333333333333,\"#9c179e\"],[0.4444444444444444,\"#bd3786\"],[0.5555555555555556,\"#d8576b\"],[0.6666666666666666,\"#ed7953\"],[0.7777777777777778,\"#fb9f3a\"],[0.8888888888888888,\"#fdca26\"],[1.0,\"#f0f921\"]]}],\"mesh3d\":[{\"type\":\"mesh3d\",\"colorbar\":{\"outlinewidth\":0,\"ticks\":\"\"}}],\"scatter\":[{\"fillpattern\":{\"fillmode\":\"overlay\",\"size\":10,\"solidity\":0.2},\"type\":\"scatter\"}],\"parcoords\":[{\"type\":\"parcoords\",\"line\":{\"colorbar\":{\"outlinewidth\":0,\"ticks\":\"\"}}}],\"scatterpolargl\":[{\"type\":\"scatterpolargl\",\"marker\":{\"colorbar\":{\"outlinewidth\":0,\"ticks\":\"\"}}}],\"bar\":[{\"error_x\":{\"color\":\"#2a3f5f\"},\"error_y\":{\"color\":\"#2a3f5f\"},\"marker\":{\"line\":{\"color\":\"#E5ECF6\",\"width\":0.5},\"pattern\":{\"fillmode\":\"overlay\",\"size\":10,\"solidity\":0.2}},\"type\":\"bar\"}],\"scattergeo\":[{\"type\":\"scattergeo\",\"marker\":{\"colorbar\":{\"outlinewidth\":0,\"ticks\":\"\"}}}],\"scatterpolar\":[{\"type\":\"scatterpolar\",\"marker\":{\"colorbar\":{\"outlinewidth\":0,\"ticks\":\"\"}}}],\"histogram\":[{\"marker\":{\"pattern\":{\"fillmode\":\"overlay\",\"size\":10,\"solidity\":0.2}},\"type\":\"histogram\"}],\"scattergl\":[{\"type\":\"scattergl\",\"marker\":{\"colorbar\":{\"outlinewidth\":0,\"ticks\":\"\"}}}],\"scatter3d\":[{\"type\":\"scatter3d\",\"line\":{\"colorbar\":{\"outlinewidth\":0,\"ticks\":\"\"}},\"marker\":{\"colorbar\":{\"outlinewidth\":0,\"ticks\":\"\"}}}],\"scattermapbox\":[{\"type\":\"scattermapbox\",\"marker\":{\"colorbar\":{\"outlinewidth\":0,\"ticks\":\"\"}}}],\"scatterternary\":[{\"type\":\"scatterternary\",\"marker\":{\"colorbar\":{\"outlinewidth\":0,\"ticks\":\"\"}}}],\"scattercarpet\":[{\"type\":\"scattercarpet\",\"marker\":{\"colorbar\":{\"outlinewidth\":0,\"ticks\":\"\"}}}],\"carpet\":[{\"aaxis\":{\"endlinecolor\":\"#2a3f5f\",\"gridcolor\":\"white\",\"linecolor\":\"white\",\"minorgridcolor\":\"white\",\"startlinecolor\":\"#2a3f5f\"},\"baxis\":{\"endlinecolor\":\"#2a3f5f\",\"gridcolor\":\"white\",\"linecolor\":\"white\",\"minorgridcolor\":\"white\",\"startlinecolor\":\"#2a3f5f\"},\"type\":\"carpet\"}],\"table\":[{\"cells\":{\"fill\":{\"color\":\"#EBF0F8\"},\"line\":{\"color\":\"white\"}},\"header\":{\"fill\":{\"color\":\"#C8D4E3\"},\"line\":{\"color\":\"white\"}},\"type\":\"table\"}],\"barpolar\":[{\"marker\":{\"line\":{\"color\":\"#E5ECF6\",\"width\":0.5},\"pattern\":{\"fillmode\":\"overlay\",\"size\":10,\"solidity\":0.2}},\"type\":\"barpolar\"}],\"pie\":[{\"automargin\":true,\"type\":\"pie\"}]},\"layout\":{\"autotypenumbers\":\"strict\",\"colorway\":[\"#636efa\",\"#EF553B\",\"#00cc96\",\"#ab63fa\",\"#FFA15A\",\"#19d3f3\",\"#FF6692\",\"#B6E880\",\"#FF97FF\",\"#FECB52\"],\"font\":{\"color\":\"#2a3f5f\"},\"hovermode\":\"closest\",\"hoverlabel\":{\"align\":\"left\"},\"paper_bgcolor\":\"white\",\"plot_bgcolor\":\"#E5ECF6\",\"polar\":{\"bgcolor\":\"#E5ECF6\",\"angularaxis\":{\"gridcolor\":\"white\",\"linecolor\":\"white\",\"ticks\":\"\"},\"radialaxis\":{\"gridcolor\":\"white\",\"linecolor\":\"white\",\"ticks\":\"\"}},\"ternary\":{\"bgcolor\":\"#E5ECF6\",\"aaxis\":{\"gridcolor\":\"white\",\"linecolor\":\"white\",\"ticks\":\"\"},\"baxis\":{\"gridcolor\":\"white\",\"linecolor\":\"white\",\"ticks\":\"\"},\"caxis\":{\"gridcolor\":\"white\",\"linecolor\":\"white\",\"ticks\":\"\"}},\"coloraxis\":{\"colorbar\":{\"outlinewidth\":0,\"ticks\":\"\"}},\"colorscale\":{\"sequential\":[[0.0,\"#0d0887\"],[0.1111111111111111,\"#46039f\"],[0.2222222222222222,\"#7201a8\"],[0.3333333333333333,\"#9c179e\"],[0.4444444444444444,\"#bd3786\"],[0.5555555555555556,\"#d8576b\"],[0.6666666666666666,\"#ed7953\"],[0.7777777777777778,\"#fb9f3a\"],[0.8888888888888888,\"#fdca26\"],[1.0,\"#f0f921\"]],\"sequentialminus\":[[0.0,\"#0d0887\"],[0.1111111111111111,\"#46039f\"],[0.2222222222222222,\"#7201a8\"],[0.3333333333333333,\"#9c179e\"],[0.4444444444444444,\"#bd3786\"],[0.5555555555555556,\"#d8576b\"],[0.6666666666666666,\"#ed7953\"],[0.7777777777777778,\"#fb9f3a\"],[0.8888888888888888,\"#fdca26\"],[1.0,\"#f0f921\"]],\"diverging\":[[0,\"#8e0152\"],[0.1,\"#c51b7d\"],[0.2,\"#de77ae\"],[0.3,\"#f1b6da\"],[0.4,\"#fde0ef\"],[0.5,\"#f7f7f7\"],[0.6,\"#e6f5d0\"],[0.7,\"#b8e186\"],[0.8,\"#7fbc41\"],[0.9,\"#4d9221\"],[1,\"#276419\"]]},\"xaxis\":{\"gridcolor\":\"white\",\"linecolor\":\"white\",\"ticks\":\"\",\"title\":{\"standoff\":15},\"zerolinecolor\":\"white\",\"automargin\":true,\"zerolinewidth\":2},\"yaxis\":{\"gridcolor\":\"white\",\"linecolor\":\"white\",\"ticks\":\"\",\"title\":{\"standoff\":15},\"zerolinecolor\":\"white\",\"automargin\":true,\"zerolinewidth\":2},\"scene\":{\"xaxis\":{\"backgroundcolor\":\"#E5ECF6\",\"gridcolor\":\"white\",\"linecolor\":\"white\",\"showbackground\":true,\"ticks\":\"\",\"zerolinecolor\":\"white\",\"gridwidth\":2},\"yaxis\":{\"backgroundcolor\":\"#E5ECF6\",\"gridcolor\":\"white\",\"linecolor\":\"white\",\"showbackground\":true,\"ticks\":\"\",\"zerolinecolor\":\"white\",\"gridwidth\":2},\"zaxis\":{\"backgroundcolor\":\"#E5ECF6\",\"gridcolor\":\"white\",\"linecolor\":\"white\",\"showbackground\":true,\"ticks\":\"\",\"zerolinecolor\":\"white\",\"gridwidth\":2}},\"shapedefaults\":{\"line\":{\"color\":\"#2a3f5f\"}},\"annotationdefaults\":{\"arrowcolor\":\"#2a3f5f\",\"arrowhead\":0,\"arrowwidth\":1},\"geo\":{\"bgcolor\":\"white\",\"landcolor\":\"#E5ECF6\",\"subunitcolor\":\"white\",\"showland\":true,\"showlakes\":true,\"lakecolor\":\"white\"},\"title\":{\"x\":0.05},\"mapbox\":{\"style\":\"light\"}}},\"xaxis\":{\"anchor\":\"y\",\"domain\":[0.0,1.0],\"title\":{\"text\":\"Dur\\u00e9e Totale(min)\"}},\"yaxis\":{\"anchor\":\"x\",\"domain\":[0.0,1.0],\"title\":{\"text\":\"count\"}},\"legend\":{\"tracegroupgap\":0},\"title\":{\"text\":\"Distribution de la dur\\u00e9e en minutes\"},\"barmode\":\"relative\",\"bargap\":0.1},                        {\"responsive\": true}                    ).then(function(){\n",
              "                            \n",
              "var gd = document.getElementById('5de0886f-35c6-4d4a-90f6-7176234fc614');\n",
              "var x = new MutationObserver(function (mutations, observer) {{\n",
              "        var display = window.getComputedStyle(gd).display;\n",
              "        if (!display || display === 'none') {{\n",
              "            console.log([gd, 'removed!']);\n",
              "            Plotly.purge(gd);\n",
              "            observer.disconnect();\n",
              "        }}\n",
              "}});\n",
              "\n",
              "// Listen for the removal of the full notebook cells\n",
              "var notebookContainer = gd.closest('#notebook-container');\n",
              "if (notebookContainer) {{\n",
              "    x.observe(notebookContainer, {childList: true});\n",
              "}}\n",
              "\n",
              "// Listen for the clearing of the current output cell\n",
              "var outputEl = gd.closest('.output');\n",
              "if (outputEl) {{\n",
              "    x.observe(outputEl, {childList: true});\n",
              "}}\n",
              "\n",
              "                        })                };                            </script>        </div>\n",
              "</body>\n",
              "</html>"
            ]
          },
          "metadata": {},
          "output_type": "display_data"
        }
      ],
      "source": [
        "import plotly.express as px\n",
        "\n",
        "# Collecter les données\n",
        "data_duree = df_final.select(\"Durée Totale(min)\").toPandas()\n",
        "\n",
        "# Créer un histogramme avec Plotly\n",
        "fig = px.histogram(data_duree, x=\"Durée Totale(min)\", title=\"Distribution de la durée en minutes\")\n",
        "fig.update_layout(bargap=0.1)\n",
        "fig.show()\n"
      ]
    },
    {
      "cell_type": "code",
      "execution_count": null,
      "metadata": {
        "colab": {
          "base_uri": "https://localhost:8080/",
          "height": 542
        },
        "id": "IdGrGywLwhmD",
        "outputId": "9a35ad99-53ad-4f79-eeb6-cb13596f4cf9"
      },
      "outputs": [
        {
          "data": {
            "text/html": [
              "<html>\n",
              "<head><meta charset=\"utf-8\" /></head>\n",
              "<body>\n",
              "    <div>            <script src=\"https://cdnjs.cloudflare.com/ajax/libs/mathjax/2.7.5/MathJax.js?config=TeX-AMS-MML_SVG\"></script><script type=\"text/javascript\">if (window.MathJax && window.MathJax.Hub && window.MathJax.Hub.Config) {window.MathJax.Hub.Config({SVG: {font: \"STIX-Web\"}});}</script>                <script type=\"text/javascript\">window.PlotlyConfig = {MathJaxConfig: 'local'};</script>\n",
              "        <script charset=\"utf-8\" src=\"https://cdn.plot.ly/plotly-2.24.1.min.js\"></script>                <div id=\"ce3313ea-826e-4e8b-b68b-72ff1a308be5\" class=\"plotly-graph-div\" style=\"height:525px; width:100%;\"></div>            <script type=\"text/javascript\">                                    window.PLOTLYENV=window.PLOTLYENV || {};                                    if (document.getElementById(\"ce3313ea-826e-4e8b-b68b-72ff1a308be5\")) {                    Plotly.newPlot(                        \"ce3313ea-826e-4e8b-b68b-72ff1a308be5\",                        [{\"alignmentgroup\":\"True\",\"hovertemplate\":\"Cat\\u00e9gorie_G\\u00e9n\\u00e9rale=%{x}\\u003cbr\\u003eavg(Dur\\u00e9e Totale(min))=%{y}\\u003cextra\\u003e\\u003c\\u002fextra\\u003e\",\"legendgroup\":\"\",\"marker\":{\"color\":\"#636efa\",\"pattern\":{\"shape\":\"\"}},\"name\":\"\",\"offsetgroup\":\"\",\"orientation\":\"v\",\"showlegend\":false,\"textposition\":\"auto\",\"x\":[\"faibe\",\"Bien\",\"Moyen\"],\"xaxis\":\"x\",\"y\":[111.2,129.28571428571428,115.14814814814815],\"yaxis\":\"y\",\"type\":\"bar\"}],                        {\"template\":{\"data\":{\"histogram2dcontour\":[{\"type\":\"histogram2dcontour\",\"colorbar\":{\"outlinewidth\":0,\"ticks\":\"\"},\"colorscale\":[[0.0,\"#0d0887\"],[0.1111111111111111,\"#46039f\"],[0.2222222222222222,\"#7201a8\"],[0.3333333333333333,\"#9c179e\"],[0.4444444444444444,\"#bd3786\"],[0.5555555555555556,\"#d8576b\"],[0.6666666666666666,\"#ed7953\"],[0.7777777777777778,\"#fb9f3a\"],[0.8888888888888888,\"#fdca26\"],[1.0,\"#f0f921\"]]}],\"choropleth\":[{\"type\":\"choropleth\",\"colorbar\":{\"outlinewidth\":0,\"ticks\":\"\"}}],\"histogram2d\":[{\"type\":\"histogram2d\",\"colorbar\":{\"outlinewidth\":0,\"ticks\":\"\"},\"colorscale\":[[0.0,\"#0d0887\"],[0.1111111111111111,\"#46039f\"],[0.2222222222222222,\"#7201a8\"],[0.3333333333333333,\"#9c179e\"],[0.4444444444444444,\"#bd3786\"],[0.5555555555555556,\"#d8576b\"],[0.6666666666666666,\"#ed7953\"],[0.7777777777777778,\"#fb9f3a\"],[0.8888888888888888,\"#fdca26\"],[1.0,\"#f0f921\"]]}],\"heatmap\":[{\"type\":\"heatmap\",\"colorbar\":{\"outlinewidth\":0,\"ticks\":\"\"},\"colorscale\":[[0.0,\"#0d0887\"],[0.1111111111111111,\"#46039f\"],[0.2222222222222222,\"#7201a8\"],[0.3333333333333333,\"#9c179e\"],[0.4444444444444444,\"#bd3786\"],[0.5555555555555556,\"#d8576b\"],[0.6666666666666666,\"#ed7953\"],[0.7777777777777778,\"#fb9f3a\"],[0.8888888888888888,\"#fdca26\"],[1.0,\"#f0f921\"]]}],\"heatmapgl\":[{\"type\":\"heatmapgl\",\"colorbar\":{\"outlinewidth\":0,\"ticks\":\"\"},\"colorscale\":[[0.0,\"#0d0887\"],[0.1111111111111111,\"#46039f\"],[0.2222222222222222,\"#7201a8\"],[0.3333333333333333,\"#9c179e\"],[0.4444444444444444,\"#bd3786\"],[0.5555555555555556,\"#d8576b\"],[0.6666666666666666,\"#ed7953\"],[0.7777777777777778,\"#fb9f3a\"],[0.8888888888888888,\"#fdca26\"],[1.0,\"#f0f921\"]]}],\"contourcarpet\":[{\"type\":\"contourcarpet\",\"colorbar\":{\"outlinewidth\":0,\"ticks\":\"\"}}],\"contour\":[{\"type\":\"contour\",\"colorbar\":{\"outlinewidth\":0,\"ticks\":\"\"},\"colorscale\":[[0.0,\"#0d0887\"],[0.1111111111111111,\"#46039f\"],[0.2222222222222222,\"#7201a8\"],[0.3333333333333333,\"#9c179e\"],[0.4444444444444444,\"#bd3786\"],[0.5555555555555556,\"#d8576b\"],[0.6666666666666666,\"#ed7953\"],[0.7777777777777778,\"#fb9f3a\"],[0.8888888888888888,\"#fdca26\"],[1.0,\"#f0f921\"]]}],\"surface\":[{\"type\":\"surface\",\"colorbar\":{\"outlinewidth\":0,\"ticks\":\"\"},\"colorscale\":[[0.0,\"#0d0887\"],[0.1111111111111111,\"#46039f\"],[0.2222222222222222,\"#7201a8\"],[0.3333333333333333,\"#9c179e\"],[0.4444444444444444,\"#bd3786\"],[0.5555555555555556,\"#d8576b\"],[0.6666666666666666,\"#ed7953\"],[0.7777777777777778,\"#fb9f3a\"],[0.8888888888888888,\"#fdca26\"],[1.0,\"#f0f921\"]]}],\"mesh3d\":[{\"type\":\"mesh3d\",\"colorbar\":{\"outlinewidth\":0,\"ticks\":\"\"}}],\"scatter\":[{\"fillpattern\":{\"fillmode\":\"overlay\",\"size\":10,\"solidity\":0.2},\"type\":\"scatter\"}],\"parcoords\":[{\"type\":\"parcoords\",\"line\":{\"colorbar\":{\"outlinewidth\":0,\"ticks\":\"\"}}}],\"scatterpolargl\":[{\"type\":\"scatterpolargl\",\"marker\":{\"colorbar\":{\"outlinewidth\":0,\"ticks\":\"\"}}}],\"bar\":[{\"error_x\":{\"color\":\"#2a3f5f\"},\"error_y\":{\"color\":\"#2a3f5f\"},\"marker\":{\"line\":{\"color\":\"#E5ECF6\",\"width\":0.5},\"pattern\":{\"fillmode\":\"overlay\",\"size\":10,\"solidity\":0.2}},\"type\":\"bar\"}],\"scattergeo\":[{\"type\":\"scattergeo\",\"marker\":{\"colorbar\":{\"outlinewidth\":0,\"ticks\":\"\"}}}],\"scatterpolar\":[{\"type\":\"scatterpolar\",\"marker\":{\"colorbar\":{\"outlinewidth\":0,\"ticks\":\"\"}}}],\"histogram\":[{\"marker\":{\"pattern\":{\"fillmode\":\"overlay\",\"size\":10,\"solidity\":0.2}},\"type\":\"histogram\"}],\"scattergl\":[{\"type\":\"scattergl\",\"marker\":{\"colorbar\":{\"outlinewidth\":0,\"ticks\":\"\"}}}],\"scatter3d\":[{\"type\":\"scatter3d\",\"line\":{\"colorbar\":{\"outlinewidth\":0,\"ticks\":\"\"}},\"marker\":{\"colorbar\":{\"outlinewidth\":0,\"ticks\":\"\"}}}],\"scattermapbox\":[{\"type\":\"scattermapbox\",\"marker\":{\"colorbar\":{\"outlinewidth\":0,\"ticks\":\"\"}}}],\"scatterternary\":[{\"type\":\"scatterternary\",\"marker\":{\"colorbar\":{\"outlinewidth\":0,\"ticks\":\"\"}}}],\"scattercarpet\":[{\"type\":\"scattercarpet\",\"marker\":{\"colorbar\":{\"outlinewidth\":0,\"ticks\":\"\"}}}],\"carpet\":[{\"aaxis\":{\"endlinecolor\":\"#2a3f5f\",\"gridcolor\":\"white\",\"linecolor\":\"white\",\"minorgridcolor\":\"white\",\"startlinecolor\":\"#2a3f5f\"},\"baxis\":{\"endlinecolor\":\"#2a3f5f\",\"gridcolor\":\"white\",\"linecolor\":\"white\",\"minorgridcolor\":\"white\",\"startlinecolor\":\"#2a3f5f\"},\"type\":\"carpet\"}],\"table\":[{\"cells\":{\"fill\":{\"color\":\"#EBF0F8\"},\"line\":{\"color\":\"white\"}},\"header\":{\"fill\":{\"color\":\"#C8D4E3\"},\"line\":{\"color\":\"white\"}},\"type\":\"table\"}],\"barpolar\":[{\"marker\":{\"line\":{\"color\":\"#E5ECF6\",\"width\":0.5},\"pattern\":{\"fillmode\":\"overlay\",\"size\":10,\"solidity\":0.2}},\"type\":\"barpolar\"}],\"pie\":[{\"automargin\":true,\"type\":\"pie\"}]},\"layout\":{\"autotypenumbers\":\"strict\",\"colorway\":[\"#636efa\",\"#EF553B\",\"#00cc96\",\"#ab63fa\",\"#FFA15A\",\"#19d3f3\",\"#FF6692\",\"#B6E880\",\"#FF97FF\",\"#FECB52\"],\"font\":{\"color\":\"#2a3f5f\"},\"hovermode\":\"closest\",\"hoverlabel\":{\"align\":\"left\"},\"paper_bgcolor\":\"white\",\"plot_bgcolor\":\"#E5ECF6\",\"polar\":{\"bgcolor\":\"#E5ECF6\",\"angularaxis\":{\"gridcolor\":\"white\",\"linecolor\":\"white\",\"ticks\":\"\"},\"radialaxis\":{\"gridcolor\":\"white\",\"linecolor\":\"white\",\"ticks\":\"\"}},\"ternary\":{\"bgcolor\":\"#E5ECF6\",\"aaxis\":{\"gridcolor\":\"white\",\"linecolor\":\"white\",\"ticks\":\"\"},\"baxis\":{\"gridcolor\":\"white\",\"linecolor\":\"white\",\"ticks\":\"\"},\"caxis\":{\"gridcolor\":\"white\",\"linecolor\":\"white\",\"ticks\":\"\"}},\"coloraxis\":{\"colorbar\":{\"outlinewidth\":0,\"ticks\":\"\"}},\"colorscale\":{\"sequential\":[[0.0,\"#0d0887\"],[0.1111111111111111,\"#46039f\"],[0.2222222222222222,\"#7201a8\"],[0.3333333333333333,\"#9c179e\"],[0.4444444444444444,\"#bd3786\"],[0.5555555555555556,\"#d8576b\"],[0.6666666666666666,\"#ed7953\"],[0.7777777777777778,\"#fb9f3a\"],[0.8888888888888888,\"#fdca26\"],[1.0,\"#f0f921\"]],\"sequentialminus\":[[0.0,\"#0d0887\"],[0.1111111111111111,\"#46039f\"],[0.2222222222222222,\"#7201a8\"],[0.3333333333333333,\"#9c179e\"],[0.4444444444444444,\"#bd3786\"],[0.5555555555555556,\"#d8576b\"],[0.6666666666666666,\"#ed7953\"],[0.7777777777777778,\"#fb9f3a\"],[0.8888888888888888,\"#fdca26\"],[1.0,\"#f0f921\"]],\"diverging\":[[0,\"#8e0152\"],[0.1,\"#c51b7d\"],[0.2,\"#de77ae\"],[0.3,\"#f1b6da\"],[0.4,\"#fde0ef\"],[0.5,\"#f7f7f7\"],[0.6,\"#e6f5d0\"],[0.7,\"#b8e186\"],[0.8,\"#7fbc41\"],[0.9,\"#4d9221\"],[1,\"#276419\"]]},\"xaxis\":{\"gridcolor\":\"white\",\"linecolor\":\"white\",\"ticks\":\"\",\"title\":{\"standoff\":15},\"zerolinecolor\":\"white\",\"automargin\":true,\"zerolinewidth\":2},\"yaxis\":{\"gridcolor\":\"white\",\"linecolor\":\"white\",\"ticks\":\"\",\"title\":{\"standoff\":15},\"zerolinecolor\":\"white\",\"automargin\":true,\"zerolinewidth\":2},\"scene\":{\"xaxis\":{\"backgroundcolor\":\"#E5ECF6\",\"gridcolor\":\"white\",\"linecolor\":\"white\",\"showbackground\":true,\"ticks\":\"\",\"zerolinecolor\":\"white\",\"gridwidth\":2},\"yaxis\":{\"backgroundcolor\":\"#E5ECF6\",\"gridcolor\":\"white\",\"linecolor\":\"white\",\"showbackground\":true,\"ticks\":\"\",\"zerolinecolor\":\"white\",\"gridwidth\":2},\"zaxis\":{\"backgroundcolor\":\"#E5ECF6\",\"gridcolor\":\"white\",\"linecolor\":\"white\",\"showbackground\":true,\"ticks\":\"\",\"zerolinecolor\":\"white\",\"gridwidth\":2}},\"shapedefaults\":{\"line\":{\"color\":\"#2a3f5f\"}},\"annotationdefaults\":{\"arrowcolor\":\"#2a3f5f\",\"arrowhead\":0,\"arrowwidth\":1},\"geo\":{\"bgcolor\":\"white\",\"landcolor\":\"#E5ECF6\",\"subunitcolor\":\"white\",\"showland\":true,\"showlakes\":true,\"lakecolor\":\"white\"},\"title\":{\"x\":0.05},\"mapbox\":{\"style\":\"light\"}}},\"xaxis\":{\"anchor\":\"y\",\"domain\":[0.0,1.0],\"title\":{\"text\":\"Cat\\u00e9gorie\"}},\"yaxis\":{\"anchor\":\"x\",\"domain\":[0.0,1.0],\"title\":{\"text\":\"Dur\\u00e9e moyenne (minutes)\"}},\"legend\":{\"tracegroupgap\":0},\"title\":{\"text\":\"Dur\\u00e9e moyenne par cat\\u00e9gorie g\\u00e9n\\u00e9rale\"},\"barmode\":\"relative\"},                        {\"responsive\": true}                    ).then(function(){\n",
              "                            \n",
              "var gd = document.getElementById('ce3313ea-826e-4e8b-b68b-72ff1a308be5');\n",
              "var x = new MutationObserver(function (mutations, observer) {{\n",
              "        var display = window.getComputedStyle(gd).display;\n",
              "        if (!display || display === 'none') {{\n",
              "            console.log([gd, 'removed!']);\n",
              "            Plotly.purge(gd);\n",
              "            observer.disconnect();\n",
              "        }}\n",
              "}});\n",
              "\n",
              "// Listen for the removal of the full notebook cells\n",
              "var notebookContainer = gd.closest('#notebook-container');\n",
              "if (notebookContainer) {{\n",
              "    x.observe(notebookContainer, {childList: true});\n",
              "}}\n",
              "\n",
              "// Listen for the clearing of the current output cell\n",
              "var outputEl = gd.closest('.output');\n",
              "if (outputEl) {{\n",
              "    x.observe(outputEl, {childList: true});\n",
              "}}\n",
              "\n",
              "                        })                };                            </script>        </div>\n",
              "</body>\n",
              "</html>"
            ]
          },
          "metadata": {},
          "output_type": "display_data"
        }
      ],
      "source": [
        "import plotly.express as px\n",
        "\n",
        "data_duree_categorie = df_final.groupBy(\"Catégorie_Générale\").avg(\"Durée Totale(min)\").toPandas()\n",
        "fig = px.bar(data_duree_categorie, x=\"Catégorie_Générale\", y=\"avg(Durée Totale(min))\",\n",
        "             title=\"Durée moyenne par catégorie générale\")\n",
        "fig.update_xaxes(title=\"Catégorie\")\n",
        "fig.update_yaxes(title=\"Durée moyenne (minutes)\")\n",
        "fig.show()\n",
        "\n"
      ]
    },
    {
      "cell_type": "code",
      "execution_count": null,
      "metadata": {
        "colab": {
          "base_uri": "https://localhost:8080/",
          "height": 542
        },
        "id": "Hnmp4gqIxCrS",
        "outputId": "3625a35a-fd56-44ca-b07b-873c8e6a0786"
      },
      "outputs": [
        {
          "data": {
            "text/html": [
              "<html>\n",
              "<head><meta charset=\"utf-8\" /></head>\n",
              "<body>\n",
              "    <div>            <script src=\"https://cdnjs.cloudflare.com/ajax/libs/mathjax/2.7.5/MathJax.js?config=TeX-AMS-MML_SVG\"></script><script type=\"text/javascript\">if (window.MathJax && window.MathJax.Hub && window.MathJax.Hub.Config) {window.MathJax.Hub.Config({SVG: {font: \"STIX-Web\"}});}</script>                <script type=\"text/javascript\">window.PlotlyConfig = {MathJaxConfig: 'local'};</script>\n",
              "        <script charset=\"utf-8\" src=\"https://cdn.plot.ly/plotly-2.24.1.min.js\"></script>                <div id=\"db1e3a36-34bd-4413-927a-84a0723f2973\" class=\"plotly-graph-div\" style=\"height:525px; width:100%;\"></div>            <script type=\"text/javascript\">                                    window.PLOTLYENV=window.PLOTLYENV || {};                                    if (document.getElementById(\"db1e3a36-34bd-4413-927a-84a0723f2973\")) {                    Plotly.newPlot(                        \"db1e3a36-34bd-4413-927a-84a0723f2973\",                        [{\"alignmentgroup\":\"True\",\"hovertemplate\":\"Type_1=%{x}\\u003cbr\\u003eavg(Dur\\u00e9e Totale(min))=%{y}\\u003cextra\\u003e\\u003c\\u002fextra\\u003e\",\"legendgroup\":\"\",\"marker\":{\"color\":\"#636efa\",\"pattern\":{\"shape\":\"\"}},\"name\":\"\",\"offsetgroup\":\"\",\"orientation\":\"v\",\"showlegend\":false,\"textposition\":\"auto\",\"x\":[\"Romance\",\"Thriller\",\"Historique\",\"Com\\u00e9die\",\"Aventure\",\"Fantastique\",\"Com\\u00e9die dramatique\",\"Policier\",\"Animation\",\"Biopic\",\"Science Fiction\",\"Guerre\",\"Drame\",\"Action\"],\"xaxis\":\"x\",\"y\":[121.25,124.5,134.0,96.44444444444444,123.0,126.0,110.3,139.0,100.26666666666667,133.25,145.5,139.0,115.45454545454545,152.2],\"yaxis\":\"y\",\"type\":\"bar\"}],                        {\"template\":{\"data\":{\"histogram2dcontour\":[{\"type\":\"histogram2dcontour\",\"colorbar\":{\"outlinewidth\":0,\"ticks\":\"\"},\"colorscale\":[[0.0,\"#0d0887\"],[0.1111111111111111,\"#46039f\"],[0.2222222222222222,\"#7201a8\"],[0.3333333333333333,\"#9c179e\"],[0.4444444444444444,\"#bd3786\"],[0.5555555555555556,\"#d8576b\"],[0.6666666666666666,\"#ed7953\"],[0.7777777777777778,\"#fb9f3a\"],[0.8888888888888888,\"#fdca26\"],[1.0,\"#f0f921\"]]}],\"choropleth\":[{\"type\":\"choropleth\",\"colorbar\":{\"outlinewidth\":0,\"ticks\":\"\"}}],\"histogram2d\":[{\"type\":\"histogram2d\",\"colorbar\":{\"outlinewidth\":0,\"ticks\":\"\"},\"colorscale\":[[0.0,\"#0d0887\"],[0.1111111111111111,\"#46039f\"],[0.2222222222222222,\"#7201a8\"],[0.3333333333333333,\"#9c179e\"],[0.4444444444444444,\"#bd3786\"],[0.5555555555555556,\"#d8576b\"],[0.6666666666666666,\"#ed7953\"],[0.7777777777777778,\"#fb9f3a\"],[0.8888888888888888,\"#fdca26\"],[1.0,\"#f0f921\"]]}],\"heatmap\":[{\"type\":\"heatmap\",\"colorbar\":{\"outlinewidth\":0,\"ticks\":\"\"},\"colorscale\":[[0.0,\"#0d0887\"],[0.1111111111111111,\"#46039f\"],[0.2222222222222222,\"#7201a8\"],[0.3333333333333333,\"#9c179e\"],[0.4444444444444444,\"#bd3786\"],[0.5555555555555556,\"#d8576b\"],[0.6666666666666666,\"#ed7953\"],[0.7777777777777778,\"#fb9f3a\"],[0.8888888888888888,\"#fdca26\"],[1.0,\"#f0f921\"]]}],\"heatmapgl\":[{\"type\":\"heatmapgl\",\"colorbar\":{\"outlinewidth\":0,\"ticks\":\"\"},\"colorscale\":[[0.0,\"#0d0887\"],[0.1111111111111111,\"#46039f\"],[0.2222222222222222,\"#7201a8\"],[0.3333333333333333,\"#9c179e\"],[0.4444444444444444,\"#bd3786\"],[0.5555555555555556,\"#d8576b\"],[0.6666666666666666,\"#ed7953\"],[0.7777777777777778,\"#fb9f3a\"],[0.8888888888888888,\"#fdca26\"],[1.0,\"#f0f921\"]]}],\"contourcarpet\":[{\"type\":\"contourcarpet\",\"colorbar\":{\"outlinewidth\":0,\"ticks\":\"\"}}],\"contour\":[{\"type\":\"contour\",\"colorbar\":{\"outlinewidth\":0,\"ticks\":\"\"},\"colorscale\":[[0.0,\"#0d0887\"],[0.1111111111111111,\"#46039f\"],[0.2222222222222222,\"#7201a8\"],[0.3333333333333333,\"#9c179e\"],[0.4444444444444444,\"#bd3786\"],[0.5555555555555556,\"#d8576b\"],[0.6666666666666666,\"#ed7953\"],[0.7777777777777778,\"#fb9f3a\"],[0.8888888888888888,\"#fdca26\"],[1.0,\"#f0f921\"]]}],\"surface\":[{\"type\":\"surface\",\"colorbar\":{\"outlinewidth\":0,\"ticks\":\"\"},\"colorscale\":[[0.0,\"#0d0887\"],[0.1111111111111111,\"#46039f\"],[0.2222222222222222,\"#7201a8\"],[0.3333333333333333,\"#9c179e\"],[0.4444444444444444,\"#bd3786\"],[0.5555555555555556,\"#d8576b\"],[0.6666666666666666,\"#ed7953\"],[0.7777777777777778,\"#fb9f3a\"],[0.8888888888888888,\"#fdca26\"],[1.0,\"#f0f921\"]]}],\"mesh3d\":[{\"type\":\"mesh3d\",\"colorbar\":{\"outlinewidth\":0,\"ticks\":\"\"}}],\"scatter\":[{\"fillpattern\":{\"fillmode\":\"overlay\",\"size\":10,\"solidity\":0.2},\"type\":\"scatter\"}],\"parcoords\":[{\"type\":\"parcoords\",\"line\":{\"colorbar\":{\"outlinewidth\":0,\"ticks\":\"\"}}}],\"scatterpolargl\":[{\"type\":\"scatterpolargl\",\"marker\":{\"colorbar\":{\"outlinewidth\":0,\"ticks\":\"\"}}}],\"bar\":[{\"error_x\":{\"color\":\"#2a3f5f\"},\"error_y\":{\"color\":\"#2a3f5f\"},\"marker\":{\"line\":{\"color\":\"#E5ECF6\",\"width\":0.5},\"pattern\":{\"fillmode\":\"overlay\",\"size\":10,\"solidity\":0.2}},\"type\":\"bar\"}],\"scattergeo\":[{\"type\":\"scattergeo\",\"marker\":{\"colorbar\":{\"outlinewidth\":0,\"ticks\":\"\"}}}],\"scatterpolar\":[{\"type\":\"scatterpolar\",\"marker\":{\"colorbar\":{\"outlinewidth\":0,\"ticks\":\"\"}}}],\"histogram\":[{\"marker\":{\"pattern\":{\"fillmode\":\"overlay\",\"size\":10,\"solidity\":0.2}},\"type\":\"histogram\"}],\"scattergl\":[{\"type\":\"scattergl\",\"marker\":{\"colorbar\":{\"outlinewidth\":0,\"ticks\":\"\"}}}],\"scatter3d\":[{\"type\":\"scatter3d\",\"line\":{\"colorbar\":{\"outlinewidth\":0,\"ticks\":\"\"}},\"marker\":{\"colorbar\":{\"outlinewidth\":0,\"ticks\":\"\"}}}],\"scattermapbox\":[{\"type\":\"scattermapbox\",\"marker\":{\"colorbar\":{\"outlinewidth\":0,\"ticks\":\"\"}}}],\"scatterternary\":[{\"type\":\"scatterternary\",\"marker\":{\"colorbar\":{\"outlinewidth\":0,\"ticks\":\"\"}}}],\"scattercarpet\":[{\"type\":\"scattercarpet\",\"marker\":{\"colorbar\":{\"outlinewidth\":0,\"ticks\":\"\"}}}],\"carpet\":[{\"aaxis\":{\"endlinecolor\":\"#2a3f5f\",\"gridcolor\":\"white\",\"linecolor\":\"white\",\"minorgridcolor\":\"white\",\"startlinecolor\":\"#2a3f5f\"},\"baxis\":{\"endlinecolor\":\"#2a3f5f\",\"gridcolor\":\"white\",\"linecolor\":\"white\",\"minorgridcolor\":\"white\",\"startlinecolor\":\"#2a3f5f\"},\"type\":\"carpet\"}],\"table\":[{\"cells\":{\"fill\":{\"color\":\"#EBF0F8\"},\"line\":{\"color\":\"white\"}},\"header\":{\"fill\":{\"color\":\"#C8D4E3\"},\"line\":{\"color\":\"white\"}},\"type\":\"table\"}],\"barpolar\":[{\"marker\":{\"line\":{\"color\":\"#E5ECF6\",\"width\":0.5},\"pattern\":{\"fillmode\":\"overlay\",\"size\":10,\"solidity\":0.2}},\"type\":\"barpolar\"}],\"pie\":[{\"automargin\":true,\"type\":\"pie\"}]},\"layout\":{\"autotypenumbers\":\"strict\",\"colorway\":[\"#636efa\",\"#EF553B\",\"#00cc96\",\"#ab63fa\",\"#FFA15A\",\"#19d3f3\",\"#FF6692\",\"#B6E880\",\"#FF97FF\",\"#FECB52\"],\"font\":{\"color\":\"#2a3f5f\"},\"hovermode\":\"closest\",\"hoverlabel\":{\"align\":\"left\"},\"paper_bgcolor\":\"white\",\"plot_bgcolor\":\"#E5ECF6\",\"polar\":{\"bgcolor\":\"#E5ECF6\",\"angularaxis\":{\"gridcolor\":\"white\",\"linecolor\":\"white\",\"ticks\":\"\"},\"radialaxis\":{\"gridcolor\":\"white\",\"linecolor\":\"white\",\"ticks\":\"\"}},\"ternary\":{\"bgcolor\":\"#E5ECF6\",\"aaxis\":{\"gridcolor\":\"white\",\"linecolor\":\"white\",\"ticks\":\"\"},\"baxis\":{\"gridcolor\":\"white\",\"linecolor\":\"white\",\"ticks\":\"\"},\"caxis\":{\"gridcolor\":\"white\",\"linecolor\":\"white\",\"ticks\":\"\"}},\"coloraxis\":{\"colorbar\":{\"outlinewidth\":0,\"ticks\":\"\"}},\"colorscale\":{\"sequential\":[[0.0,\"#0d0887\"],[0.1111111111111111,\"#46039f\"],[0.2222222222222222,\"#7201a8\"],[0.3333333333333333,\"#9c179e\"],[0.4444444444444444,\"#bd3786\"],[0.5555555555555556,\"#d8576b\"],[0.6666666666666666,\"#ed7953\"],[0.7777777777777778,\"#fb9f3a\"],[0.8888888888888888,\"#fdca26\"],[1.0,\"#f0f921\"]],\"sequentialminus\":[[0.0,\"#0d0887\"],[0.1111111111111111,\"#46039f\"],[0.2222222222222222,\"#7201a8\"],[0.3333333333333333,\"#9c179e\"],[0.4444444444444444,\"#bd3786\"],[0.5555555555555556,\"#d8576b\"],[0.6666666666666666,\"#ed7953\"],[0.7777777777777778,\"#fb9f3a\"],[0.8888888888888888,\"#fdca26\"],[1.0,\"#f0f921\"]],\"diverging\":[[0,\"#8e0152\"],[0.1,\"#c51b7d\"],[0.2,\"#de77ae\"],[0.3,\"#f1b6da\"],[0.4,\"#fde0ef\"],[0.5,\"#f7f7f7\"],[0.6,\"#e6f5d0\"],[0.7,\"#b8e186\"],[0.8,\"#7fbc41\"],[0.9,\"#4d9221\"],[1,\"#276419\"]]},\"xaxis\":{\"gridcolor\":\"white\",\"linecolor\":\"white\",\"ticks\":\"\",\"title\":{\"standoff\":15},\"zerolinecolor\":\"white\",\"automargin\":true,\"zerolinewidth\":2},\"yaxis\":{\"gridcolor\":\"white\",\"linecolor\":\"white\",\"ticks\":\"\",\"title\":{\"standoff\":15},\"zerolinecolor\":\"white\",\"automargin\":true,\"zerolinewidth\":2},\"scene\":{\"xaxis\":{\"backgroundcolor\":\"#E5ECF6\",\"gridcolor\":\"white\",\"linecolor\":\"white\",\"showbackground\":true,\"ticks\":\"\",\"zerolinecolor\":\"white\",\"gridwidth\":2},\"yaxis\":{\"backgroundcolor\":\"#E5ECF6\",\"gridcolor\":\"white\",\"linecolor\":\"white\",\"showbackground\":true,\"ticks\":\"\",\"zerolinecolor\":\"white\",\"gridwidth\":2},\"zaxis\":{\"backgroundcolor\":\"#E5ECF6\",\"gridcolor\":\"white\",\"linecolor\":\"white\",\"showbackground\":true,\"ticks\":\"\",\"zerolinecolor\":\"white\",\"gridwidth\":2}},\"shapedefaults\":{\"line\":{\"color\":\"#2a3f5f\"}},\"annotationdefaults\":{\"arrowcolor\":\"#2a3f5f\",\"arrowhead\":0,\"arrowwidth\":1},\"geo\":{\"bgcolor\":\"white\",\"landcolor\":\"#E5ECF6\",\"subunitcolor\":\"white\",\"showland\":true,\"showlakes\":true,\"lakecolor\":\"white\"},\"title\":{\"x\":0.05},\"mapbox\":{\"style\":\"light\"}}},\"xaxis\":{\"anchor\":\"y\",\"domain\":[0.0,1.0],\"title\":{\"text\":\"Type 1\"}},\"yaxis\":{\"anchor\":\"x\",\"domain\":[0.0,1.0],\"title\":{\"text\":\"Dur\\u00e9e moyenne (minutes)\"}},\"legend\":{\"tracegroupgap\":0},\"title\":{\"text\":\"Dur\\u00e9e moyenne par Type 1\"},\"barmode\":\"relative\"},                        {\"responsive\": true}                    ).then(function(){\n",
              "                            \n",
              "var gd = document.getElementById('db1e3a36-34bd-4413-927a-84a0723f2973');\n",
              "var x = new MutationObserver(function (mutations, observer) {{\n",
              "        var display = window.getComputedStyle(gd).display;\n",
              "        if (!display || display === 'none') {{\n",
              "            console.log([gd, 'removed!']);\n",
              "            Plotly.purge(gd);\n",
              "            observer.disconnect();\n",
              "        }}\n",
              "}});\n",
              "\n",
              "// Listen for the removal of the full notebook cells\n",
              "var notebookContainer = gd.closest('#notebook-container');\n",
              "if (notebookContainer) {{\n",
              "    x.observe(notebookContainer, {childList: true});\n",
              "}}\n",
              "\n",
              "// Listen for the clearing of the current output cell\n",
              "var outputEl = gd.closest('.output');\n",
              "if (outputEl) {{\n",
              "    x.observe(outputEl, {childList: true});\n",
              "}}\n",
              "\n",
              "                        })                };                            </script>        </div>\n",
              "</body>\n",
              "</html>"
            ]
          },
          "metadata": {},
          "output_type": "display_data"
        }
      ],
      "source": [
        "import plotly.express as px\n",
        "\n",
        "data_duree_type1 = df_final.groupBy(\"Type_1\").avg(\"Durée Totale(min)\").toPandas()\n",
        "fig = px.bar(data_duree_type1, x=\"Type_1\", y=\"avg(Durée Totale(min))\",\n",
        "             title=\"Durée moyenne par Type 1\")\n",
        "fig.update_xaxes(title=\"Type 1\")\n",
        "fig.update_yaxes(title=\"Durée moyenne (minutes)\")\n",
        "fig.show()\n"
      ]
    },
    {
      "cell_type": "markdown",
      "metadata": {
        "id": "JNUlab1fbZqA"
      },
      "source": [
        "---\n",
        "\n",
        "# Filtrage et Modèle NLP\n",
        "\n",
        "---"
      ]
    },
    {
      "cell_type": "markdown",
      "metadata": {
        "id": "ECtTDBapcHn9"
      },
      "source": [
        "######<font color='red'>Ici nous avons implémenté une fonction qui permet de filtrer la data en choisissant la colonne sur la quelle on veut filtrer et le choix désiré"
      ]
    },
    {
      "cell_type": "code",
      "execution_count": null,
      "metadata": {
        "id": "jIIpERWWbeim"
      },
      "outputs": [],
      "source": [
        "def filter_and_display(colonne, filtrer, df_select):\n",
        "    # Filtrer le DataFrame en fonction du réalisateur\n",
        "    filtered_df = df_select.filter(col(colonne) == filtrer)\n",
        "\n",
        "    if filtered_df.count() == 0:\n",
        "        print(f\"Aucun film trouvé pour le {colonne} {filtrer}.\")\n",
        "    else:\n",
        "        print(f\"Films du {colonne} {filtrer}:\")\n",
        "        filtered_df.show(truncate=False)"
      ]
    },
    {
      "cell_type": "code",
      "execution_count": null,
      "metadata": {
        "colab": {
          "base_uri": "https://localhost:8080/"
        },
        "id": "ru6-wgRtbmvi",
        "outputId": "1b42ce25-0a54-42c2-e5bd-1348b81f8c40"
      },
      "outputs": [
        {
          "name": "stdout",
          "output_type": "stream",
          "text": [
            "Films du Types Drame:\n",
            "+-------------------------+---------------------------------------------+-----------------------------------------------------------------+--------+-------------------------------------------------------------+\n",
            "|Titre                    |Réalisateur                                  |Acteurs                                                          |Durée   |Lien de bande-annonce                                        |\n",
            "+-------------------------+---------------------------------------------+-----------------------------------------------------------------+--------+-------------------------------------------------------------+\n",
            "|Le Retour des hirondelles|Li Ruijun                                    |Wu Renlin,  Hai-Qing                                             |2h 13min|https://www.allocine.fr/film/fichefilm_gen_cfilm=300250.html |\n",
            "|Treize vies              |Ron Howard                                   |Colin Farrell, Viggo Mortensen, Joel Edgerton                    |2h 27min|https://www.allocine.fr/film/fichefilm_gen_cfilm=282400.html |\n",
            "|The Quiet Girl           |Colm Bairéad                                 |Carrie Crowley, Andrew Bennett, Catherine Clinch                 |1h 36min|https://www.allocine.fr/film/fichefilm_gen_cfilm=299438.html |\n",
            "|Close                    |Lukas Dhont                                  |Eden Dambrine, Gustav De Waele, Emilie Dequenne                  |1h 44min|https://www.allocine.fr/film/fichefilm_gen_cfilm=294372.html |\n",
            "|Leila et ses frères      |Saeed Roustaee                               |Taraneh Alidoosti, Navid Mohammadzadeh, Payman Maadi             |2h 39min|https://www.allocine.fr/film/fichefilm_gen_cfilm=303686.html |\n",
            "|The Whale                |Darren Aronofsky                             |Brendan Fraser, Sadie Sink, Ty Simpkins                          |1h 57min|https://www.allocine.fr/film/fichefilm_gen_cfilm=289056.html |\n",
            "|Les Nageuses             |Sally El Hosaini                             |Nathalie Issa, Manal Issa, Matthias Schweighöfer                 |2h 14min|https://www.allocine.fr/film/fichefilm_gen_cfilm=292214.html |\n",
            "|Les Huit Montagnes       |Charlotte Vandermeersch, Felix Van Groeningen|Luca Marinelli, Alessandro Borghi, Filippo Timi                  |2h 27min|https://www.allocine.fr/film/fichefilm_gen_cfilm=290592.html |\n",
            "|Revoir Paris             |Alice Winocour                               |Virginie Efira, Benoît Magimel, Grégoire Colin                   |1h 45min|https://www.allocine.fr/film/fichefilm_gen_cfilm=290439.html |\n",
            "|Le Sixième enfant        |Léopold Legrand                              |Sara Giraudeau, Benjamin Lavernhe, Judith Chemla                 |1h 32min|https://www.allocine.fr/film/fichefilm_gen_cfilm=289527.html |\n",
            "|Le Serment de Pamfir     |Dmytro Sukholytkyy-Sobchuk                   |Oleksandr Yatsentyuk, Stanislav Potiak, Solomiya Kyrylova        |1h 42min|https://www.allocine.fr/film/fichefilm_gen_cfilm=285787.html |\n",
            "|The Son                  |Florian Zeller                               |Hugh Jackman, Laura Dern, Vanessa Kirby                          |2h 03min|https://www.allocine.fr/film/fichefilm_gen_cfilm=291247.html |\n",
            "|Le Tourbillon de la vie  |Olivier Treiner                              |Lou de Laâge, Raphaël Personnaz, Isabelle Carré                  |2h 01min|https://www.allocine.fr/film/fichefilm_gen_cfilm=288544.html |\n",
            "|Les Bonnes étoiles       |Hirokazu Kore-eda                            |Song Kang-Ho, Dong-won Gang, Doona Bae                           |2h 09min|https://www.allocine.fr/film/fichefilm_gen_cfilm=286075.html |\n",
            "|Argentina, 1985          |Santiago Mitre                               |Ricardo Darín, Alejandra Flechner, Paula Ransenberg              |2h 20min|https://www.allocine.fr/film/fichefilm_gen_cfilm=295782.html |\n",
            "|Notre-Dame brûle         |Jean-Jacques Annaud                          |Samuel Labarthe, Jean-Paul Bordes, Mikaël Chirinian              |1h 50min|https://www.allocine.fr/film/fichefilm_gen_cfilm=284864.html |\n",
            "|R.M.N.                   |Cristian Mungiu                              |Marin Grigore, Judith State, Macrina Bârlădeanu                  |2h 05min|https://www.allocine.fr/film/fichefilm_gen_cfilm=299722.html |\n",
            "|War Pony                 |Gina Gammell, Riley Keough                   |Stanley Good Voice Elk, Jojo Bapteise Whiting, Steven Yellow Hawk|1h 54min|https://www.allocine.fr/film/fichefilm_gen_cfilm=303685.html |\n",
            "|Blue Jean                |Georgia Oakley                               |Rosy McEwen, Kerrie Hayes, Lucy Halliday                         |1h 37min|https://www.allocine.fr/film/fichefilm_gen_cfilm=306743.html |\n",
            "|Petites                  |Julie Lerat-Gersant, François Roy (III)      |Pili Groyne, Romane Bohringer, Victoire Du Bois                  |1h 30min|https://www.allocine.fr/film/fichefilm_gen_cfilm=295064.html |\n",
            "+-------------------------+---------------------------------------------+-----------------------------------------------------------------+--------+-------------------------------------------------------------+\n",
            "only showing top 20 rows\n",
            "\n"
          ]
        }
      ],
      "source": [
        "# Exemple d'utilisation\n",
        "colonne = \"Types\"\n",
        "filtrer = \"Drame\"\n",
        "filter_and_display(colonne, filtrer, df_final.select(\"Titre\", \"Réalisateur\", \"Acteurs\", \"Durée\", \"Lien de bande-annonce\"))"
      ]
    },
    {
      "cell_type": "markdown",
      "metadata": {
        "id": "qrTGmEXWk4dx"
      },
      "source": [
        "# 1 Importation dataframe"
      ]
    },
    {
      "cell_type": "code",
      "execution_count": null,
      "metadata": {
        "colab": {
          "base_uri": "https://localhost:8080/"
        },
        "id": "7rE3zgJjqhRf",
        "outputId": "733f212a-edce-49f9-f0af-6d1bf57d7d32"
      },
      "outputs": [
        {
          "name": "stdout",
          "output_type": "stream",
          "text": [
            "root\n",
            " |-- Titre: string (nullable = true)\n",
            " |-- Réalisateur: string (nullable = true)\n",
            " |-- Acteurs: string (nullable = true)\n",
            " |-- Note Presse: float (nullable = true)\n",
            " |-- Note Spectateurs: double (nullable = true)\n",
            " |-- Types: string (nullable = true)\n",
            " |-- Durée: string (nullable = true)\n",
            " |-- Résumé: string (nullable = true)\n",
            " |-- Lien de bande-annonce: string (nullable = false)\n",
            " |-- Heures: integer (nullable = true)\n",
            " |-- Minutes: integer (nullable = true)\n",
            " |-- Type_1: string (nullable = true)\n",
            " |-- Type_2: string (nullable = true)\n",
            " |-- Type_3: string (nullable = true)\n",
            " |-- Note Moyenne: double (nullable = true)\n",
            " |-- Catégorie_Générale: string (nullable = false)\n",
            " |-- Durée Totale(min): integer (nullable = true)\n",
            "\n"
          ]
        }
      ],
      "source": [
        "df_final.printSchema()\n"
      ]
    },
    {
      "cell_type": "code",
      "execution_count": null,
      "metadata": {
        "colab": {
          "base_uri": "https://localhost:8080/"
        },
        "id": "rFCn5-TTrXMX",
        "outputId": "743835e9-0499-4673-cacf-1218dc11c374"
      },
      "outputs": [
        {
          "data": {
            "text/plain": [
              "DataFrame[Titre: string, Réalisateur: string, Acteurs: string, Note Presse: float, Note Spectateurs: double, Types: string, Durée: string, Résumé: string, Lien de bande-annonce: string, Heures: int, Minutes: int, Type_1: string, Type_2: string, Type_3: string, Note Moyenne: double, Catégorie_Générale: string, Durée Totale(min): int]"
            ]
          },
          "execution_count": 64,
          "metadata": {},
          "output_type": "execute_result"
        }
      ],
      "source": [
        "df_final"
      ]
    },
    {
      "cell_type": "code",
      "execution_count": null,
      "metadata": {
        "id": "_euH-T8YpS02"
      },
      "outputs": [],
      "source": [
        "from pyspark.sql import SparkSession, functions as F\n",
        "\n",
        "# Créer une session Spark\n",
        "# spark = SparkSession.builder.appName(\"example\").getOrCreate()\n",
        "\n",
        "# Convertir la colonne 'TypesList' en une chaîne de caractères\n",
        "#df_final_csv = df_final.withColumn(\"TypesListAsString\", F.concat_ws(',', df_final[\"TypesList\"]))\n",
        "\n",
        "# Sélectionner toutes les colonnes nécessaires\n",
        "selected_columns = [\"Titre\", \"Réalisateur\", \"Acteurs\", \"Note Presse\", \"Note Spectateurs\", \"Types\", \"Durée\", \"Résumé\",\n",
        "                    \"Lien de bande-annonce\", \"Heures\", \"Minutes\", \"Type_1\", \"Type_2\", \"Type_3\",\n",
        "                    \"Note Moyenne\", \"Catégorie_Générale\", \"Durée Totale(min)\"]\n",
        "\n",
        "# Réduire le nombre de partitions à 1\n",
        "df_final_csv = df_final.coalesce(1)\n",
        "\n",
        "# Convertir le DataFrame Spark en DataFrame pandas\n",
        "df = df_final_csv.toPandas()\n",
        "\n",
        "# Enregistrer le DataFrame pandas en tant que fichier CSV\n",
        "# df_final_pandas[selected_columns].to_csv(\"/content/df_final_export.csv\", index=False)\n",
        "\n",
        "\n",
        "# df_final_pandas[selected_columns].to_csv(\"/content/drive/MyDrive/Mosef/Python_avance_Mosef/df_final1.csv\", index=False)\n"
      ]
    },
    {
      "cell_type": "code",
      "execution_count": null,
      "metadata": {
        "colab": {
          "base_uri": "https://localhost:8080/"
        },
        "id": "PuOF22SIkj_J",
        "outputId": "086ea80a-ee12-40a0-d38c-3b36535d6ed3"
      },
      "outputs": [
        {
          "name": "stdout",
          "output_type": "stream",
          "text": [
            "                       Titre       Réalisateur  \\\n",
            "0          Top Gun: Maverick   Joseph Kosinski   \n",
            "1              The Fabelmans  Steven Spielberg   \n",
            "2        The First Slam Dunk    Takehiko Inoue   \n",
            "3          Le Bleu du Caftan    Maryam Touzani   \n",
            "4  Avatar : la voie de l'eau     James Cameron   \n",
            "\n",
            "                                          Acteurs  Note Presse  \\\n",
            "0     Tom Cruise, Miles Teller, Jennifer Connelly          3.7   \n",
            "1   Gabriel LaBelle, Michelle Williams, Paul Dano          4.9   \n",
            "2     Shugo Nakamura, Subaru Kimura, Kenta Miyake          3.9   \n",
            "3       Lubna Azabal, Saleh Bakri, Ayoub Missioui          3.8   \n",
            "4  Sam Worthington, Zoe Saldana, Sigourney Weaver          4.1   \n",
            "\n",
            "   Note Spectateurs                                   Types     Durée  \\\n",
            "0               4.3                                  Action  2h 11min   \n",
            "1               4.3                           Biopic, Drame  2h 31min   \n",
            "2               4.2               Animation, Comédie, Drame  2h 04min   \n",
            "3               4.2                          Drame, Romance  2h 02min   \n",
            "4               4.2  Science Fiction, Aventure, Fantastique  3h 12min   \n",
            "\n",
            "                                              Résumé  \\\n",
            "0  Après avoir été l’un des meilleurs pilotes de ...   \n",
            "1  Portrait profondément intime d’une enfance amé...   \n",
            "2  Le meneur de jeu de Shohoku, Ryota Miyagi, jou...   \n",
            "3  Halim est marié depuis longtemps à Mina, avec ...   \n",
            "4  Se déroulant plus d’une décennie après les évé...   \n",
            "\n",
            "                               Lien de bande-annonce  Heures  Minutes  \\\n",
            "0  https://www.allocine.fr/film/fichefilm_gen_cfi...       2       11   \n",
            "1  https://www.allocine.fr/film/fichefilm_gen_cfi...       2       31   \n",
            "2  https://www.allocine.fr/film/fichefilm_gen_cfi...       2        4   \n",
            "3  https://www.allocine.fr/film/fichefilm_gen_cfi...       2        2   \n",
            "4  https://www.allocine.fr/film/fichefilm_gen_cfi...       3       12   \n",
            "\n",
            "            Type_1    Type_2       Type_3  Note Moyenne Catégorie_Générale  \\\n",
            "0           Action      None         None           4.0               Bien   \n",
            "1           Biopic     Drame         None           4.6               Bien   \n",
            "2        Animation   Comédie        Drame           4.1               Bien   \n",
            "3            Drame   Romance         None           4.0               Bien   \n",
            "4  Science Fiction  Aventure  Fantastique           4.1               Bien   \n",
            "\n",
            "   Durée Totale(min)  \n",
            "0                131  \n",
            "1                151  \n",
            "2                124  \n",
            "3                122  \n",
            "4                192  \n"
          ]
        }
      ],
      "source": [
        "import pandas as pd\n",
        "\n",
        "print(df.head())"
      ]
    },
    {
      "cell_type": "markdown",
      "metadata": {
        "id": "fJjcO9b7lOZn"
      },
      "source": [
        "# 3) Nettoyage"
      ]
    },
    {
      "cell_type": "code",
      "execution_count": null,
      "metadata": {
        "colab": {
          "base_uri": "https://localhost:8080/"
        },
        "id": "2Z3Laf0gj1tD",
        "outputId": "f38d5bee-0cb2-4bc9-d885-47acb29e2605"
      },
      "outputs": [
        {
          "name": "stdout",
          "output_type": "stream",
          "text": [
            "Collecting stop-words\n",
            "  Downloading stop-words-2018.7.23.tar.gz (31 kB)\n",
            "  Preparing metadata (setup.py) ... \u001b[?25l\u001b[?25hdone\n",
            "Building wheels for collected packages: stop-words\n",
            "  Building wheel for stop-words (setup.py) ... \u001b[?25l\u001b[?25hdone\n",
            "  Created wheel for stop-words: filename=stop_words-2018.7.23-py3-none-any.whl size=32895 sha256=72e362d53d1483349b8bbab8ed79a9b591a0c304303a9a01731eb0f6befff37d\n",
            "  Stored in directory: /root/.cache/pip/wheels/d0/1a/23/f12552a50cb09bcc1694a5ebb6c2cd5f2a0311de2b8c3d9a89\n",
            "Successfully built stop-words\n",
            "Installing collected packages: stop-words\n",
            "Successfully installed stop-words-2018.7.23\n"
          ]
        }
      ],
      "source": [
        "!pip install stop-words\n"
      ]
    },
    {
      "cell_type": "code",
      "execution_count": null,
      "metadata": {
        "colab": {
          "base_uri": "https://localhost:8080/"
        },
        "id": "YzmO2zL_j16c",
        "outputId": "eecf5942-89d6-4a2d-cb78-fad6a4f86971"
      },
      "outputs": [
        {
          "name": "stdout",
          "output_type": "stream",
          "text": [
            "Requirement already satisfied: transformers in /usr/local/lib/python3.10/dist-packages (4.35.2)\n",
            "Requirement already satisfied: filelock in /usr/local/lib/python3.10/dist-packages (from transformers) (3.13.1)\n",
            "Requirement already satisfied: huggingface-hub<1.0,>=0.16.4 in /usr/local/lib/python3.10/dist-packages (from transformers) (0.20.1)\n",
            "Requirement already satisfied: numpy>=1.17 in /usr/local/lib/python3.10/dist-packages (from transformers) (1.23.5)\n",
            "Requirement already satisfied: packaging>=20.0 in /usr/local/lib/python3.10/dist-packages (from transformers) (23.2)\n",
            "Requirement already satisfied: pyyaml>=5.1 in /usr/local/lib/python3.10/dist-packages (from transformers) (6.0.1)\n",
            "Requirement already satisfied: regex!=2019.12.17 in /usr/local/lib/python3.10/dist-packages (from transformers) (2023.6.3)\n",
            "Requirement already satisfied: requests in /usr/local/lib/python3.10/dist-packages (from transformers) (2.31.0)\n",
            "Requirement already satisfied: tokenizers<0.19,>=0.14 in /usr/local/lib/python3.10/dist-packages (from transformers) (0.15.0)\n",
            "Requirement already satisfied: safetensors>=0.3.1 in /usr/local/lib/python3.10/dist-packages (from transformers) (0.4.1)\n",
            "Requirement already satisfied: tqdm>=4.27 in /usr/local/lib/python3.10/dist-packages (from transformers) (4.66.1)\n",
            "Requirement already satisfied: fsspec>=2023.5.0 in /usr/local/lib/python3.10/dist-packages (from huggingface-hub<1.0,>=0.16.4->transformers) (2023.6.0)\n",
            "Requirement already satisfied: typing-extensions>=3.7.4.3 in /usr/local/lib/python3.10/dist-packages (from huggingface-hub<1.0,>=0.16.4->transformers) (4.5.0)\n",
            "Requirement already satisfied: charset-normalizer<4,>=2 in /usr/local/lib/python3.10/dist-packages (from requests->transformers) (3.3.2)\n",
            "Requirement already satisfied: idna<4,>=2.5 in /usr/local/lib/python3.10/dist-packages (from requests->transformers) (3.6)\n",
            "Requirement already satisfied: urllib3<3,>=1.21.1 in /usr/local/lib/python3.10/dist-packages (from requests->transformers) (2.0.7)\n",
            "Requirement already satisfied: certifi>=2017.4.17 in /usr/local/lib/python3.10/dist-packages (from requests->transformers) (2023.11.17)\n"
          ]
        }
      ],
      "source": [
        "!pip install transformers\n"
      ]
    },
    {
      "cell_type": "code",
      "execution_count": null,
      "metadata": {
        "colab": {
          "base_uri": "https://localhost:8080/"
        },
        "id": "L9q8A1kSj17t",
        "outputId": "1acf6a1c-6808-482d-8cae-97a73eb7e27b"
      },
      "outputs": [
        {
          "name": "stdout",
          "output_type": "stream",
          "text": [
            "Collecting sentencepiece\n",
            "  Downloading sentencepiece-0.1.99-cp310-cp310-manylinux_2_17_x86_64.manylinux2014_x86_64.whl (1.3 MB)\n",
            "\u001b[2K     \u001b[90m━━━━━━━━━━━━━━━━━━━━━━━━━━━━━━━━━━━━━━━━\u001b[0m \u001b[32m1.3/1.3 MB\u001b[0m \u001b[31m6.7 MB/s\u001b[0m eta \u001b[36m0:00:00\u001b[0m\n",
            "\u001b[?25hInstalling collected packages: sentencepiece\n",
            "Successfully installed sentencepiece-0.1.99\n"
          ]
        }
      ],
      "source": [
        "!pip install sentencepiece"
      ]
    },
    {
      "cell_type": "code",
      "execution_count": null,
      "metadata": {
        "colab": {
          "base_uri": "https://localhost:8080/"
        },
        "id": "ODooQVoHj19A",
        "outputId": "f7b01c3d-5a03-431f-d15f-ce833c0a9327"
      },
      "outputs": [
        {
          "name": "stdout",
          "output_type": "stream",
          "text": [
            "Requirement already satisfied: tensorflow in /usr/local/lib/python3.10/dist-packages (2.15.0)\n",
            "Requirement already satisfied: absl-py>=1.0.0 in /usr/local/lib/python3.10/dist-packages (from tensorflow) (1.4.0)\n",
            "Requirement already satisfied: astunparse>=1.6.0 in /usr/local/lib/python3.10/dist-packages (from tensorflow) (1.6.3)\n",
            "Requirement already satisfied: flatbuffers>=23.5.26 in /usr/local/lib/python3.10/dist-packages (from tensorflow) (23.5.26)\n",
            "Requirement already satisfied: gast!=0.5.0,!=0.5.1,!=0.5.2,>=0.2.1 in /usr/local/lib/python3.10/dist-packages (from tensorflow) (0.5.4)\n",
            "Requirement already satisfied: google-pasta>=0.1.1 in /usr/local/lib/python3.10/dist-packages (from tensorflow) (0.2.0)\n",
            "Requirement already satisfied: h5py>=2.9.0 in /usr/local/lib/python3.10/dist-packages (from tensorflow) (3.9.0)\n",
            "Requirement already satisfied: libclang>=13.0.0 in /usr/local/lib/python3.10/dist-packages (from tensorflow) (16.0.6)\n",
            "Requirement already satisfied: ml-dtypes~=0.2.0 in /usr/local/lib/python3.10/dist-packages (from tensorflow) (0.2.0)\n",
            "Requirement already satisfied: numpy<2.0.0,>=1.23.5 in /usr/local/lib/python3.10/dist-packages (from tensorflow) (1.23.5)\n",
            "Requirement already satisfied: opt-einsum>=2.3.2 in /usr/local/lib/python3.10/dist-packages (from tensorflow) (3.3.0)\n",
            "Requirement already satisfied: packaging in /usr/local/lib/python3.10/dist-packages (from tensorflow) (23.2)\n",
            "Requirement already satisfied: protobuf!=4.21.0,!=4.21.1,!=4.21.2,!=4.21.3,!=4.21.4,!=4.21.5,<5.0.0dev,>=3.20.3 in /usr/local/lib/python3.10/dist-packages (from tensorflow) (3.20.3)\n",
            "Requirement already satisfied: setuptools in /usr/local/lib/python3.10/dist-packages (from tensorflow) (67.7.2)\n",
            "Requirement already satisfied: six>=1.12.0 in /usr/local/lib/python3.10/dist-packages (from tensorflow) (1.16.0)\n",
            "Requirement already satisfied: termcolor>=1.1.0 in /usr/local/lib/python3.10/dist-packages (from tensorflow) (2.4.0)\n",
            "Requirement already satisfied: typing-extensions>=3.6.6 in /usr/local/lib/python3.10/dist-packages (from tensorflow) (4.5.0)\n",
            "Requirement already satisfied: wrapt<1.15,>=1.11.0 in /usr/local/lib/python3.10/dist-packages (from tensorflow) (1.14.1)\n",
            "Requirement already satisfied: tensorflow-io-gcs-filesystem>=0.23.1 in /usr/local/lib/python3.10/dist-packages (from tensorflow) (0.35.0)\n",
            "Requirement already satisfied: grpcio<2.0,>=1.24.3 in /usr/local/lib/python3.10/dist-packages (from tensorflow) (1.60.0)\n",
            "Requirement already satisfied: tensorboard<2.16,>=2.15 in /usr/local/lib/python3.10/dist-packages (from tensorflow) (2.15.1)\n",
            "Requirement already satisfied: tensorflow-estimator<2.16,>=2.15.0 in /usr/local/lib/python3.10/dist-packages (from tensorflow) (2.15.0)\n",
            "Requirement already satisfied: keras<2.16,>=2.15.0 in /usr/local/lib/python3.10/dist-packages (from tensorflow) (2.15.0)\n",
            "Requirement already satisfied: wheel<1.0,>=0.23.0 in /usr/local/lib/python3.10/dist-packages (from astunparse>=1.6.0->tensorflow) (0.42.0)\n",
            "Requirement already satisfied: google-auth<3,>=1.6.3 in /usr/local/lib/python3.10/dist-packages (from tensorboard<2.16,>=2.15->tensorflow) (2.17.3)\n",
            "Requirement already satisfied: google-auth-oauthlib<2,>=0.5 in /usr/local/lib/python3.10/dist-packages (from tensorboard<2.16,>=2.15->tensorflow) (1.2.0)\n",
            "Requirement already satisfied: markdown>=2.6.8 in /usr/local/lib/python3.10/dist-packages (from tensorboard<2.16,>=2.15->tensorflow) (3.5.1)\n",
            "Requirement already satisfied: requests<3,>=2.21.0 in /usr/local/lib/python3.10/dist-packages (from tensorboard<2.16,>=2.15->tensorflow) (2.31.0)\n",
            "Requirement already satisfied: tensorboard-data-server<0.8.0,>=0.7.0 in /usr/local/lib/python3.10/dist-packages (from tensorboard<2.16,>=2.15->tensorflow) (0.7.2)\n",
            "Requirement already satisfied: werkzeug>=1.0.1 in /usr/local/lib/python3.10/dist-packages (from tensorboard<2.16,>=2.15->tensorflow) (3.0.1)\n",
            "Requirement already satisfied: cachetools<6.0,>=2.0.0 in /usr/local/lib/python3.10/dist-packages (from google-auth<3,>=1.6.3->tensorboard<2.16,>=2.15->tensorflow) (5.3.2)\n",
            "Requirement already satisfied: pyasn1-modules>=0.2.1 in /usr/local/lib/python3.10/dist-packages (from google-auth<3,>=1.6.3->tensorboard<2.16,>=2.15->tensorflow) (0.3.0)\n",
            "Requirement already satisfied: rsa<5,>=3.1.4 in /usr/local/lib/python3.10/dist-packages (from google-auth<3,>=1.6.3->tensorboard<2.16,>=2.15->tensorflow) (4.9)\n",
            "Requirement already satisfied: requests-oauthlib>=0.7.0 in /usr/local/lib/python3.10/dist-packages (from google-auth-oauthlib<2,>=0.5->tensorboard<2.16,>=2.15->tensorflow) (1.3.1)\n",
            "Requirement already satisfied: charset-normalizer<4,>=2 in /usr/local/lib/python3.10/dist-packages (from requests<3,>=2.21.0->tensorboard<2.16,>=2.15->tensorflow) (3.3.2)\n",
            "Requirement already satisfied: idna<4,>=2.5 in /usr/local/lib/python3.10/dist-packages (from requests<3,>=2.21.0->tensorboard<2.16,>=2.15->tensorflow) (3.6)\n",
            "Requirement already satisfied: urllib3<3,>=1.21.1 in /usr/local/lib/python3.10/dist-packages (from requests<3,>=2.21.0->tensorboard<2.16,>=2.15->tensorflow) (2.0.7)\n",
            "Requirement already satisfied: certifi>=2017.4.17 in /usr/local/lib/python3.10/dist-packages (from requests<3,>=2.21.0->tensorboard<2.16,>=2.15->tensorflow) (2023.11.17)\n",
            "Requirement already satisfied: MarkupSafe>=2.1.1 in /usr/local/lib/python3.10/dist-packages (from werkzeug>=1.0.1->tensorboard<2.16,>=2.15->tensorflow) (2.1.3)\n",
            "Requirement already satisfied: pyasn1<0.6.0,>=0.4.6 in /usr/local/lib/python3.10/dist-packages (from pyasn1-modules>=0.2.1->google-auth<3,>=1.6.3->tensorboard<2.16,>=2.15->tensorflow) (0.5.1)\n",
            "Requirement already satisfied: oauthlib>=3.0.0 in /usr/local/lib/python3.10/dist-packages (from requests-oauthlib>=0.7.0->google-auth-oauthlib<2,>=0.5->tensorboard<2.16,>=2.15->tensorflow) (3.2.2)\n"
          ]
        }
      ],
      "source": [
        "!pip install tensorflow\n"
      ]
    },
    {
      "cell_type": "code",
      "execution_count": null,
      "metadata": {
        "colab": {
          "base_uri": "https://localhost:8080/"
        },
        "id": "Tv4tsxRqtHQy",
        "outputId": "f990b4c2-7be6-42e4-cf7f-124104a030eb"
      },
      "outputs": [
        {
          "name": "stdout",
          "output_type": "stream",
          "text": [
            "Collecting unidecode\n",
            "  Downloading Unidecode-1.3.7-py3-none-any.whl (235 kB)\n",
            "\u001b[2K     \u001b[90m━━━━━━━━━━━━━━━━━━━━━━━━━━━━━━━━━━━━━━━━\u001b[0m \u001b[32m235.5/235.5 kB\u001b[0m \u001b[31m3.0 MB/s\u001b[0m eta \u001b[36m0:00:00\u001b[0m\n",
            "\u001b[?25hInstalling collected packages: unidecode\n",
            "Successfully installed unidecode-1.3.7\n"
          ]
        }
      ],
      "source": [
        "!pip install unidecode"
      ]
    },
    {
      "cell_type": "code",
      "execution_count": null,
      "metadata": {
        "colab": {
          "base_uri": "https://localhost:8080/"
        },
        "id": "NzX9l-lkj1qY",
        "outputId": "43881f67-75ae-4578-893d-df449090b1bc"
      },
      "outputs": [
        {
          "name": "stderr",
          "output_type": "stream",
          "text": [
            "[nltk_data] Downloading package punkt to /root/nltk_data...\n",
            "[nltk_data]   Unzipping tokenizers/punkt.zip.\n"
          ]
        }
      ],
      "source": [
        "import re\n",
        "import string\n",
        "import nltk\n",
        "from nltk.tokenize import word_tokenize\n",
        "from nltk.stem import SnowballStemmer\n",
        "from stop_words import get_stop_words\n",
        "from unidecode import unidecode\n",
        "\n",
        "# nltk.download('stopwords')\n",
        "nltk.download('punkt')\n",
        "\n",
        "def clean_text_french(text):\n",
        "    # Convertir le texte en minuscules\n",
        "    text = text.lower()\n",
        "\n",
        "    # Supprimer les accents, les apostrophes, et les guillemets\n",
        "    text = unidecode(text).replace(\"'\", \"\").replace('\"', '')\n",
        "\n",
        "    # Supprimer la ponctuation\n",
        "    text = text.translate(str.maketrans(\"\", \"\", string.punctuation))\n",
        "\n",
        "    # Supprimer les chiffres sauf ceux suivis de quatre chiffres (pour les années) car utile pour le theme historique\n",
        "    # Apres reflexions nous avons pas supprimer les chiffres car indiquer l'age dans un resumer impacte le theme\n",
        "    #text = re.sub(r'\\b\\d{1,3}\\b|(?<!\\d)\\d{5,}(?!\\d)', '', text)\n",
        "\n",
        "    # Tokenization (division en mots)\n",
        "    words = word_tokenize(text, language='french')\n",
        "\n",
        "    # Supprimer les stopwords en français\n",
        "    stop_words = set(get_stop_words('fr'))\n",
        "    #words = [word for word in words if word not in stop_words]\n",
        "\n",
        "    # Stemming (racinisation) en français\n",
        "    stemmer = SnowballStemmer('french')\n",
        "    words = [stemmer.stem(word) for word in words]\n",
        "\n",
        "    # Rejoindre les mots pour reformer le texte\n",
        "    cleaned_text = ' '.join(words)\n",
        "\n",
        "    return cleaned_text\n"
      ]
    },
    {
      "cell_type": "code",
      "execution_count": null,
      "metadata": {
        "colab": {
          "base_uri": "https://localhost:8080/",
          "height": 585
        },
        "id": "DvLFXxLej1vb",
        "outputId": "5f94454b-ced7-4fac-9cdf-12bbe6ee5e74"
      },
      "outputs": [
        {
          "data": {
            "image/png": "[encoded data removed]",
            "text/plain": [
              "<Figure size 640x480 with 1 Axes>"
            ]
          },
          "metadata": {},
          "output_type": "display_data"
        }
      ],
      "source": [
        "# Visualiser la distribution des classes\n",
        "import matplotlib.pyplot as plt\n",
        "\n",
        "df['Type_1'].value_counts().plot(kind='bar')\n",
        "plt.title('Distribution des classes')\n",
        "plt.show()\n"
      ]
    },
    {
      "cell_type": "code",
      "execution_count": null,
      "metadata": {
        "colab": {
          "base_uri": "https://localhost:8080/"
        },
        "id": "xdgIolWAj1xZ",
        "outputId": "d4cb2e1a-d0ea-43a8-809f-c0450e1ed595"
      },
      "outputs": [
        {
          "name": "stderr",
          "output_type": "stream",
          "text": [
            "<ipython-input-84-d0b1402f1943>:6: SettingWithCopyWarning:\n",
            "\n",
            "\n",
            "A value is trying to be set on a copy of a slice from a DataFrame.\n",
            "Try using .loc[row_indexer,col_indexer] = value instead\n",
            "\n",
            "See the caveats in the documentation: https://pandas.pydata.org/pandas-docs/stable/user_guide/indexing.html#returning-a-view-versus-a-copy\n",
            "\n"
          ]
        }
      ],
      "source": [
        "\n",
        "# Appliquer la fonction de nettoyage textuelle à la colonne \"Résumé\"\n",
        "df[\"Résumé_propre\"] = df[\"Résumé\"].apply(clean_text_french)\n",
        "\n",
        "# Créer un nouveau DataFrame avec la colonne \"Résumé_propre\" et rajout de 'Type_1'\n",
        "df_nouveau_resume_nlp= df[[\"Résumé_propre\"]]\n",
        "df_nouveau_resume_nlp[\"Type_1\"] = df[\"Type_1\"]\n"
      ]
    },
    {
      "cell_type": "code",
      "execution_count": null,
      "metadata": {
        "colab": {
          "base_uri": "https://localhost:8080/"
        },
        "id": "4oF2dTdjj1zp",
        "outputId": "667344ab-0e12-422a-e812-a9ed26e22e06"
      },
      "outputs": [
        {
          "name": "stdout",
          "output_type": "stream",
          "text": [
            "Mapping des classes : {'Action': 0, 'Animation': 1, 'Aventure': 2, 'Biopic': 3, 'Comédie': 4, 'Comédie dramatique': 5, 'Drame': 6, 'Fantastique': 7, 'Guerre': 8, 'Historique': 9, 'Policier': 10, 'Romance': 11, 'Science Fiction': 12, 'Thriller': 13}\n"
          ]
        }
      ],
      "source": [
        "# Pour le desequilibre\n",
        "df_nouveau_resume_nlp_copy = df_nouveau_resume_nlp.copy()\n",
        "# Fixez une valeur pour le random_state (par exemple, 42)\n",
        "random_state_value = 42\n",
        "# Sélection aléatoire de 40 indices de lignes où Type_1 est égal à \"Drame\"\n",
        "indices_a_supprimer = df_nouveau_resume_nlp_copy[df_nouveau_resume_nlp_copy['Type_1'] == 'Drame'].sample(40, random_state=random_state_value).index\n",
        "# Suppression des lignes correspondantes de la DataFrame\n",
        "df_nouveau_resume_nlp_copy = df_nouveau_resume_nlp_copy.drop(indices_a_supprimer)\n",
        "\n",
        "from sklearn.preprocessing import LabelEncoder\n",
        "label_encoder = LabelEncoder()\n",
        "# encodage sur colonne cible\n",
        "df_nouveau_resume_nlp_copy [\"Type_1_encoded\"] = label_encoder.fit_transform(df_nouveau_resume_nlp_copy [\"Type_1\"])\n",
        "# Affichez le mapping entre les classes originales et les valeurs encodées\n",
        "class_mapping = dict(zip(label_encoder.classes_, label_encoder.transform(label_encoder.classes_)))\n",
        "print(\"Mapping des classes :\", class_mapping)\n"
      ]
    },
    {
      "cell_type": "markdown",
      "metadata": {
        "id": "P6fQERVNlW5T"
      },
      "source": [
        "# 1. Modele 1 avec TF IDF"
      ]
    },
    {
      "cell_type": "markdown",
      "metadata": {
        "id": "NZomFbbXlXyY"
      },
      "source": [
        "# Optimisation des parametres du TF IDF"
      ]
    },
    {
      "cell_type": "code",
      "execution_count": null,
      "metadata": {
        "colab": {
          "base_uri": "https://localhost:8080/"
        },
        "id": "vjEtOYWTj1-S",
        "outputId": "24cca3b4-8f1b-4177-dae7-a8fb1780b0cf"
      },
      "outputs": [
        {
          "name": "stdout",
          "output_type": "stream",
          "text": [
            "Fitting 5 folds for each of 18 candidates, totalling 90 fits\n"
          ]
        },
        {
          "name": "stderr",
          "output_type": "stream",
          "text": [
            "/usr/local/lib/python3.10/dist-packages/sklearn/preprocessing/_label.py:895: UserWarning:\n",
            "\n",
            "unknown class(es) ['G'] will be ignored\n",
            "\n"
          ]
        },
        {
          "name": "stdout",
          "output_type": "stream",
          "text": [
            "Meilleurs paramètres trouvés :\n",
            "{'tfidf__max_df': 0.9, 'tfidf__min_df': 1, 'tfidf__ngram_range': (1, 3)}\n"
          ]
        }
      ],
      "source": [
        "\n",
        "from sklearn.model_selection import GridSearchCV\n",
        "from sklearn.feature_extraction.text import TfidfVectorizer\n",
        "from sklearn.ensemble import RandomForestClassifier\n",
        "from sklearn.model_selection import train_test_split\n",
        "from sklearn.pipeline import Pipeline\n",
        "from sklearn.preprocessing import MultiLabelBinarizer\n",
        "from sklearn.metrics import classification_report\n",
        "\n",
        "# Optimisation des parametres du TF IDF a l'aide d'un grid search\n",
        "\n",
        "labels=df_nouveau_resume_nlp[\"Type_1\"]\n",
        "# Division des données en train et test\n",
        "X_train, X_test, y_train, y_test = train_test_split(df_nouveau_resume_nlp[\"Résumé_propre\"],df_nouveau_resume_nlp[\"Type_1\"], test_size=0.2, random_state=42)\n",
        "\n",
        "# Utilisation MultiLabelBinarizer pour convertir les listes de classes en représentation binaire\n",
        "mlb = MultiLabelBinarizer()\n",
        "y_train = mlb.fit_transform(y_train)\n",
        "y_test = mlb.transform(y_test)\n",
        "\n",
        "# Définission des paramètres à optimiser\n",
        "parameters = {\n",
        "    'tfidf__ngram_range': [(1, 1), (1, 2), (1, 3)],\n",
        "    'tfidf__min_df': [1,5],\n",
        "    'tfidf__max_df': [0.9, 0.95,0.99],\n",
        "    # Ajoutez d'autres paramètres ici\n",
        "}\n",
        "\n",
        "# Créeation pipeline avec le modèle et le vecteur TF-IDF\n",
        "pipeline = Pipeline([\n",
        "    ('tfidf', TfidfVectorizer()),\n",
        "    ('clf', RandomForestClassifier(n_estimators=500, random_state=42))\n",
        "])\n",
        "\n",
        "# Utilisation GridSearchCV pour la recherche des paramètres\n",
        "grid_search = GridSearchCV(pipeline, parameters, cv=5, n_jobs=-1, verbose=2)\n",
        "grid_search.fit(X_train, y_train)\n",
        "\n",
        "print(\"Meilleurs paramètres trouvés :\")\n",
        "print(grid_search.best_params_)\n"
      ]
    },
    {
      "cell_type": "markdown",
      "metadata": {
        "id": "fqRYZ9GilwIJ"
      },
      "source": [
        "# TF IDF"
      ]
    },
    {
      "cell_type": "code",
      "execution_count": null,
      "metadata": {
        "colab": {
          "base_uri": "https://localhost:8080/",
          "height": 253
        },
        "id": "Q_gasr5Pj1_z",
        "outputId": "bab710b6-7013-4f1b-90c6-726d86e39809"
      },
      "outputs": [
        {
          "data": {
            "text/html": [
              "\n",
              "  <div id=\"df-8e5bcd13-bede-439b-8629-906f9bac6951\" class=\"colab-df-container\">\n",
              "    <div>\n",
              "<style scoped>\n",
              "    .dataframe tbody tr th:only-of-type {\n",
              "        vertical-align: middle;\n",
              "    }\n",
              "\n",
              "    .dataframe tbody tr th {\n",
              "        vertical-align: top;\n",
              "    }\n",
              "\n",
              "    .dataframe thead th {\n",
              "        text-align: right;\n",
              "    }\n",
              "</style>\n",
              "<table border=\"1\" class=\"dataframe\">\n",
              "  <thead>\n",
              "    <tr style=\"text-align: right;\">\n",
              "      <th></th>\n",
              "      <th>12</th>\n",
              "      <th>13</th>\n",
              "      <th>13 novembr</th>\n",
              "      <th>14</th>\n",
              "      <th>14 an</th>\n",
              "      <th>14 an emmet</th>\n",
              "      <th>15</th>\n",
              "      <th>15 avril</th>\n",
              "      <th>15 avril 2019</th>\n",
              "      <th>1516</th>\n",
              "      <th>...</th>\n",
              "      <th>yut qui mem</th>\n",
              "      <th>zaph</th>\n",
              "      <th>zo</th>\n",
              "      <th>zo et</th>\n",
              "      <th>zo et vient</th>\n",
              "      <th>zo grand</th>\n",
              "      <th>zo grand au</th>\n",
              "      <th>zomb</th>\n",
              "      <th>zomb entre</th>\n",
              "      <th>zomb entre technicien</th>\n",
              "    </tr>\n",
              "  </thead>\n",
              "  <tbody>\n",
              "    <tr>\n",
              "      <th>0</th>\n",
              "      <td>0.0</td>\n",
              "      <td>0.0</td>\n",
              "      <td>0.0</td>\n",
              "      <td>0.0</td>\n",
              "      <td>0.0</td>\n",
              "      <td>0.0</td>\n",
              "      <td>0.0</td>\n",
              "      <td>0.0</td>\n",
              "      <td>0.0</td>\n",
              "      <td>0.0</td>\n",
              "      <td>...</td>\n",
              "      <td>0.0</td>\n",
              "      <td>0.0</td>\n",
              "      <td>0.0</td>\n",
              "      <td>0.0</td>\n",
              "      <td>0.0</td>\n",
              "      <td>0.0</td>\n",
              "      <td>0.0</td>\n",
              "      <td>0.0</td>\n",
              "      <td>0.0</td>\n",
              "      <td>0.0</td>\n",
              "    </tr>\n",
              "    <tr>\n",
              "      <th>1</th>\n",
              "      <td>0.0</td>\n",
              "      <td>0.0</td>\n",
              "      <td>0.0</td>\n",
              "      <td>0.0</td>\n",
              "      <td>0.0</td>\n",
              "      <td>0.0</td>\n",
              "      <td>0.0</td>\n",
              "      <td>0.0</td>\n",
              "      <td>0.0</td>\n",
              "      <td>0.0</td>\n",
              "      <td>...</td>\n",
              "      <td>0.0</td>\n",
              "      <td>0.0</td>\n",
              "      <td>0.0</td>\n",
              "      <td>0.0</td>\n",
              "      <td>0.0</td>\n",
              "      <td>0.0</td>\n",
              "      <td>0.0</td>\n",
              "      <td>0.0</td>\n",
              "      <td>0.0</td>\n",
              "      <td>0.0</td>\n",
              "    </tr>\n",
              "    <tr>\n",
              "      <th>2</th>\n",
              "      <td>0.0</td>\n",
              "      <td>0.0</td>\n",
              "      <td>0.0</td>\n",
              "      <td>0.0</td>\n",
              "      <td>0.0</td>\n",
              "      <td>0.0</td>\n",
              "      <td>0.0</td>\n",
              "      <td>0.0</td>\n",
              "      <td>0.0</td>\n",
              "      <td>0.0</td>\n",
              "      <td>...</td>\n",
              "      <td>0.0</td>\n",
              "      <td>0.0</td>\n",
              "      <td>0.0</td>\n",
              "      <td>0.0</td>\n",
              "      <td>0.0</td>\n",
              "      <td>0.0</td>\n",
              "      <td>0.0</td>\n",
              "      <td>0.0</td>\n",
              "      <td>0.0</td>\n",
              "      <td>0.0</td>\n",
              "    </tr>\n",
              "    <tr>\n",
              "      <th>3</th>\n",
              "      <td>0.0</td>\n",
              "      <td>0.0</td>\n",
              "      <td>0.0</td>\n",
              "      <td>0.0</td>\n",
              "      <td>0.0</td>\n",
              "      <td>0.0</td>\n",
              "      <td>0.0</td>\n",
              "      <td>0.0</td>\n",
              "      <td>0.0</td>\n",
              "      <td>0.0</td>\n",
              "      <td>...</td>\n",
              "      <td>0.0</td>\n",
              "      <td>0.0</td>\n",
              "      <td>0.0</td>\n",
              "      <td>0.0</td>\n",
              "      <td>0.0</td>\n",
              "      <td>0.0</td>\n",
              "      <td>0.0</td>\n",
              "      <td>0.0</td>\n",
              "      <td>0.0</td>\n",
              "      <td>0.0</td>\n",
              "    </tr>\n",
              "    <tr>\n",
              "      <th>4</th>\n",
              "      <td>0.0</td>\n",
              "      <td>0.0</td>\n",
              "      <td>0.0</td>\n",
              "      <td>0.0</td>\n",
              "      <td>0.0</td>\n",
              "      <td>0.0</td>\n",
              "      <td>0.0</td>\n",
              "      <td>0.0</td>\n",
              "      <td>0.0</td>\n",
              "      <td>0.0</td>\n",
              "      <td>...</td>\n",
              "      <td>0.0</td>\n",
              "      <td>0.0</td>\n",
              "      <td>0.0</td>\n",
              "      <td>0.0</td>\n",
              "      <td>0.0</td>\n",
              "      <td>0.0</td>\n",
              "      <td>0.0</td>\n",
              "      <td>0.0</td>\n",
              "      <td>0.0</td>\n",
              "      <td>0.0</td>\n",
              "    </tr>\n",
              "  </tbody>\n",
              "</table>\n",
              "<p>5 rows × 8416 columns</p>\n",
              "</div>\n",
              "    <div class=\"colab-df-buttons\">\n",
              "\n",
              "  <div class=\"colab-df-container\">\n",
              "    <button class=\"colab-df-convert\" onclick=\"convertToInteractive('df-8e5bcd13-bede-439b-8629-906f9bac6951')\"\n",
              "            title=\"Convert this dataframe to an interactive table.\"\n",
              "            style=\"display:none;\">\n",
              "\n",
              "  <svg xmlns=\"http://www.w3.org/2000/svg\" height=\"24px\" viewBox=\"0 -960 960 960\">\n",
              "    <path d=\"M120-120v-720h720v720H120Zm60-500h600v-160H180v160Zm220 220h160v-160H400v160Zm0 220h160v-160H400v160ZM180-400h160v-160H180v160Zm440 0h160v-160H620v160ZM180-180h160v-160H180v160Zm440 0h160v-160H620v160Z\"/>\n",
              "  </svg>\n",
              "    </button>\n",
              "\n",
              "  <style>\n",
              "    .colab-df-container {\n",
              "      display:flex;\n",
              "      gap: 12px;\n",
              "    }\n",
              "\n",
              "    .colab-df-convert {\n",
              "      background-color: #E8F0FE;\n",
              "      border: none;\n",
              "      border-radius: 50%;\n",
              "      cursor: pointer;\n",
              "      display: none;\n",
              "      fill: #1967D2;\n",
              "      height: 32px;\n",
              "      padding: 0 0 0 0;\n",
              "      width: 32px;\n",
              "    }\n",
              "\n",
              "    .colab-df-convert:hover {\n",
              "      background-color: #E2EBFA;\n",
              "      box-shadow: 0px 1px 2px rgba(60, 64, 67, 0.3), 0px 1px 3px 1px rgba(60, 64, 67, 0.15);\n",
              "      fill: #174EA6;\n",
              "    }\n",
              "\n",
              "    .colab-df-buttons div {\n",
              "      margin-bottom: 4px;\n",
              "    }\n",
              "\n",
              "    [theme=dark] .colab-df-convert {\n",
              "      background-color: #3B4455;\n",
              "      fill: #D2E3FC;\n",
              "    }\n",
              "\n",
              "    [theme=dark] .colab-df-convert:hover {\n",
              "      background-color: #434B5C;\n",
              "      box-shadow: 0px 1px 3px 1px rgba(0, 0, 0, 0.15);\n",
              "      filter: drop-shadow(0px 1px 2px rgba(0, 0, 0, 0.3));\n",
              "      fill: #FFFFFF;\n",
              "    }\n",
              "  </style>\n",
              "\n",
              "    <script>\n",
              "      const buttonEl =\n",
              "        document.querySelector('#df-8e5bcd13-bede-439b-8629-906f9bac6951 button.colab-df-convert');\n",
              "      buttonEl.style.display =\n",
              "        google.colab.kernel.accessAllowed ? 'block' : 'none';\n",
              "\n",
              "      async function convertToInteractive(key) {\n",
              "        const element = document.querySelector('#df-8e5bcd13-bede-439b-8629-906f9bac6951');\n",
              "        const dataTable =\n",
              "          await google.colab.kernel.invokeFunction('convertToInteractive',\n",
              "                                                    [key], {});\n",
              "        if (!dataTable) return;\n",
              "\n",
              "        const docLinkHtml = 'Like what you see? Visit the ' +\n",
              "          '<a target=\"_blank\" href=https://colab.research.google.com/notebooks/data_table.ipynb>data table notebook</a>'\n",
              "          + ' to learn more about interactive tables.';\n",
              "        element.innerHTML = '';\n",
              "        dataTable['output_type'] = 'display_data';\n",
              "        await google.colab.output.renderOutput(dataTable, element);\n",
              "        const docLink = document.createElement('div');\n",
              "        docLink.innerHTML = docLinkHtml;\n",
              "        element.appendChild(docLink);\n",
              "      }\n",
              "    </script>\n",
              "  </div>\n",
              "\n",
              "\n",
              "<div id=\"df-aa6dbfc9-ad6f-4c76-b8f7-ebc92b3bfd5a\">\n",
              "  <button class=\"colab-df-quickchart\" onclick=\"quickchart('df-aa6dbfc9-ad6f-4c76-b8f7-ebc92b3bfd5a')\"\n",
              "            title=\"Suggest charts\"\n",
              "            style=\"display:none;\">\n",
              "\n",
              "<svg xmlns=\"http://www.w3.org/2000/svg\" height=\"24px\"viewBox=\"0 0 24 24\"\n",
              "     width=\"24px\">\n",
              "    <g>\n",
              "        <path d=\"M19 3H5c-1.1 0-2 .9-2 2v14c0 1.1.9 2 2 2h14c1.1 0 2-.9 2-2V5c0-1.1-.9-2-2-2zM9 17H7v-7h2v7zm4 0h-2V7h2v10zm4 0h-2v-4h2v4z\"/>\n",
              "    </g>\n",
              "</svg>\n",
              "  </button>\n",
              "\n",
              "<style>\n",
              "  .colab-df-quickchart {\n",
              "      --bg-color: #E8F0FE;\n",
              "      --fill-color: #1967D2;\n",
              "      --hover-bg-color: #E2EBFA;\n",
              "      --hover-fill-color: #174EA6;\n",
              "      --disabled-fill-color: #AAA;\n",
              "      --disabled-bg-color: #DDD;\n",
              "  }\n",
              "\n",
              "  [theme=dark] .colab-df-quickchart {\n",
              "      --bg-color: #3B4455;\n",
              "      --fill-color: #D2E3FC;\n",
              "      --hover-bg-color: #434B5C;\n",
              "      --hover-fill-color: #FFFFFF;\n",
              "      --disabled-bg-color: #3B4455;\n",
              "      --disabled-fill-color: #666;\n",
              "  }\n",
              "\n",
              "  .colab-df-quickchart {\n",
              "    background-color: var(--bg-color);\n",
              "    border: none;\n",
              "    border-radius: 50%;\n",
              "    cursor: pointer;\n",
              "    display: none;\n",
              "    fill: var(--fill-color);\n",
              "    height: 32px;\n",
              "    padding: 0;\n",
              "    width: 32px;\n",
              "  }\n",
              "\n",
              "  .colab-df-quickchart:hover {\n",
              "    background-color: var(--hover-bg-color);\n",
              "    box-shadow: 0 1px 2px rgba(60, 64, 67, 0.3), 0 1px 3px 1px rgba(60, 64, 67, 0.15);\n",
              "    fill: var(--button-hover-fill-color);\n",
              "  }\n",
              "\n",
              "  .colab-df-quickchart-complete:disabled,\n",
              "  .colab-df-quickchart-complete:disabled:hover {\n",
              "    background-color: var(--disabled-bg-color);\n",
              "    fill: var(--disabled-fill-color);\n",
              "    box-shadow: none;\n",
              "  }\n",
              "\n",
              "  .colab-df-spinner {\n",
              "    border: 2px solid var(--fill-color);\n",
              "    border-color: transparent;\n",
              "    border-bottom-color: var(--fill-color);\n",
              "    animation:\n",
              "      spin 1s steps(1) infinite;\n",
              "  }\n",
              "\n",
              "  @keyframes spin {\n",
              "    0% {\n",
              "      border-color: transparent;\n",
              "      border-bottom-color: var(--fill-color);\n",
              "      border-left-color: var(--fill-color);\n",
              "    }\n",
              "    20% {\n",
              "      border-color: transparent;\n",
              "      border-left-color: var(--fill-color);\n",
              "      border-top-color: var(--fill-color);\n",
              "    }\n",
              "    30% {\n",
              "      border-color: transparent;\n",
              "      border-left-color: var(--fill-color);\n",
              "      border-top-color: var(--fill-color);\n",
              "      border-right-color: var(--fill-color);\n",
              "    }\n",
              "    40% {\n",
              "      border-color: transparent;\n",
              "      border-right-color: var(--fill-color);\n",
              "      border-top-color: var(--fill-color);\n",
              "    }\n",
              "    60% {\n",
              "      border-color: transparent;\n",
              "      border-right-color: var(--fill-color);\n",
              "    }\n",
              "    80% {\n",
              "      border-color: transparent;\n",
              "      border-right-color: var(--fill-color);\n",
              "      border-bottom-color: var(--fill-color);\n",
              "    }\n",
              "    90% {\n",
              "      border-color: transparent;\n",
              "      border-bottom-color: var(--fill-color);\n",
              "    }\n",
              "  }\n",
              "</style>\n",
              "\n",
              "  <script>\n",
              "    async function quickchart(key) {\n",
              "      const quickchartButtonEl =\n",
              "        document.querySelector('#' + key + ' button');\n",
              "      quickchartButtonEl.disabled = true;  // To prevent multiple clicks.\n",
              "      quickchartButtonEl.classList.add('colab-df-spinner');\n",
              "      try {\n",
              "        const charts = await google.colab.kernel.invokeFunction(\n",
              "            'suggestCharts', [key], {});\n",
              "      } catch (error) {\n",
              "        console.error('Error during call to suggestCharts:', error);\n",
              "      }\n",
              "      quickchartButtonEl.classList.remove('colab-df-spinner');\n",
              "      quickchartButtonEl.classList.add('colab-df-quickchart-complete');\n",
              "    }\n",
              "    (() => {\n",
              "      let quickchartButtonEl =\n",
              "        document.querySelector('#df-aa6dbfc9-ad6f-4c76-b8f7-ebc92b3bfd5a button');\n",
              "      quickchartButtonEl.style.display =\n",
              "        google.colab.kernel.accessAllowed ? 'block' : 'none';\n",
              "    })();\n",
              "  </script>\n",
              "</div>\n",
              "    </div>\n",
              "  </div>\n"
            ],
            "text/plain": [
              "    12   13  13 novembr   14  14 an  14 an emmet   15  15 avril  \\\n",
              "0  0.0  0.0         0.0  0.0    0.0          0.0  0.0       0.0   \n",
              "1  0.0  0.0         0.0  0.0    0.0          0.0  0.0       0.0   \n",
              "2  0.0  0.0         0.0  0.0    0.0          0.0  0.0       0.0   \n",
              "3  0.0  0.0         0.0  0.0    0.0          0.0  0.0       0.0   \n",
              "4  0.0  0.0         0.0  0.0    0.0          0.0  0.0       0.0   \n",
              "\n",
              "   15 avril 2019  1516  ...  yut qui mem  zaph   zo  zo et  zo et vient  \\\n",
              "0            0.0   0.0  ...          0.0   0.0  0.0    0.0          0.0   \n",
              "1            0.0   0.0  ...          0.0   0.0  0.0    0.0          0.0   \n",
              "2            0.0   0.0  ...          0.0   0.0  0.0    0.0          0.0   \n",
              "3            0.0   0.0  ...          0.0   0.0  0.0    0.0          0.0   \n",
              "4            0.0   0.0  ...          0.0   0.0  0.0    0.0          0.0   \n",
              "\n",
              "   zo grand  zo grand au  zomb  zomb entre  zomb entre technicien  \n",
              "0       0.0          0.0   0.0         0.0                    0.0  \n",
              "1       0.0          0.0   0.0         0.0                    0.0  \n",
              "2       0.0          0.0   0.0         0.0                    0.0  \n",
              "3       0.0          0.0   0.0         0.0                    0.0  \n",
              "4       0.0          0.0   0.0         0.0                    0.0  \n",
              "\n",
              "[5 rows x 8416 columns]"
            ]
          },
          "execution_count": 87,
          "metadata": {},
          "output_type": "execute_result"
        }
      ],
      "source": [
        "from sklearn.feature_extraction.text import TfidfVectorizer\n",
        "import pandas as pd\n",
        "\n",
        "# TF-IDF vectorizer\n",
        "tfidf_vectorizer = TfidfVectorizer(norm='l2', ngram_range=(1, 3),max_df=0.9, min_df=1)\n",
        "\n",
        "# Fit and transform sur les rasume\n",
        "tfidf_matrix = tfidf_vectorizer.fit_transform(df_nouveau_resume_nlp_copy['Résumé_propre'])\n",
        "\n",
        "# feature names (words)\n",
        "feature_names = tfidf_vectorizer.get_feature_names_out()\n",
        "\n",
        "# Conversion matrice TF-IDF en DataFrame\n",
        "tfidf_df = pd.DataFrame(tfidf_matrix.toarray(), columns=feature_names)\n",
        "tfidf_df.head()\n"
      ]
    },
    {
      "cell_type": "code",
      "execution_count": null,
      "metadata": {
        "colab": {
          "base_uri": "https://localhost:8080/"
        },
        "id": "4yE2L8XLj2A_",
        "outputId": "f52d77d9-cbd2-4383-ff72-3fcabfe21760"
      },
      "outputs": [
        {
          "name": "stdout",
          "output_type": "stream",
          "text": [
            "Mapping des classes : {'Action': 0, 'Animation': 1, 'Aventure': 2, 'Biopic': 3, 'Comédie': 4, 'Comédie dramatique': 5, 'Drame': 6, 'Fantastique': 7, 'Guerre': 8, 'Historique': 9, 'Policier': 10, 'Romance': 11, 'Science Fiction': 12, 'Thriller': 13}\n"
          ]
        }
      ],
      "source": [
        "from sklearn.preprocessing import LabelEncoder\n",
        "\n",
        "#  LabelEncoder pour encoder variable cycle Type_1\n",
        "label_encoder = LabelEncoder()\n",
        "df_nouveau_resume_nlp_copy[\"Type_1_encoded\"] = label_encoder.fit_transform(df_nouveau_resume_nlp_copy[\"Type_1\"])\n",
        "# mapping entre les classes originales et les valeurs encodées\n",
        "class_mapping = dict(zip(label_encoder.classes_, label_encoder.transform(label_encoder.classes_)))\n",
        "print(\"Mapping des classes :\", class_mapping)\n"
      ]
    },
    {
      "cell_type": "markdown",
      "metadata": {
        "id": "fqiHQgPFl0fp"
      },
      "source": [
        "# Ransdom Forest"
      ]
    },
    {
      "cell_type": "code",
      "execution_count": null,
      "metadata": {
        "colab": {
          "base_uri": "https://localhost:8080/"
        },
        "id": "07y-mddGj2CR",
        "outputId": "fe6819dc-35ee-4d17-aa9b-8a6ead77ea7e"
      },
      "outputs": [
        {
          "name": "stdout",
          "output_type": "stream",
          "text": [
            "Rapport de classification :\n",
            "                    precision    recall  f1-score   support\n",
            "\n",
            "            Action       0.00      0.00      0.00         3\n",
            "         Animation       0.00      0.00      0.00         5\n",
            "           Comédie       0.00      0.00      0.00         1\n",
            "Comédie dramatique       0.00      0.00      0.00         2\n",
            "             Drame       0.25      1.00      0.40         5\n",
            "        Historique       0.00      0.00      0.00         2\n",
            "   Science Fiction       0.00      0.00      0.00         1\n",
            "          Thriller       0.00      0.00      0.00         1\n",
            "\n",
            "          accuracy                           0.25        20\n",
            "         macro avg       0.03      0.12      0.05        20\n",
            "      weighted avg       0.06      0.25      0.10        20\n",
            "\n"
          ]
        },
        {
          "name": "stderr",
          "output_type": "stream",
          "text": [
            "/usr/local/lib/python3.10/dist-packages/sklearn/metrics/_classification.py:1344: UndefinedMetricWarning:\n",
            "\n",
            "Precision and F-score are ill-defined and being set to 0.0 in labels with no predicted samples. Use `zero_division` parameter to control this behavior.\n",
            "\n",
            "/usr/local/lib/python3.10/dist-packages/sklearn/metrics/_classification.py:1344: UndefinedMetricWarning:\n",
            "\n",
            "Precision and F-score are ill-defined and being set to 0.0 in labels with no predicted samples. Use `zero_division` parameter to control this behavior.\n",
            "\n",
            "/usr/local/lib/python3.10/dist-packages/sklearn/metrics/_classification.py:1344: UndefinedMetricWarning:\n",
            "\n",
            "Precision and F-score are ill-defined and being set to 0.0 in labels with no predicted samples. Use `zero_division` parameter to control this behavior.\n",
            "\n"
          ]
        }
      ],
      "source": [
        "\n",
        "from sklearn.model_selection import train_test_split\n",
        "from sklearn.ensemble import RandomForestClassifier\n",
        "from sklearn.metrics import classification_report\n",
        "\n",
        "# Division Ensemble de données en train et test\n",
        "X_train, X_test, y_train, y_test = train_test_split(tfidf_df, df_nouveau_resume_nlp_copy[\"Type_1\"], test_size=0.2, random_state=42)\n",
        "\n",
        "# Comptez le nombre d'échantillons pour chaque classe dans l'ensemble d'entraînement pour limité le desequilibre\n",
        "class_counts = y_train.value_counts()\n",
        "\n",
        "# dictionnaire de poids de classe inversément proportionnels au nombre d'échantillons\n",
        "class_weights = {label: 1 / count for label, count in class_counts.items()}\n",
        "\n",
        "# modèle Random Forest avec les poids de classe et 500 arbres\n",
        "rf_classifier = RandomForestClassifier(n_estimators=500, random_state=42, class_weight=class_weights)\n",
        "\n",
        "# Entraînement du modèle sur l'ensemble d'entraînement\n",
        "rf_classifier.fit(X_train, y_train)\n",
        "\n",
        "# Prédiction sur l'ensemble de test\n",
        "y_pred = rf_classifier.predict(X_test)\n",
        "\n",
        "# Évaluation des performances du modèle\n",
        "print(\"Rapport de classification :\")\n",
        "print(classification_report(y_test, y_pred))\n"
      ]
    },
    {
      "cell_type": "code",
      "execution_count": null,
      "metadata": {
        "colab": {
          "base_uri": "https://localhost:8080/",
          "height": 851
        },
        "id": "O1MZ8L3sj2Dk",
        "outputId": "c1cfe1c8-6786-4674-a697-b9dd061a4910"
      },
      "outputs": [
        {
          "data": {
            "image/png": "[encoded data removed]",
            "text/plain": [
              "<Figure size 1000x800 with 2 Axes>"
            ]
          },
          "metadata": {},
          "output_type": "display_data"
        }
      ],
      "source": [
        "from sklearn.metrics import confusion_matrix\n",
        "import seaborn as sns\n",
        "import matplotlib.pyplot as plt\n",
        "\n",
        "# matrice de confusion\n",
        "conf_matrix = confusion_matrix(y_test, y_pred)\n",
        "\n",
        "# Affichage matrice de confusion avec seaborn\n",
        "plt.figure(figsize=(10, 8))\n",
        "sns.heatmap(conf_matrix, annot=True, fmt='d', cmap='Blues', xticklabels=rf_classifier.classes_, yticklabels=rf_classifier.classes_)\n",
        "plt.title('Matrice de Confusion')\n",
        "plt.xlabel('Prédictions')\n",
        "plt.ylabel('Vraies étiquettes')\n",
        "plt.show()\n"
      ]
    },
    {
      "cell_type": "code",
      "execution_count": null,
      "metadata": {
        "colab": {
          "base_uri": "https://localhost:8080/"
        },
        "id": "HhI-4kjXj2FI",
        "outputId": "d0420605-cd89-4be3-85ba-4c5958389c72"
      },
      "outputs": [
        {
          "name": "stdout",
          "output_type": "stream",
          "text": [
            "Accuracy: 0.25\n"
          ]
        }
      ],
      "source": [
        "from sklearn.metrics import accuracy_score\n",
        "# Accuracy\n",
        "accuracy = accuracy_score(y_test, y_pred)\n",
        "print(\"Accuracy:\", accuracy)\n"
      ]
    },
    {
      "cell_type": "code",
      "execution_count": null,
      "metadata": {
        "colab": {
          "base_uri": "https://localhost:8080/"
        },
        "id": "OBfoeneNj2Gg",
        "outputId": "51aa6f53-594a-473d-bf55-d04e73f4b0b3"
      },
      "outputs": [
        {
          "name": "stdout",
          "output_type": "stream",
          "text": [
            "Accuracy on Training Set: 1.0\n"
          ]
        }
      ],
      "source": [
        "# Accuracy ensemble train\n",
        "from sklearn.metrics import accuracy_score\n",
        "\n",
        "# Prédisez sur l'ensemble d'entraînement\n",
        "y_train_pred = rf_classifier.predict(X_train)\n",
        "\n",
        "# Calculez l'accuracy sur l'ensemble d'entraînement\n",
        "accuracy_train = accuracy_score(y_train, y_train_pred)\n",
        "print(\"Accuracy on Training Set:\", accuracy_train)\n",
        "#Accuracy on Training Set: 1.0"
      ]
    },
    {
      "cell_type": "code",
      "execution_count": null,
      "metadata": {
        "colab": {
          "base_uri": "https://localhost:8080/",
          "height": 851
        },
        "id": "Dx1WwsFrj2H6",
        "outputId": "f9f7deec-8698-450a-a108-6e246c224af1"
      },
      "outputs": [
        {
          "data": {
            "image/png": "[encoded data removed]",
            "text/plain": [
              "<Figure size 1000x800 with 2 Axes>"
            ]
          },
          "metadata": {},
          "output_type": "display_data"
        }
      ],
      "source": [
        "from sklearn.metrics import confusion_matrix\n",
        "import seaborn as sns\n",
        "import matplotlib.pyplot as plt\n",
        "\n",
        "# Prédisez sur l'ensemble d'entraînement\n",
        "y_train_pred = rf_classifier.predict(X_train)\n",
        "\n",
        "# Calculez la matrice de confusion\n",
        "conf_matrix_train = confusion_matrix(y_train, y_train_pred)\n",
        "\n",
        "# Affichez la matrice de confusion avec seaborn\n",
        "plt.figure(figsize=(10, 8))\n",
        "sns.heatmap(conf_matrix_train, annot=True, fmt='d', cmap='Blues', xticklabels=class_mapping.keys(), yticklabels=class_mapping.keys())\n",
        "plt.xlabel('Prédictions')\n",
        "plt.ylabel('Vraies valeurs')\n",
        "plt.title('Matrice de confusion - Ensemble d\\'entraînement')\n",
        "plt.show()\n"
      ]
    },
    {
      "cell_type": "markdown",
      "metadata": {
        "id": "L02kgAlmmA0i"
      },
      "source": [
        "# Modele 2 : Vectorisation avec FastText"
      ]
    },
    {
      "cell_type": "code",
      "execution_count": null,
      "metadata": {
        "colab": {
          "base_uri": "https://localhost:8080/"
        },
        "id": "DvSwbLf1j2JL",
        "outputId": "c0c2c6a0-3e2a-4eb8-8534-9b10724090ba"
      },
      "outputs": [
        {
          "name": "stdout",
          "output_type": "stream",
          "text": [
            "Requirement already satisfied: gensim in /usr/local/lib/python3.10/dist-packages (4.3.2)\n",
            "Requirement already satisfied: numpy>=1.18.5 in /usr/local/lib/python3.10/dist-packages (from gensim) (1.23.5)\n",
            "Requirement already satisfied: scipy>=1.7.0 in /usr/local/lib/python3.10/dist-packages (from gensim) (1.11.4)\n",
            "Requirement already satisfied: smart-open>=1.8.1 in /usr/local/lib/python3.10/dist-packages (from gensim) (6.4.0)\n"
          ]
        }
      ],
      "source": [
        "!pip install gensim"
      ]
    },
    {
      "cell_type": "markdown",
      "metadata": {
        "id": "ST4pfpUtmE-G"
      },
      "source": [
        "# FastText"
      ]
    },
    {
      "cell_type": "markdown",
      "metadata": {
        "id": "7a62AitTmGFj"
      },
      "source": [
        "Pendant l'entraînement du modèle Word2Vec ou FastText, les vecteurs sont ajustés de manière à ce que les mots ayant des contextes similaires aient des représentations vectorielles similaires. Ainsi, si deux mots ont des vecteurs similaires, cela suggère qu'ils sont utilisés dans des contextes similaires et partagent des propriétés sémantiques.\n"
      ]
    },
    {
      "cell_type": "code",
      "execution_count": null,
      "metadata": {
        "id": "3XFnmWIOj2Kv"
      },
      "outputs": [],
      "source": [
        "# Création d'un modèle FastText sur le corpus\n",
        "from gensim.models import FastText\n",
        "from gensim.utils import simple_preprocess\n",
        "\n",
        "# Tokenisation du corpus\n",
        "tokenized_corpus = [simple_preprocess(text) for text in df_nouveau_resume_nlp_copy['Résumé_propre']]\n",
        "\n",
        "# Création du modèle FastText\n",
        "new_fasttext_model = FastText(\n",
        "    sentences=tokenized_corpus,\n",
        "    vector_size=300,  # La dimension des vecteurs de mots\n",
        "    window=5,         # La taille de la fenêtre contextuelle\n",
        "    min_count=1,      # Le nombre minimum d'occurrences d'un mot pour être inclus\n",
        "    workers=4,        # Le nombre de threads utilisés pendant l'entraînement\n",
        "    sg=1              # L'utilisation de Skip-gram (sg=1) ou CBOW (sg=0)\n",
        ")\n",
        "\n",
        "# Enregistrement du nouveau modèle\n",
        "new_fasttext_model.save('/content/fasttext.model')\n"
      ]
    },
    {
      "cell_type": "code",
      "execution_count": null,
      "metadata": {
        "colab": {
          "base_uri": "https://localhost:8080/"
        },
        "id": "hG-4qyrakfmz",
        "outputId": "13bfb46c-c66e-4e5c-e267-1d3674354513"
      },
      "outputs": [
        {
          "name": "stdout",
          "output_type": "stream",
          "text": [
            "Rapport de classification :\n",
            "              precision    recall  f1-score   support\n",
            "\n",
            "           0       0.00      0.00      0.00         3\n",
            "           1       0.00      0.00      0.00         5\n",
            "           2       0.00      0.00      0.00         0\n",
            "           3       0.00      0.00      0.00         0\n",
            "           4       0.00      0.00      0.00         1\n",
            "           5       0.00      0.00      0.00         2\n",
            "           6       0.30      0.60      0.40         5\n",
            "           9       0.00      0.00      0.00         2\n",
            "          12       0.00      0.00      0.00         1\n",
            "          13       0.00      0.00      0.00         1\n",
            "\n",
            "    accuracy                           0.15        20\n",
            "   macro avg       0.03      0.06      0.04        20\n",
            "weighted avg       0.07      0.15      0.10        20\n",
            "\n"
          ]
        },
        {
          "name": "stderr",
          "output_type": "stream",
          "text": [
            "/usr/local/lib/python3.10/dist-packages/sklearn/metrics/_classification.py:1344: UndefinedMetricWarning:\n",
            "\n",
            "Precision and F-score are ill-defined and being set to 0.0 in labels with no predicted samples. Use `zero_division` parameter to control this behavior.\n",
            "\n",
            "/usr/local/lib/python3.10/dist-packages/sklearn/metrics/_classification.py:1344: UndefinedMetricWarning:\n",
            "\n",
            "Recall and F-score are ill-defined and being set to 0.0 in labels with no true samples. Use `zero_division` parameter to control this behavior.\n",
            "\n",
            "/usr/local/lib/python3.10/dist-packages/sklearn/metrics/_classification.py:1344: UndefinedMetricWarning:\n",
            "\n",
            "Precision and F-score are ill-defined and being set to 0.0 in labels with no predicted samples. Use `zero_division` parameter to control this behavior.\n",
            "\n",
            "/usr/local/lib/python3.10/dist-packages/sklearn/metrics/_classification.py:1344: UndefinedMetricWarning:\n",
            "\n",
            "Recall and F-score are ill-defined and being set to 0.0 in labels with no true samples. Use `zero_division` parameter to control this behavior.\n",
            "\n",
            "/usr/local/lib/python3.10/dist-packages/sklearn/metrics/_classification.py:1344: UndefinedMetricWarning:\n",
            "\n",
            "Precision and F-score are ill-defined and being set to 0.0 in labels with no predicted samples. Use `zero_division` parameter to control this behavior.\n",
            "\n",
            "/usr/local/lib/python3.10/dist-packages/sklearn/metrics/_classification.py:1344: UndefinedMetricWarning:\n",
            "\n",
            "Recall and F-score are ill-defined and being set to 0.0 in labels with no true samples. Use `zero_division` parameter to control this behavior.\n",
            "\n"
          ]
        }
      ],
      "source": [
        "# Importation des bibliothèques nécessaires\n",
        "from gensim.models import FastText\n",
        "from gensim.utils import simple_preprocess\n",
        "from sklearn.ensemble import RandomForestClassifier\n",
        "from sklearn.metrics import classification_report\n",
        "import numpy as np\n",
        "\n",
        "# Tokenisation du corpus\n",
        "tokenized_corpus = [simple_preprocess(text) for text in df_nouveau_resume_nlp_copy['Résumé_propre']]\n",
        "\n",
        "# Chargement du nouveau modèle FastText\n",
        "new_fasttext_model = FastText.load('/content/fasttext.model')\n",
        "\n",
        "# Prétraitement du texte avec le nouveau modèle\n",
        "df_nouveau_resume_nlp_copy['Cleaned_Text'] = df_nouveau_resume_nlp_copy['Résumé_propre'].apply(clean_text_french)\n",
        "\n",
        "# Division ensemble de données en train et test\n",
        "X_train, X_test, y_train, y_test = train_test_split(\n",
        "    df_nouveau_resume_nlp_copy['Cleaned_Text'],\n",
        "    df_nouveau_resume_nlp_copy['Type_1_encoded'],\n",
        "    test_size=0.2,\n",
        "    random_state=42\n",
        ")\n",
        "\n",
        "# Tokenisation (division en mots) pour le nouveau modèle FastText\n",
        "tokenized_text_train = [simple_preprocess(text) for text in X_train]\n",
        "tokenized_text_test = [simple_preprocess(text) for text in X_test]\n",
        "\n",
        "# Fonction pour créer des vecteurs de texte avec le nouveau modèle FastText\n",
        "def get_average_vector(text, model, vector_size):\n",
        "    vectors = [model.wv[word] for word in text if word in model.wv]\n",
        "    if not vectors:\n",
        "        return np.zeros(vector_size)\n",
        "    return np.mean(vectors, axis=0)\n",
        "\n",
        "# Création des vecteurs de texte pour l'ensemble d'entraînement et de test\n",
        "X_train_vectors = [get_average_vector(text, new_fasttext_model, 300) for text in tokenized_text_train]\n",
        "X_test_vectors = [get_average_vector(text, new_fasttext_model, 300) for text in tokenized_text_test]\n",
        "\n",
        "# Création du modèle Random Forest\n",
        "rf_classifier = RandomForestClassifier(n_estimators=500, random_state=42)\n",
        "\n",
        "# Entraînement du modèle sur l'ensemble d'entraînement\n",
        "rf_classifier.fit(X_train_vectors, y_train)\n",
        "\n",
        "# Prédiction sur l'ensemble de test\n",
        "y_pred = rf_classifier.predict(X_test_vectors)\n",
        "\n",
        "# Évaluation des performances du modèle\n",
        "print(\"Rapport de classification :\")\n",
        "print(classification_report(y_test, y_pred))\n"
      ]
    },
    {
      "cell_type": "code",
      "execution_count": null,
      "metadata": {
        "id": "cSigKuL0yFnQ",
        "outputId": "b1ec841a-9bfc-41e6-b3fd-9edd81450faf"
      },
      "outputs": [
        {
          "name": "stderr",
          "output_type": "stream",
          "text": [
            "/Users/melanieyakoub/anaconda3/envs/Projet_CO2_Melanie/lib/python3.11/site-packages/sklearn/utils/validation.py:605: FutureWarning: is_sparse is deprecated and will be removed in a future version. Check `isinstance(dtype, pd.SparseDtype)` instead.\n",
            "  if is_sparse(pd_dtype):\n",
            "/Users/melanieyakoub/anaconda3/envs/Projet_CO2_Melanie/lib/python3.11/site-packages/sklearn/utils/validation.py:614: FutureWarning: is_sparse is deprecated and will be removed in a future version. Check `isinstance(dtype, pd.SparseDtype)` instead.\n",
            "  if is_sparse(pd_dtype) or not is_extension_array_dtype(pd_dtype):\n",
            "/Users/melanieyakoub/anaconda3/envs/Projet_CO2_Melanie/lib/python3.11/site-packages/sklearn/utils/validation.py:605: FutureWarning: is_sparse is deprecated and will be removed in a future version. Check `isinstance(dtype, pd.SparseDtype)` instead.\n",
            "  if is_sparse(pd_dtype):\n",
            "/Users/melanieyakoub/anaconda3/envs/Projet_CO2_Melanie/lib/python3.11/site-packages/sklearn/utils/validation.py:614: FutureWarning: is_sparse is deprecated and will be removed in a future version. Check `isinstance(dtype, pd.SparseDtype)` instead.\n",
            "  if is_sparse(pd_dtype) or not is_extension_array_dtype(pd_dtype):\n",
            "/Users/melanieyakoub/anaconda3/envs/Projet_CO2_Melanie/lib/python3.11/site-packages/sklearn/utils/validation.py:605: FutureWarning: is_sparse is deprecated and will be removed in a future version. Check `isinstance(dtype, pd.SparseDtype)` instead.\n",
            "  if is_sparse(pd_dtype):\n",
            "/Users/melanieyakoub/anaconda3/envs/Projet_CO2_Melanie/lib/python3.11/site-packages/sklearn/utils/validation.py:614: FutureWarning: is_sparse is deprecated and will be removed in a future version. Check `isinstance(dtype, pd.SparseDtype)` instead.\n",
            "  if is_sparse(pd_dtype) or not is_extension_array_dtype(pd_dtype):\n"
          ]
        },
        {
          "data": {
            "image/png": "[encoded data removed]",
            "text/plain": [
              "<Figure size 800x600 with 2 Axes>"
            ]
          },
          "metadata": {},
          "output_type": "display_data"
        }
      ],
      "source": [
        "# Importation des bibliothèques nécessaires\n",
        "from sklearn.metrics import confusion_matrix\n",
        "import seaborn as sns\n",
        "import matplotlib.pyplot as plt\n",
        "\n",
        "# Prédiction sur l'ensemble de test\n",
        "y_pred = rf_classifier.predict(X_test_vectors)\n",
        "\n",
        "# Obtention des noms de classe réels et prédits\n",
        "class_names = list(class_mapping.keys())\n",
        "\n",
        "# Calcul de la matrice de confusion\n",
        "conf_matrix = confusion_matrix(y_test, y_pred)\n",
        "\n",
        "# Affichage de la matrice de confusion avec seaborn\n",
        "plt.figure(figsize=(8, 6))\n",
        "sns.heatmap(conf_matrix, annot=True, fmt='d', cmap='Blues', xticklabels=class_names, yticklabels=class_names)\n",
        "plt.xlabel('Classe Prédite')\n",
        "plt.ylabel('Classe Réelle')\n",
        "plt.title('Matrice de Confusion - Ensemble de Test')\n",
        "plt.show()\n"
      ]
    },
    {
      "cell_type": "markdown",
      "metadata": {
        "id": "HT9BrtHsmRUQ"
      },
      "source": [
        "Nous observons une amélioration dans la diversité des prédictions grâce à cette technique de vectorisation, laquelle pourrait être encore plus optimisée en utilisant un modèle FastText pré-entraîné, suivi d'une étape de fine-tuning sur notre corpus spécifique."
      ]
    },
    {
      "cell_type": "code",
      "execution_count": null,
      "metadata": {
        "colab": {
          "base_uri": "https://localhost:8080/"
        },
        "id": "9fXRspD9kfrN",
        "outputId": "5a05c482-8bd2-4f13-a5fc-7bd6ac4bb812"
      },
      "outputs": [
        {
          "name": "stdout",
          "output_type": "stream",
          "text": [
            "Accuracy: 0.1500\n"
          ]
        }
      ],
      "source": [
        "from sklearn.metrics import accuracy_score\n",
        "\n",
        "# accuracy à partir de la matrice de confusion\n",
        "accuracy = accuracy_score(y_test, y_pred)\n",
        "print(f'Accuracy: {accuracy:.4f}')\n"
      ]
    },
    {
      "cell_type": "code",
      "execution_count": null,
      "metadata": {
        "colab": {
          "base_uri": "https://localhost:8080/",
          "height": 697
        },
        "id": "Uc5z47Rokfst",
        "outputId": "c31a0432-55ee-43c2-fea9-4b1d39998cba"
      },
      "outputs": [
        {
          "data": {
            "image/png": "[encoded data removed]",
            "text/plain": [
              "<Figure size 800x600 with 2 Axes>"
            ]
          },
          "metadata": {},
          "output_type": "display_data"
        }
      ],
      "source": [
        "# Prédiction sur l'ensemble d'entraînement\n",
        "y_train_pred = rf_classifier.predict(X_train_vectors)\n",
        "\n",
        "#  matrice de confusion pour l'ensemble d'entraînement\n",
        "conf_matrix_train = confusion_matrix(y_train, y_train_pred)\n",
        "plt.figure(figsize=(8, 6))\n",
        "sns.heatmap(conf_matrix_train, annot=True, fmt='d', cmap='Blues', xticklabels=class_names, yticklabels=class_names)\n",
        "plt.xlabel('Classe Prédite')\n",
        "plt.ylabel('Classe Réelle')\n",
        "plt.title('Matrice de Confusion - Ensemble d\\'Entraînement')\n",
        "plt.show()\n"
      ]
    },
    {
      "cell_type": "code",
      "execution_count": null,
      "metadata": {
        "id": "35Xp_-fMkf0d"
      },
      "outputs": [],
      "source": []
    },
    {
      "cell_type": "code",
      "execution_count": null,
      "metadata": {
        "id": "EPw0KevPj2MG"
      },
      "outputs": [],
      "source": []
    },
    {
      "cell_type": "code",
      "execution_count": null,
      "metadata": {
        "id": "_YMeRSS5j2P4"
      },
      "outputs": [],
      "source": []
    }
  ],
  "metadata": {
    "colab": {
      "provenance": []
    },
    "kernelspec": {
      "display_name": "Python 3",
      "name": "python3"
    },
    "language_info": {
      "name": "python"
    }
  },
  "nbformat": 4,
  "nbformat_minor": 0
}
